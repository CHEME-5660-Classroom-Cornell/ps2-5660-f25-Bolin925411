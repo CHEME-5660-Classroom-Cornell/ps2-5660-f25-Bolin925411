{
 "cells": [
  {
   "cell_type": "markdown",
   "id": "57dd9915-cbd9-4908-aa0a-1d2cee1b44b0",
   "metadata": {
    "tags": []
   },
   "source": [
    "# PS2: Binomial Lattice Simulation of Stylized Facts\n",
    "In this problem set, you will explore by simulation whether a simple binomial lattice model can replicate stylized facts of equity returns. We've derived the binomial lattice model in class, and our analysis suggested that it can replicate some, but not all, of the stylized facts of equity returns.\n",
    "\n",
    "> __Learning Objectives:__\n",
    ">\n",
    "> * **Parameter Estimation from Historical Data**: In this task, estimate binomial lattice parameters ($u$, $d$, $p$) from real market data by analyzing S&P 500 firm growth rates and implementing the real-world probability measure estimation algorithm.\n",
    "> * **Lattice Model Implementation and Validation**: Next, we'll build and populate binomial price trees using estimated parameters, then evaluate model performance by comparing simulated price paths with actual market data using confidence intervals and functional success tests.\n",
    "> * **Stylized Facts Analysis**: Lastly, we'll investigate whether binomial lattice models can replicate key empirical features of financial returns by testing autocorrelation properties, examining growth rate distributions, and applying statistical tests like Anderson-Darling to assess normality assumptions.\n",
    "\n",
    "\n",
    "Let's get started!\n",
    "___"
   ]
  },
  {
   "cell_type": "markdown",
   "id": "7abe30da-5563-492e-82ea-892c472683eb",
   "metadata": {
    "tags": []
   },
   "source": [
    "## Setup, Data, and Prerequisites\n",
    "First, we set up the computational environment by including the `Include.jl` file and loading any needed resources.\n",
    "\n",
    ">__Include:__ The [`include(...)` command](https://docs.julialang.org/en/v1/base/base/#include) evaluates the contents of the input source file, `Include.jl`, in the notebook's global scope. The `Include.jl` file sets paths, loads required external packages, etc. For additional information on functions and types used in this material, see the [Julia programming language documentation](https://docs.julialang.org/en/v1/). \n",
    "\n",
    "Let's set up our code environment:"
   ]
  },
  {
   "cell_type": "code",
   "execution_count": 376,
   "id": "44c62894-3bb8-4fe1-b020-d17d2ca28d74",
   "metadata": {
    "tags": []
   },
   "outputs": [],
   "source": [
    "include(joinpath(@__DIR__, \"Include.jl\")); # include the Include.jl file"
   ]
  },
  {
   "cell_type": "markdown",
   "id": "6ae2088b",
   "metadata": {},
   "source": [
    "For additional information on functions and types used in this material, see the [Julia programming language documentation](https://docs.julialang.org/en/v1/) and the [VLQuantitativeFinancePackage.jl documentation](https://github.com/varnerlab/VLQuantitativeFinancePackage.jl). "
   ]
  },
  {
   "cell_type": "markdown",
   "id": "2b146331",
   "metadata": {},
   "source": [
    "### Data\n",
    "We gathered daily open-high-low-close (OHLC) data for each firm in the [S&P500](https://en.wikipedia.org/wiki/S%26P_500) from `01-03-2014` until `12-31-2024`, along with data for a few exchange-traded funds and volatility products during that time period. \n",
    "\n",
    "Let's load the `original_dataset::DataFrame` by calling [the `MyTrainingMarketDataSet()` function](https://varnerlab.github.io/VLQuantitativeFinancePackage.jl/dev/data/#VLQuantitativeFinancePackage.MyTrainingMarketDataSet) and remove firms that do not have the maximum number of trading days. The cleaned dataset $\\mathcal{D}$ will be stored in the `dataset` variable."
   ]
  },
  {
   "cell_type": "code",
   "execution_count": 377,
   "id": "e79f32c4",
   "metadata": {},
   "outputs": [],
   "source": [
    "original_dataset = MyTrainingMarketDataSet() |> x-> x[\"dataset\"];"
   ]
  },
  {
   "cell_type": "markdown",
   "id": "8064e7b0",
   "metadata": {},
   "source": [
    "Not all tickers in our dataset have the maximum number of trading days for various reasons, e.g., acquisition or delisting events. Let's collect only those tickers with the maximum number of trading days.\n",
    "\n",
    "First, let's compute the number of records for a firm that we know has the maximum value, e.g., `AAPL`, and save that value in the `maximum_number_trading_days::Int64` variable:"
   ]
  },
  {
   "cell_type": "code",
   "execution_count": 378,
   "id": "94af0e1f",
   "metadata": {},
   "outputs": [
    {
     "data": {
      "text/plain": [
       "2767"
      ]
     },
     "metadata": {},
     "output_type": "display_data"
    }
   ],
   "source": [
    "maximum_number_trading_days = original_dataset[\"AAPL\"] |> nrow # nrow returns the number of rows (check out: DataFrames.jl)"
   ]
  },
  {
   "cell_type": "markdown",
   "id": "3bb2adcc",
   "metadata": {},
   "source": [
    "Now, let's iterate through our data and collect only tickers with `maximum_number_trading_days` records. We'll save that data in the `dataset::Dict{String,DataFrame}` variable:"
   ]
  },
  {
   "cell_type": "code",
   "execution_count": 379,
   "id": "40c91e91",
   "metadata": {},
   "outputs": [],
   "source": [
    "dataset = let\n",
    "\n",
    "    # initialize -\n",
    "    dataset = Dict{String, DataFrame}();\n",
    "\n",
    "    # iterate through the dictionary; we can't guarantee a particular order\n",
    "    for (ticker, data) ∈ original_dataset  # we get each (K, V) pair!\n",
    "        if (nrow(data) == maximum_number_trading_days) # check if this firm has the maximum number of trading days\n",
    "            dataset[ticker] = data;\n",
    "        end\n",
    "    end\n",
    "    dataset; # return\n",
    "end;"
   ]
  },
  {
   "cell_type": "markdown",
   "id": "420fa03d",
   "metadata": {},
   "source": [
    "How many firms do we have with the full number of trading days? Let's use [the `length(...)` method](https://docs.julialang.org/en/v1/base/collections/#Base.length) — notice this works for dictionaries, in addition to arrays, sets, and other collections."
   ]
  },
  {
   "cell_type": "code",
   "execution_count": 380,
   "id": "5eb683ba",
   "metadata": {},
   "outputs": [
    {
     "data": {
      "text/plain": [
       "424"
      ]
     },
     "metadata": {},
     "output_type": "display_data"
    }
   ],
   "source": [
    "length(dataset) # tells us how many keys are in the dictionary (i.e., how many firms in our dataset)"
   ]
  },
  {
   "cell_type": "markdown",
   "id": "51137681",
   "metadata": {},
   "source": [
    "Finally, let's get a list of the firms in our cleaned dataset and sort them alphabetically. We store the sorted firm ticker symbols in the `list_of_tickers::Array{String,1}` variable."
   ]
  },
  {
   "cell_type": "code",
   "execution_count": 381,
   "id": "70d2fe4e",
   "metadata": {},
   "outputs": [],
   "source": [
    "list_of_tickers = keys(dataset) |> collect |> sort; # list of firm \"ticker\" symbols in alphabetical order"
   ]
  },
  {
   "cell_type": "markdown",
   "id": "4f554aed-3afc-4d8b-b902-a8f88ac95150",
   "metadata": {},
   "source": [
    "### Constants\n",
    "Finally, let's set some constants we'll use later in this notebook. The comments describe the constants, their units, and permissible values, etc."
   ]
  },
  {
   "cell_type": "code",
   "execution_count": 382,
   "id": "0bcc642b-e5e5-4188-bb63-9eddc59350b2",
   "metadata": {},
   "outputs": [],
   "source": [
    "TSIM = 42; # number of trading days to simulate\n",
    "Δt = (1.0/252.0); # step size: 1 trading day in units of years"
   ]
  },
  {
   "cell_type": "markdown",
   "id": "72c09619",
   "metadata": {},
   "source": [
    "___"
   ]
  },
  {
   "cell_type": "markdown",
   "id": "07824201-8993-4dfa-aeb5-7bedd874a6d2",
   "metadata": {
    "tags": []
   },
   "source": [
    "## Task 1: Estimate lattice parameters from historical data\n",
    "Now it's time to utilize historical data to compute a share price prediction. To create a binomial lattice model for future share prices, we must estimate three critical parameters: $p$, $u$, and $d$.\n",
    "\n",
    "> __Parameter Definitions__\n",
    ">\n",
    ">* The $p$ parameter represents the probability of a share price increase or an `up` move between two consecutive periods $j\\rightarrow{j+1}$. Since a binary lattice model only allows `up` and `down` moves, the probability of a `down` move is $1-p$.\n",
    ">* The $u$ parameter represents the magnitude of an `up` move. If $S_{j}$ denotes the share price in period $j$, and $S_{j+1}$ is the share price in the next period, then an `up` move results in $S_{j+1} = u\\cdot{S}_{j}$.\n",
    ">* The $d$ parameter represents the magnitude of a `down` move. If $S_{j}$ denotes the share price in period $j$, and $S_{j+1}$ is the share price in the next period, then a `down` move results in $S_{j+1} = d\\cdot{S}_{j}$.\n",
    "\n",
    "To start, let's select a firm from the dataset to explore."
   ]
  },
  {
   "cell_type": "code",
   "execution_count": 383,
   "id": "3d5cb68a-f29a-404a-9fad-76835711f664",
   "metadata": {},
   "outputs": [],
   "source": [
    "# random_firm_ticker = rand(list_of_tickers);\n",
    "random_firm_ticker = \"DAL\" # TODO: You change this to any ticker in the list_of_tickers!\n",
    "random_firm_index = findfirst(x-> x == random_firm_ticker, list_of_tickers);\n",
    "random_firm_data = dataset[random_firm_ticker];"
   ]
  },
  {
   "cell_type": "markdown",
   "id": "37d04dad-363d-440f-9a2e-cb06aa47a5f1",
   "metadata": {},
   "source": [
    "### Estimate the u, d, and probability p parameters from the data\n",
    "Let's estimate the up $u$ and down $d$ factors and the probability $p$ from historical data.\n",
    "\n",
    "__Initialize__: Given the growth rate sequence $\\{\\mu_{2},\\mu_{3},\\dots,\\mu_{T}\\}$ for firm $(i)$ (we omit the superscript $i$ for simplicity) and a time step $\\Delta{t} > 0$ (units: years), initialize the up factors collection $U = \\emptyset$ and down factors collection $D = \\emptyset$.\n",
    "\n",
    "1. For $t = 2,3,\\dots,T$, __do__:\n",
    "    - If $\\mu_{t} > 0$, then update $U \\leftarrow U \\cup \\{e^{\\mu_{t}\\Delta{t}}\\}$, where $U$ is a collection of up factors.\n",
    "    - If $\\mu_{t} < 0$, then update $D \\leftarrow D \\cup \\{e^{\\mu_{t}\\Delta{t}}\\}$, where $D$ is a collection of down factors.\n",
    "    - If $\\mu_{t} = 0$, skip (no price change).\n",
    "2. Compute the up factor $u$ as the mean of the up factors collection $U$: $u = \\frac{1}{|U|} \\sum_{v \\in U} v$.\n",
    "3. Compute the down factor $d$ as the mean of the down factors collection $D$: $d = \\frac{1}{|D|} \\sum_{v \\in D} v$.\n",
    "4. Compute the probability $p$ as the fraction of up movements: $p = \\frac{|U|}{|U| + |D|}$.\n",
    "\n",
    "We use daily data; thus, the natural time frame between $S_{j-1}$ and $S_{j}$ is a single day. However, it is more convenient to use an annualized value for the $\\mu$ parameter; thus, we let $\\Delta{t} = 1/252$, i.e., the fraction of a year that corresponds to a single trading day.\n",
    "\n",
    "The [`log_growth_matrix(...)` method](https://varnerlab.github.io/VLQuantitativeFinancePackage.jl/dev/equity/#VLQuantitativeFinancePackage.log_growth_matrix) takes the cleaned dataset $\\mathcal{D}$, which contains $T$ days of data for each firm, a list of firms $\\mathcal{L}$, and computes the growth rate values for each firm as a function of time. \n",
    "\n",
    "The data is returned as a $(T - 1)\\times\\dim\\mathcal{L}$ array (time on the rows, firm $i$ on the columns). We store the data in the `log_growth_array::Array{Float64,1}` variable:"
   ]
  },
  {
   "cell_type": "code",
   "execution_count": 384,
   "id": "b7a3b8e5-6927-4469-a7c4-5e95a5d8c5dd",
   "metadata": {},
   "outputs": [],
   "source": [
    "log_growth_array = let\n",
    "\n",
    "    # initialize -\n",
    "    log_growth_array = nothing;\n",
    "\n",
    "    # TODO: call the log_growth_matrix(...) function here to compute the log growth array for the randomly selected firm\n",
    "    # TODO: the function takes two inputs: (1) the dataset dictionary, and (2) the randomly selected firm ticker symbol\n",
    "    # TODO: uncomment the line below and re-run this cell to compute the log growth array\n",
    "    # log_growth_array = log_growth_matrix(dataset, random_firm_ticker); \n",
    "    log_growth_array=log_growth_matrix(dataset, random_firm_ticker)\n",
    "    log_growth_array ;# return\n",
    "end;"
   ]
  },
  {
   "cell_type": "markdown",
   "id": "6526af85",
   "metadata": {},
   "source": [
    "### Visualize the log growth rate distribution\n",
    "Let's visualize the distribution of log growth rates for our randomly selected firm to understand the data before estimating the lattice parameters."
   ]
  },
  {
   "cell_type": "code",
   "execution_count": 385,
   "id": "859b5d3e",
   "metadata": {},
   "outputs": [
    {
     "data": {
      "image/png": "[encoded data removed]",
      "image/svg+xml": [
       "<?xml version=\"1.0\" encoding=\"utf-8\"?>\n",
       "<svg xmlns=\"http://www.w3.org/2000/svg\" xmlns:xlink=\"http://www.w3.org/1999/xlink\" width=\"600\" height=\"400\" viewBox=\"0 0 2400 1600\">\n",
       "<defs>\n",
       "  <clipPath id=\"clip690\">\n",
       "    <rect x=\"0\" y=\"0\" width=\"2400\" height=\"1600\"/>\n",
       "  </clipPath>\n",
       "</defs>\n",
       "<path clip-path=\"url(#clip690)\" d=\"M0 1600 L2400 1600 L2400 8.88178e-14 L0 8.88178e-14  Z\" fill=\"#ffffff\" fill-rule=\"evenodd\" fill-opacity=\"1\"/>\n",
       "<defs>\n",
       "  <clipPath id=\"clip691\">\n",
       "    <rect x=\"480\" y=\"0\" width=\"1681\" height=\"1600\"/>\n",
       "  </clipPath>\n",
       "</defs>\n",
       "<path clip-path=\"url(#clip690)\" d=\"M279.704 1423.18 L2352.76 1423.18 L2352.76 47.2441 L279.704 47.2441  Z\" fill=\"#f2f2f2\" fill-rule=\"evenodd\" fill-opacity=\"1\"/>\n",
       "<defs>\n",
       "  <clipPath id=\"clip692\">\n",
       "    <rect x=\"279\" y=\"47\" width=\"2074\" height=\"1377\"/>\n",
       "  </clipPath>\n",
       "</defs>\n",
       "<polyline clip-path=\"url(#clip692)\" style=\"stroke:#000000; stroke-linecap:round; stroke-linejoin:round; stroke-width:2; stroke-opacity:0.1; fill:none\" points=\"465.309,1423.18 465.309,47.2441 \"/>\n",
       "<polyline clip-path=\"url(#clip692)\" style=\"stroke:#000000; stroke-linecap:round; stroke-linejoin:round; stroke-width:2; stroke-opacity:0.1; fill:none\" points=\"744.943,1423.18 744.943,47.2441 \"/>\n",
       "<polyline clip-path=\"url(#clip692)\" style=\"stroke:#000000; stroke-linecap:round; stroke-linejoin:round; stroke-width:2; stroke-opacity:0.1; fill:none\" points=\"1024.58,1423.18 1024.58,47.2441 \"/>\n",
       "<polyline clip-path=\"url(#clip692)\" style=\"stroke:#000000; stroke-linecap:round; stroke-linejoin:round; stroke-width:2; stroke-opacity:0.1; fill:none\" points=\"1304.21,1423.18 1304.21,47.2441 \"/>\n",
       "<polyline clip-path=\"url(#clip692)\" style=\"stroke:#000000; stroke-linecap:round; stroke-linejoin:round; stroke-width:2; stroke-opacity:0.1; fill:none\" points=\"1583.85,1423.18 1583.85,47.2441 \"/>\n",
       "<polyline clip-path=\"url(#clip692)\" style=\"stroke:#000000; stroke-linecap:round; stroke-linejoin:round; stroke-width:2; stroke-opacity:0.1; fill:none\" points=\"1863.48,1423.18 1863.48,47.2441 \"/>\n",
       "<polyline clip-path=\"url(#clip692)\" style=\"stroke:#000000; stroke-linecap:round; stroke-linejoin:round; stroke-width:2; stroke-opacity:0.1; fill:none\" points=\"2143.11,1423.18 2143.11,47.2441 \"/>\n",
       "<polyline clip-path=\"url(#clip692)\" style=\"stroke:#000000; stroke-linecap:round; stroke-linejoin:round; stroke-width:2; stroke-opacity:0.1; fill:none\" points=\"465.309,1423.18 465.309,47.2441 \"/>\n",
       "<polyline clip-path=\"url(#clip692)\" style=\"stroke:#000000; stroke-linecap:round; stroke-linejoin:round; stroke-width:2; stroke-opacity:0.1; fill:none\" points=\"744.943,1423.18 744.943,47.2441 \"/>\n",
       "<polyline clip-path=\"url(#clip692)\" style=\"stroke:#000000; stroke-linecap:round; stroke-linejoin:round; stroke-width:2; stroke-opacity:0.1; fill:none\" points=\"1024.58,1423.18 1024.58,47.2441 \"/>\n",
       "<polyline clip-path=\"url(#clip692)\" style=\"stroke:#000000; stroke-linecap:round; stroke-linejoin:round; stroke-width:2; stroke-opacity:0.1; fill:none\" points=\"1304.21,1423.18 1304.21,47.2441 \"/>\n",
       "<polyline clip-path=\"url(#clip692)\" style=\"stroke:#000000; stroke-linecap:round; stroke-linejoin:round; stroke-width:2; stroke-opacity:0.1; fill:none\" points=\"1583.85,1423.18 1583.85,47.2441 \"/>\n",
       "<polyline clip-path=\"url(#clip692)\" style=\"stroke:#000000; stroke-linecap:round; stroke-linejoin:round; stroke-width:2; stroke-opacity:0.1; fill:none\" points=\"1863.48,1423.18 1863.48,47.2441 \"/>\n",
       "<polyline clip-path=\"url(#clip692)\" style=\"stroke:#000000; stroke-linecap:round; stroke-linejoin:round; stroke-width:2; stroke-opacity:0.1; fill:none\" points=\"2143.11,1423.18 2143.11,47.2441 \"/>\n",
       "<polyline clip-path=\"url(#clip692)\" style=\"stroke:#000000; stroke-linecap:round; stroke-linejoin:round; stroke-width:2; stroke-opacity:0.1; fill:none\" points=\"279.704,1384.24 2352.76,1384.24 \"/>\n",
       "<polyline clip-path=\"url(#clip692)\" style=\"stroke:#000000; stroke-linecap:round; stroke-linejoin:round; stroke-width:2; stroke-opacity:0.1; fill:none\" points=\"279.704,1060.44 2352.76,1060.44 \"/>\n",
       "<polyline clip-path=\"url(#clip692)\" style=\"stroke:#000000; stroke-linecap:round; stroke-linejoin:round; stroke-width:2; stroke-opacity:0.1; fill:none\" points=\"279.704,736.644 2352.76,736.644 \"/>\n",
       "<polyline clip-path=\"url(#clip692)\" style=\"stroke:#000000; stroke-linecap:round; stroke-linejoin:round; stroke-width:2; stroke-opacity:0.1; fill:none\" points=\"279.704,412.847 2352.76,412.847 \"/>\n",
       "<polyline clip-path=\"url(#clip692)\" style=\"stroke:#000000; stroke-linecap:round; stroke-linejoin:round; stroke-width:2; stroke-opacity:0.1; fill:none\" points=\"279.704,89.0498 2352.76,89.0498 \"/>\n",
       "<polyline clip-path=\"url(#clip692)\" style=\"stroke:#000000; stroke-linecap:round; stroke-linejoin:round; stroke-width:2; stroke-opacity:0.1; fill:none\" points=\"279.704,1384.24 2352.76,1384.24 \"/>\n",
       "<polyline clip-path=\"url(#clip692)\" style=\"stroke:#000000; stroke-linecap:round; stroke-linejoin:round; stroke-width:2; stroke-opacity:0.1; fill:none\" points=\"279.704,1060.44 2352.76,1060.44 \"/>\n",
       "<polyline clip-path=\"url(#clip692)\" style=\"stroke:#000000; stroke-linecap:round; stroke-linejoin:round; stroke-width:2; stroke-opacity:0.1; fill:none\" points=\"279.704,736.644 2352.76,736.644 \"/>\n",
       "<polyline clip-path=\"url(#clip692)\" style=\"stroke:#000000; stroke-linecap:round; stroke-linejoin:round; stroke-width:2; stroke-opacity:0.1; fill:none\" points=\"279.704,412.847 2352.76,412.847 \"/>\n",
       "<polyline clip-path=\"url(#clip692)\" style=\"stroke:#000000; stroke-linecap:round; stroke-linejoin:round; stroke-width:2; stroke-opacity:0.1; fill:none\" points=\"279.704,89.0498 2352.76,89.0498 \"/>\n",
       "<polyline clip-path=\"url(#clip690)\" style=\"stroke:#000000; stroke-linecap:round; stroke-linejoin:round; stroke-width:4; stroke-opacity:1; fill:none\" points=\"279.704,1423.18 2352.76,1423.18 \"/>\n",
       "<polyline clip-path=\"url(#clip690)\" style=\"stroke:#000000; stroke-linecap:round; stroke-linejoin:round; stroke-width:4; stroke-opacity:1; fill:none\" points=\"279.704,47.2441 2352.76,47.2441 \"/>\n",
       "<polyline clip-path=\"url(#clip690)\" style=\"stroke:#000000; stroke-linecap:round; stroke-linejoin:round; stroke-width:4; stroke-opacity:1; fill:none\" points=\"465.309,1423.18 465.309,1404.28 \"/>\n",
       "<polyline clip-path=\"url(#clip690)\" style=\"stroke:#000000; stroke-linecap:round; stroke-linejoin:round; stroke-width:4; stroke-opacity:1; fill:none\" points=\"744.943,1423.18 744.943,1404.28 \"/>\n",
       "<polyline clip-path=\"url(#clip690)\" style=\"stroke:#000000; stroke-linecap:round; stroke-linejoin:round; stroke-width:4; stroke-opacity:1; fill:none\" points=\"1024.58,1423.18 1024.58,1404.28 \"/>\n",
       "<polyline clip-path=\"url(#clip690)\" style=\"stroke:#000000; stroke-linecap:round; stroke-linejoin:round; stroke-width:4; stroke-opacity:1; fill:none\" points=\"1304.21,1423.18 1304.21,1404.28 \"/>\n",
       "<polyline clip-path=\"url(#clip690)\" style=\"stroke:#000000; stroke-linecap:round; stroke-linejoin:round; stroke-width:4; stroke-opacity:1; fill:none\" points=\"1583.85,1423.18 1583.85,1404.28 \"/>\n",
       "<polyline clip-path=\"url(#clip690)\" style=\"stroke:#000000; stroke-linecap:round; stroke-linejoin:round; stroke-width:4; stroke-opacity:1; fill:none\" points=\"1863.48,1423.18 1863.48,1404.28 \"/>\n",
       "<polyline clip-path=\"url(#clip690)\" style=\"stroke:#000000; stroke-linecap:round; stroke-linejoin:round; stroke-width:4; stroke-opacity:1; fill:none\" points=\"2143.11,1423.18 2143.11,1404.28 \"/>\n",
       "<polyline clip-path=\"url(#clip690)\" style=\"stroke:#000000; stroke-linecap:round; stroke-linejoin:round; stroke-width:4; stroke-opacity:1; fill:none\" points=\"465.309,47.2441 465.309,66.1417 \"/>\n",
       "<polyline clip-path=\"url(#clip690)\" style=\"stroke:#000000; stroke-linecap:round; stroke-linejoin:round; stroke-width:4; stroke-opacity:1; fill:none\" points=\"744.943,47.2441 744.943,66.1417 \"/>\n",
       "<polyline clip-path=\"url(#clip690)\" style=\"stroke:#000000; stroke-linecap:round; stroke-linejoin:round; stroke-width:4; stroke-opacity:1; fill:none\" points=\"1024.58,47.2441 1024.58,66.1417 \"/>\n",
       "<polyline clip-path=\"url(#clip690)\" style=\"stroke:#000000; stroke-linecap:round; stroke-linejoin:round; stroke-width:4; stroke-opacity:1; fill:none\" points=\"1304.21,47.2441 1304.21,66.1417 \"/>\n",
       "<polyline clip-path=\"url(#clip690)\" style=\"stroke:#000000; stroke-linecap:round; stroke-linejoin:round; stroke-width:4; stroke-opacity:1; fill:none\" points=\"1583.85,47.2441 1583.85,66.1417 \"/>\n",
       "<polyline clip-path=\"url(#clip690)\" style=\"stroke:#000000; stroke-linecap:round; stroke-linejoin:round; stroke-width:4; stroke-opacity:1; fill:none\" points=\"1863.48,47.2441 1863.48,66.1417 \"/>\n",
       "<polyline clip-path=\"url(#clip690)\" style=\"stroke:#000000; stroke-linecap:round; stroke-linejoin:round; stroke-width:4; stroke-opacity:1; fill:none\" points=\"2143.11,47.2441 2143.11,66.1417 \"/>\n",
       "<path clip-path=\"url(#clip690)\" d=\"M419.371 1468.75 L449.047 1468.75 L449.047 1472.69 L419.371 1472.69 L419.371 1468.75 Z\" fill=\"#000000\" fill-rule=\"nonzero\" fill-opacity=\"1\" /><path clip-path=\"url(#clip690)\" d=\"M469.14 1469.17 Q465.806 1469.17 463.885 1470.95 Q461.987 1472.73 461.987 1475.86 Q461.987 1478.98 463.885 1480.77 Q465.806 1482.55 469.14 1482.55 Q472.473 1482.55 474.394 1480.77 Q476.315 1478.96 476.315 1475.86 Q476.315 1472.73 474.394 1470.95 Q472.496 1469.17 469.14 1469.17 M464.464 1467.18 Q461.454 1466.44 459.765 1464.38 Q458.098 1462.32 458.098 1459.35 Q458.098 1455.21 461.038 1452.8 Q464.001 1450.39 469.14 1450.39 Q474.302 1450.39 477.241 1452.8 Q480.181 1455.21 480.181 1459.35 Q480.181 1462.32 478.491 1464.38 Q476.825 1466.44 473.839 1467.18 Q477.218 1467.96 479.093 1470.26 Q480.991 1472.55 480.991 1475.86 Q480.991 1480.88 477.913 1483.57 Q474.857 1486.25 469.14 1486.25 Q463.422 1486.25 460.343 1483.57 Q457.288 1480.88 457.288 1475.86 Q457.288 1472.55 459.186 1470.26 Q461.084 1467.96 464.464 1467.18 M462.751 1459.79 Q462.751 1462.48 464.417 1463.98 Q466.107 1465.49 469.14 1465.49 Q472.149 1465.49 473.839 1463.98 Q475.552 1462.48 475.552 1459.79 Q475.552 1457.11 473.839 1455.6 Q472.149 1454.1 469.14 1454.1 Q466.107 1454.1 464.417 1455.6 Q462.751 1457.11 462.751 1459.79 Z\" fill=\"#000000\" fill-rule=\"nonzero\" fill-opacity=\"1\" /><path clip-path=\"url(#clip690)\" d=\"M499.301 1454.1 Q495.69 1454.1 493.862 1457.66 Q492.056 1461.2 492.056 1468.33 Q492.056 1475.44 493.862 1479.01 Q495.69 1482.55 499.301 1482.55 Q502.936 1482.55 504.741 1479.01 Q506.57 1475.44 506.57 1468.33 Q506.57 1461.2 504.741 1457.66 Q502.936 1454.1 499.301 1454.1 M499.301 1450.39 Q505.112 1450.39 508.167 1455 Q511.246 1459.58 511.246 1468.33 Q511.246 1477.06 508.167 1481.67 Q505.112 1486.25 499.301 1486.25 Q493.491 1486.25 490.413 1481.67 Q487.357 1477.06 487.357 1468.33 Q487.357 1459.58 490.413 1455 Q493.491 1450.39 499.301 1450.39 Z\" fill=\"#000000\" fill-rule=\"nonzero\" fill-opacity=\"1\" /><path clip-path=\"url(#clip690)\" d=\"M699.005 1468.75 L728.681 1468.75 L728.681 1472.69 L699.005 1472.69 L699.005 1468.75 Z\" fill=\"#000000\" fill-rule=\"nonzero\" fill-opacity=\"1\" /><path clip-path=\"url(#clip690)\" d=\"M749.352 1466.44 Q746.204 1466.44 744.352 1468.59 Q742.524 1470.74 742.524 1474.49 Q742.524 1478.22 744.352 1480.39 Q746.204 1482.55 749.352 1482.55 Q752.501 1482.55 754.329 1480.39 Q756.181 1478.22 756.181 1474.49 Q756.181 1470.74 754.329 1468.59 Q752.501 1466.44 749.352 1466.44 M758.635 1451.78 L758.635 1456.04 Q756.876 1455.21 755.07 1454.77 Q753.288 1454.33 751.528 1454.33 Q746.899 1454.33 744.445 1457.45 Q742.014 1460.58 741.667 1466.9 Q743.033 1464.89 745.093 1463.82 Q747.153 1462.73 749.63 1462.73 Q754.838 1462.73 757.848 1465.9 Q760.88 1469.05 760.88 1474.49 Q760.88 1479.82 757.732 1483.03 Q754.584 1486.25 749.352 1486.25 Q743.357 1486.25 740.186 1481.67 Q737.015 1477.06 737.015 1468.33 Q737.015 1460.14 740.903 1455.28 Q744.792 1450.39 751.343 1450.39 Q753.102 1450.39 754.885 1450.74 Q756.69 1451.09 758.635 1451.78 Z\" fill=\"#000000\" fill-rule=\"nonzero\" fill-opacity=\"1\" /><path clip-path=\"url(#clip690)\" d=\"M778.936 1454.1 Q775.324 1454.1 773.496 1457.66 Q771.69 1461.2 771.69 1468.33 Q771.69 1475.44 773.496 1479.01 Q775.324 1482.55 778.936 1482.55 Q782.57 1482.55 784.375 1479.01 Q786.204 1475.44 786.204 1468.33 Q786.204 1461.2 784.375 1457.66 Q782.57 1454.1 778.936 1454.1 M778.936 1450.39 Q784.746 1450.39 787.801 1455 Q790.88 1459.58 790.88 1468.33 Q790.88 1477.06 787.801 1481.67 Q784.746 1486.25 778.936 1486.25 Q773.125 1486.25 770.047 1481.67 Q766.991 1477.06 766.991 1468.33 Q766.991 1459.58 770.047 1455 Q773.125 1450.39 778.936 1450.39 Z\" fill=\"#000000\" fill-rule=\"nonzero\" fill-opacity=\"1\" /><path clip-path=\"url(#clip690)\" d=\"M978.64 1468.75 L1008.32 1468.75 L1008.32 1472.69 L978.64 1472.69 L978.64 1468.75 Z\" fill=\"#000000\" fill-rule=\"nonzero\" fill-opacity=\"1\" /><path clip-path=\"url(#clip690)\" d=\"M1031.26 1455.09 L1019.45 1473.54 L1031.26 1473.54 L1031.26 1455.09 M1030.03 1451.02 L1035.91 1451.02 L1035.91 1473.54 L1040.84 1473.54 L1040.84 1477.43 L1035.91 1477.43 L1035.91 1485.58 L1031.26 1485.58 L1031.26 1477.43 L1015.65 1477.43 L1015.65 1472.92 L1030.03 1451.02 Z\" fill=\"#000000\" fill-rule=\"nonzero\" fill-opacity=\"1\" /><path clip-path=\"url(#clip690)\" d=\"M1058.57 1454.1 Q1054.96 1454.1 1053.13 1457.66 Q1051.32 1461.2 1051.32 1468.33 Q1051.32 1475.44 1053.13 1479.01 Q1054.96 1482.55 1058.57 1482.55 Q1062.2 1482.55 1064.01 1479.01 Q1065.84 1475.44 1065.84 1468.33 Q1065.84 1461.2 1064.01 1457.66 Q1062.2 1454.1 1058.57 1454.1 M1058.57 1450.39 Q1064.38 1450.39 1067.44 1455 Q1070.51 1459.58 1070.51 1468.33 Q1070.51 1477.06 1067.44 1481.67 Q1064.38 1486.25 1058.57 1486.25 Q1052.76 1486.25 1049.68 1481.67 Q1046.63 1477.06 1046.63 1468.33 Q1046.63 1459.58 1049.68 1455 Q1052.76 1450.39 1058.57 1450.39 Z\" fill=\"#000000\" fill-rule=\"nonzero\" fill-opacity=\"1\" /><path clip-path=\"url(#clip690)\" d=\"M1258.27 1468.75 L1287.95 1468.75 L1287.95 1472.69 L1258.27 1472.69 L1258.27 1468.75 Z\" fill=\"#000000\" fill-rule=\"nonzero\" fill-opacity=\"1\" /><path clip-path=\"url(#clip690)\" d=\"M1302.07 1481.64 L1318.39 1481.64 L1318.39 1485.58 L1296.44 1485.58 L1296.44 1481.64 Q1299.11 1478.89 1303.69 1474.26 Q1308.3 1469.61 1309.48 1468.27 Q1311.72 1465.74 1312.6 1464.01 Q1313.5 1462.25 1313.5 1460.56 Q1313.5 1457.8 1311.56 1456.07 Q1309.64 1454.33 1306.54 1454.33 Q1304.34 1454.33 1301.88 1455.09 Q1299.45 1455.86 1296.68 1457.41 L1296.68 1452.69 Q1299.5 1451.55 1301.95 1450.97 Q1304.41 1450.39 1306.44 1450.39 Q1311.82 1450.39 1315.01 1453.08 Q1318.2 1455.77 1318.2 1460.26 Q1318.2 1462.39 1317.39 1464.31 Q1316.61 1466.2 1314.5 1468.8 Q1313.92 1469.47 1310.82 1472.69 Q1307.72 1475.88 1302.07 1481.64 Z\" fill=\"#000000\" fill-rule=\"nonzero\" fill-opacity=\"1\" /><path clip-path=\"url(#clip690)\" d=\"M1338.2 1454.1 Q1334.59 1454.1 1332.76 1457.66 Q1330.96 1461.2 1330.96 1468.33 Q1330.96 1475.44 1332.76 1479.01 Q1334.59 1482.55 1338.2 1482.55 Q1341.84 1482.55 1343.64 1479.01 Q1345.47 1475.44 1345.47 1468.33 Q1345.47 1461.2 1343.64 1457.66 Q1341.84 1454.1 1338.2 1454.1 M1338.2 1450.39 Q1344.01 1450.39 1347.07 1455 Q1350.15 1459.58 1350.15 1468.33 Q1350.15 1477.06 1347.07 1481.67 Q1344.01 1486.25 1338.2 1486.25 Q1332.39 1486.25 1329.31 1481.67 Q1326.26 1477.06 1326.26 1468.33 Q1326.26 1459.58 1329.31 1455 Q1332.39 1450.39 1338.2 1450.39 Z\" fill=\"#000000\" fill-rule=\"nonzero\" fill-opacity=\"1\" /><path clip-path=\"url(#clip690)\" d=\"M1583.85 1454.1 Q1580.23 1454.1 1578.41 1457.66 Q1576.6 1461.2 1576.6 1468.33 Q1576.6 1475.44 1578.41 1479.01 Q1580.23 1482.55 1583.85 1482.55 Q1587.48 1482.55 1589.28 1479.01 Q1591.11 1475.44 1591.11 1468.33 Q1591.11 1461.2 1589.28 1457.66 Q1587.48 1454.1 1583.85 1454.1 M1583.85 1450.39 Q1589.66 1450.39 1592.71 1455 Q1595.79 1459.58 1595.79 1468.33 Q1595.79 1477.06 1592.71 1481.67 Q1589.66 1486.25 1583.85 1486.25 Q1578.03 1486.25 1574.96 1481.67 Q1571.9 1477.06 1571.9 1468.33 Q1571.9 1459.58 1574.96 1455 Q1578.03 1450.39 1583.85 1450.39 Z\" fill=\"#000000\" fill-rule=\"nonzero\" fill-opacity=\"1\" /><path clip-path=\"url(#clip690)\" d=\"M1842.25 1481.64 L1858.57 1481.64 L1858.57 1485.58 L1836.63 1485.58 L1836.63 1481.64 Q1839.29 1478.89 1843.87 1474.26 Q1848.48 1469.61 1849.66 1468.27 Q1851.91 1465.74 1852.78 1464.01 Q1853.69 1462.25 1853.69 1460.56 Q1853.69 1457.8 1851.74 1456.07 Q1849.82 1454.33 1846.72 1454.33 Q1844.52 1454.33 1842.07 1455.09 Q1839.64 1455.86 1836.86 1457.41 L1836.86 1452.69 Q1839.68 1451.55 1842.14 1450.97 Q1844.59 1450.39 1846.63 1450.39 Q1852 1450.39 1855.19 1453.08 Q1858.39 1455.77 1858.39 1460.26 Q1858.39 1462.39 1857.58 1464.31 Q1856.79 1466.2 1854.68 1468.8 Q1854.1 1469.47 1851 1472.69 Q1847.9 1475.88 1842.25 1481.64 Z\" fill=\"#000000\" fill-rule=\"nonzero\" fill-opacity=\"1\" /><path clip-path=\"url(#clip690)\" d=\"M1878.39 1454.1 Q1874.78 1454.1 1872.95 1457.66 Q1871.14 1461.2 1871.14 1468.33 Q1871.14 1475.44 1872.95 1479.01 Q1874.78 1482.55 1878.39 1482.55 Q1882.02 1482.55 1883.83 1479.01 Q1885.65 1475.44 1885.65 1468.33 Q1885.65 1461.2 1883.83 1457.66 Q1882.02 1454.1 1878.39 1454.1 M1878.39 1450.39 Q1884.2 1450.39 1887.25 1455 Q1890.33 1459.58 1890.33 1468.33 Q1890.33 1477.06 1887.25 1481.67 Q1884.2 1486.25 1878.39 1486.25 Q1872.58 1486.25 1869.5 1481.67 Q1866.44 1477.06 1866.44 1468.33 Q1866.44 1459.58 1869.5 1455 Q1872.58 1450.39 1878.39 1450.39 Z\" fill=\"#000000\" fill-rule=\"nonzero\" fill-opacity=\"1\" /><path clip-path=\"url(#clip690)\" d=\"M2131.28 1455.09 L2119.48 1473.54 L2131.28 1473.54 L2131.28 1455.09 M2130.06 1451.02 L2135.94 1451.02 L2135.94 1473.54 L2140.87 1473.54 L2140.87 1477.43 L2135.94 1477.43 L2135.94 1485.58 L2131.28 1485.58 L2131.28 1477.43 L2115.68 1477.43 L2115.68 1472.92 L2130.06 1451.02 Z\" fill=\"#000000\" fill-rule=\"nonzero\" fill-opacity=\"1\" /><path clip-path=\"url(#clip690)\" d=\"M2158.6 1454.1 Q2154.99 1454.1 2153.16 1457.66 Q2151.35 1461.2 2151.35 1468.33 Q2151.35 1475.44 2153.16 1479.01 Q2154.99 1482.55 2158.6 1482.55 Q2162.23 1482.55 2164.04 1479.01 Q2165.87 1475.44 2165.87 1468.33 Q2165.87 1461.2 2164.04 1457.66 Q2162.23 1454.1 2158.6 1454.1 M2158.6 1450.39 Q2164.41 1450.39 2167.46 1455 Q2170.54 1459.58 2170.54 1468.33 Q2170.54 1477.06 2167.46 1481.67 Q2164.41 1486.25 2158.6 1486.25 Q2152.79 1486.25 2149.71 1481.67 Q2146.65 1477.06 2146.65 1468.33 Q2146.65 1459.58 2149.71 1455 Q2152.79 1450.39 2158.6 1450.39 Z\" fill=\"#000000\" fill-rule=\"nonzero\" fill-opacity=\"1\" /><path clip-path=\"url(#clip690)\" d=\"M893.388 1520.52 L899.817 1520.52 L899.817 1562.63 L922.957 1562.63 L922.957 1568.04 L893.388 1568.04 L893.388 1520.52 Z\" fill=\"#000000\" fill-rule=\"nonzero\" fill-opacity=\"1\" /><path clip-path=\"url(#clip690)\" d=\"M942.117 1536.5 Q937.407 1536.5 934.669 1540.19 Q931.932 1543.85 931.932 1550.25 Q931.932 1556.65 934.638 1560.34 Q937.375 1564 942.117 1564 Q946.796 1564 949.533 1560.31 Q952.271 1556.62 952.271 1550.25 Q952.271 1543.92 949.533 1540.23 Q946.796 1536.5 942.117 1536.5 M942.117 1531.54 Q949.756 1531.54 954.117 1536.5 Q958.477 1541.47 958.477 1550.25 Q958.477 1559 954.117 1564 Q949.756 1568.97 942.117 1568.97 Q934.447 1568.97 930.086 1564 Q925.757 1559 925.757 1550.25 Q925.757 1541.47 930.086 1536.5 Q934.447 1531.54 942.117 1531.54 Z\" fill=\"#000000\" fill-rule=\"nonzero\" fill-opacity=\"1\" /><path clip-path=\"url(#clip690)\" d=\"M991.643 1549.81 Q991.643 1543.44 989.001 1539.94 Q986.391 1536.44 981.648 1536.44 Q976.938 1536.44 974.296 1539.94 Q971.686 1543.44 971.686 1549.81 Q971.686 1556.14 974.296 1559.64 Q976.938 1563.14 981.648 1563.14 Q986.391 1563.14 989.001 1559.64 Q991.643 1556.14 991.643 1549.81 M997.499 1563.62 Q997.499 1572.72 993.457 1577.15 Q989.415 1581.6 981.075 1581.6 Q977.988 1581.6 975.251 1581.13 Q972.514 1580.68 969.935 1579.72 L969.935 1574.03 Q972.514 1575.43 975.028 1576.1 Q977.542 1576.76 980.152 1576.76 Q985.913 1576.76 988.778 1573.74 Q991.643 1570.75 991.643 1564.67 L991.643 1561.77 Q989.828 1564.92 986.996 1566.48 Q984.163 1568.04 980.216 1568.04 Q973.659 1568.04 969.649 1563.05 Q965.639 1558.05 965.639 1549.81 Q965.639 1541.53 969.649 1536.53 Q973.659 1531.54 980.216 1531.54 Q984.163 1531.54 986.996 1533.1 Q989.828 1534.66 991.643 1537.81 L991.643 1532.4 L997.499 1532.4 L997.499 1563.62 Z\" fill=\"#000000\" fill-rule=\"nonzero\" fill-opacity=\"1\" /><path clip-path=\"url(#clip690)\" d=\"M1062.94 1561.26 L1062.94 1548.5 L1052.44 1548.5 L1052.44 1543.22 L1069.3 1543.22 L1069.3 1563.62 Q1065.58 1566.26 1061.09 1567.63 Q1056.6 1568.97 1051.51 1568.97 Q1040.37 1568.97 1034.07 1562.47 Q1027.8 1555.95 1027.8 1544.33 Q1027.8 1532.68 1034.07 1526.19 Q1040.37 1519.66 1051.51 1519.66 Q1056.16 1519.66 1060.33 1520.81 Q1064.53 1521.96 1068.06 1524.18 L1068.06 1531.03 Q1064.5 1528 1060.49 1526.48 Q1056.48 1524.95 1052.05 1524.95 Q1043.33 1524.95 1038.94 1529.82 Q1034.58 1534.69 1034.58 1544.33 Q1034.58 1553.94 1038.94 1558.81 Q1043.33 1563.68 1052.05 1563.68 Q1055.46 1563.68 1058.13 1563.11 Q1060.81 1562.51 1062.94 1561.26 Z\" fill=\"#000000\" fill-rule=\"nonzero\" fill-opacity=\"1\" /><path clip-path=\"url(#clip690)\" d=\"M1101.45 1537.87 Q1100.46 1537.3 1099.29 1537.04 Q1098.14 1536.76 1096.74 1536.76 Q1091.78 1536.76 1089.1 1540 Q1086.46 1543.22 1086.46 1549.27 L1086.46 1568.04 L1080.57 1568.04 L1080.57 1532.4 L1086.46 1532.4 L1086.46 1537.93 Q1088.31 1534.69 1091.27 1533.13 Q1094.23 1531.54 1098.46 1531.54 Q1099.06 1531.54 1099.8 1531.63 Q1100.53 1531.7 1101.42 1531.85 L1101.45 1537.87 Z\" fill=\"#000000\" fill-rule=\"nonzero\" fill-opacity=\"1\" /><path clip-path=\"url(#clip690)\" d=\"M1119.98 1536.5 Q1115.26 1536.5 1112.53 1540.19 Q1109.79 1543.85 1109.79 1550.25 Q1109.79 1556.65 1112.5 1560.34 Q1115.23 1564 1119.98 1564 Q1124.65 1564 1127.39 1560.31 Q1130.13 1556.62 1130.13 1550.25 Q1130.13 1543.92 1127.39 1540.23 Q1124.65 1536.5 1119.98 1536.5 M1119.98 1531.54 Q1127.61 1531.54 1131.97 1536.5 Q1136.34 1541.47 1136.34 1550.25 Q1136.34 1559 1131.97 1564 Q1127.61 1568.97 1119.98 1568.97 Q1112.3 1568.97 1107.94 1564 Q1103.62 1559 1103.62 1550.25 Q1103.62 1541.47 1107.94 1536.5 Q1112.3 1531.54 1119.98 1531.54 Z\" fill=\"#000000\" fill-rule=\"nonzero\" fill-opacity=\"1\" /><path clip-path=\"url(#clip690)\" d=\"M1142.64 1532.4 L1148.49 1532.4 L1155.81 1560.21 L1163.1 1532.4 L1170.01 1532.4 L1177.33 1560.21 L1184.62 1532.4 L1190.48 1532.4 L1181.15 1568.04 L1174.24 1568.04 L1166.57 1538.83 L1158.87 1568.04 L1151.96 1568.04 L1142.64 1532.4 Z\" fill=\"#000000\" fill-rule=\"nonzero\" fill-opacity=\"1\" /><path clip-path=\"url(#clip690)\" d=\"M1205.15 1522.27 L1205.15 1532.4 L1217.21 1532.4 L1217.21 1536.95 L1205.15 1536.95 L1205.15 1556.3 Q1205.15 1560.66 1206.33 1561.9 Q1207.54 1563.14 1211.2 1563.14 L1217.21 1563.14 L1217.21 1568.04 L1211.2 1568.04 Q1204.42 1568.04 1201.84 1565.53 Q1199.26 1562.98 1199.26 1556.3 L1199.26 1536.95 L1194.96 1536.95 L1194.96 1532.4 L1199.26 1532.4 L1199.26 1522.27 L1205.15 1522.27 Z\" fill=\"#000000\" fill-rule=\"nonzero\" fill-opacity=\"1\" /><path clip-path=\"url(#clip690)\" d=\"M1254.55 1546.53 L1254.55 1568.04 L1248.69 1568.04 L1248.69 1546.72 Q1248.69 1541.66 1246.72 1539.14 Q1244.74 1536.63 1240.8 1536.63 Q1236.05 1536.63 1233.32 1539.65 Q1230.58 1542.68 1230.58 1547.9 L1230.58 1568.04 L1224.69 1568.04 L1224.69 1518.52 L1230.58 1518.52 L1230.58 1537.93 Q1232.68 1534.72 1235.51 1533.13 Q1238.38 1531.54 1242.1 1531.54 Q1248.24 1531.54 1251.4 1535.36 Q1254.55 1539.14 1254.55 1546.53 Z\" fill=\"#000000\" fill-rule=\"nonzero\" fill-opacity=\"1\" /><path clip-path=\"url(#clip690)\" d=\"M1309.74 1545.76 Q1311.81 1546.46 1313.75 1548.76 Q1315.72 1551.05 1317.69 1555.06 L1324.22 1568.04 L1317.31 1568.04 L1311.23 1555.85 Q1308.88 1551.08 1306.65 1549.52 Q1304.45 1547.96 1300.63 1547.96 L1293.63 1547.96 L1293.63 1568.04 L1287.2 1568.04 L1287.2 1520.52 L1301.72 1520.52 Q1309.86 1520.52 1313.87 1523.93 Q1317.88 1527.34 1317.88 1534.21 Q1317.88 1538.7 1315.78 1541.66 Q1313.72 1544.62 1309.74 1545.76 M1293.63 1525.81 L1293.63 1542.68 L1301.72 1542.68 Q1306.36 1542.68 1308.72 1540.54 Q1311.11 1538.38 1311.11 1534.21 Q1311.11 1530.04 1308.72 1527.94 Q1306.36 1525.81 1301.72 1525.81 L1293.63 1525.81 Z\" fill=\"#000000\" fill-rule=\"nonzero\" fill-opacity=\"1\" /><path clip-path=\"url(#clip690)\" d=\"M1347.01 1550.12 Q1339.91 1550.12 1337.17 1551.75 Q1334.44 1553.37 1334.44 1557.29 Q1334.44 1560.4 1336.47 1562.25 Q1338.54 1564.07 1342.07 1564.07 Q1346.94 1564.07 1349.87 1560.63 Q1352.83 1557.16 1352.83 1551.43 L1352.83 1550.12 L1347.01 1550.12 M1358.69 1547.71 L1358.69 1568.04 L1352.83 1568.04 L1352.83 1562.63 Q1350.83 1565.88 1347.84 1567.44 Q1344.84 1568.97 1340.52 1568.97 Q1335.04 1568.97 1331.79 1565.91 Q1328.58 1562.82 1328.58 1557.67 Q1328.58 1551.65 1332.59 1548.6 Q1336.63 1545.54 1344.62 1545.54 L1352.83 1545.54 L1352.83 1544.97 Q1352.83 1540.93 1350.16 1538.73 Q1347.52 1536.5 1342.71 1536.5 Q1339.66 1536.5 1336.76 1537.23 Q1333.86 1537.97 1331.19 1539.43 L1331.19 1534.02 Q1334.4 1532.78 1337.43 1532.17 Q1340.45 1531.54 1343.32 1531.54 Q1351.05 1531.54 1354.87 1535.55 Q1358.69 1539.56 1358.69 1547.71 Z\" fill=\"#000000\" fill-rule=\"nonzero\" fill-opacity=\"1\" /><path clip-path=\"url(#clip690)\" d=\"M1376.54 1522.27 L1376.54 1532.4 L1388.61 1532.4 L1388.61 1536.95 L1376.54 1536.95 L1376.54 1556.3 Q1376.54 1560.66 1377.72 1561.9 Q1378.93 1563.14 1382.59 1563.14 L1388.61 1563.14 L1388.61 1568.04 L1382.59 1568.04 Q1375.81 1568.04 1373.23 1565.53 Q1370.66 1562.98 1370.66 1556.3 L1370.66 1536.95 L1366.36 1536.95 L1366.36 1532.4 L1370.66 1532.4 L1370.66 1522.27 L1376.54 1522.27 Z\" fill=\"#000000\" fill-rule=\"nonzero\" fill-opacity=\"1\" /><path clip-path=\"url(#clip690)\" d=\"M1426.8 1548.76 L1426.8 1551.62 L1399.88 1551.62 Q1400.26 1557.67 1403.5 1560.85 Q1406.78 1564 1412.61 1564 Q1415.98 1564 1419.13 1563.17 Q1422.31 1562.35 1425.43 1560.69 L1425.43 1566.23 Q1422.28 1567.57 1418.97 1568.27 Q1415.66 1568.97 1412.26 1568.97 Q1403.73 1568.97 1398.73 1564 Q1393.76 1559.04 1393.76 1550.57 Q1393.76 1541.82 1398.47 1536.69 Q1403.22 1531.54 1411.24 1531.54 Q1418.43 1531.54 1422.6 1536.18 Q1426.8 1540.8 1426.8 1548.76 M1420.95 1547.04 Q1420.88 1542.23 1418.24 1539.37 Q1415.63 1536.5 1411.3 1536.5 Q1406.4 1536.5 1403.44 1539.27 Q1400.51 1542.04 1400.07 1547.07 L1420.95 1547.04 Z\" fill=\"#000000\" fill-rule=\"nonzero\" fill-opacity=\"1\" /><path clip-path=\"url(#clip690)\" d=\"M1471.2 1518.58 Q1466.94 1525.9 1464.87 1533.06 Q1462.8 1540.23 1462.8 1547.58 Q1462.8 1554.93 1464.87 1562.16 Q1466.97 1569.35 1471.2 1576.64 L1466.11 1576.64 Q1461.34 1569.16 1458.95 1561.93 Q1456.59 1554.71 1456.59 1547.58 Q1456.59 1540.48 1458.95 1533.29 Q1461.3 1526.09 1466.11 1518.58 L1471.2 1518.58 Z\" fill=\"#000000\" fill-rule=\"nonzero\" fill-opacity=\"1\" /><path clip-path=\"url(#clip690)\" d=\"M1484.51 1562.63 L1495.01 1562.63 L1495.01 1526.38 L1483.58 1528.67 L1483.58 1522.82 L1494.95 1520.52 L1501.38 1520.52 L1501.38 1562.63 L1511.88 1562.63 L1511.88 1568.04 L1484.51 1568.04 L1484.51 1562.63 Z\" fill=\"#000000\" fill-rule=\"nonzero\" fill-opacity=\"1\" /><path clip-path=\"url(#clip690)\" d=\"M1534.45 1520.52 L1539.86 1520.52 L1523.31 1574.09 L1517.9 1574.09 L1534.45 1520.52 Z\" fill=\"#000000\" fill-rule=\"nonzero\" fill-opacity=\"1\" /><path clip-path=\"url(#clip690)\" d=\"M1560.83 1571.35 Q1558.35 1577.72 1555.99 1579.66 Q1553.64 1581.6 1549.69 1581.6 L1545.01 1581.6 L1545.01 1576.7 L1548.45 1576.7 Q1550.87 1576.7 1552.21 1575.56 Q1553.54 1574.41 1555.17 1570.14 L1556.22 1567.47 L1541.8 1532.4 L1548.01 1532.4 L1559.15 1560.28 L1570.29 1532.4 L1576.49 1532.4 L1560.83 1571.35 Z\" fill=\"#000000\" fill-rule=\"nonzero\" fill-opacity=\"1\" /><path clip-path=\"url(#clip690)\" d=\"M1615.07 1548.76 L1615.07 1551.62 L1588.14 1551.62 Q1588.52 1557.67 1591.77 1560.85 Q1595.05 1564 1600.87 1564 Q1604.25 1564 1607.4 1563.17 Q1610.58 1562.35 1613.7 1560.69 L1613.7 1566.23 Q1610.55 1567.57 1607.24 1568.27 Q1603.93 1568.97 1600.52 1568.97 Q1591.99 1568.97 1587 1564 Q1582.03 1559.04 1582.03 1550.57 Q1582.03 1541.82 1586.74 1536.69 Q1591.48 1531.54 1599.5 1531.54 Q1606.7 1531.54 1610.87 1536.18 Q1615.07 1540.8 1615.07 1548.76 M1609.21 1547.04 Q1609.15 1542.23 1606.51 1539.37 Q1603.9 1536.5 1599.57 1536.5 Q1594.67 1536.5 1591.71 1539.27 Q1588.78 1542.04 1588.33 1547.07 L1609.21 1547.04 Z\" fill=\"#000000\" fill-rule=\"nonzero\" fill-opacity=\"1\" /><path clip-path=\"url(#clip690)\" d=\"M1640.88 1550.12 Q1633.78 1550.12 1631.05 1551.75 Q1628.31 1553.37 1628.31 1557.29 Q1628.31 1560.4 1630.35 1562.25 Q1632.41 1564.07 1635.95 1564.07 Q1640.82 1564.07 1643.75 1560.63 Q1646.71 1557.16 1646.71 1551.43 L1646.71 1550.12 L1640.88 1550.12 M1652.56 1547.71 L1652.56 1568.04 L1646.71 1568.04 L1646.71 1562.63 Q1644.7 1565.88 1641.71 1567.44 Q1638.72 1568.97 1634.39 1568.97 Q1628.91 1568.97 1625.67 1565.91 Q1622.45 1562.82 1622.45 1557.67 Q1622.45 1551.65 1626.46 1548.6 Q1630.5 1545.54 1638.49 1545.54 L1646.71 1545.54 L1646.71 1544.97 Q1646.71 1540.93 1644.03 1538.73 Q1641.39 1536.5 1636.58 1536.5 Q1633.53 1536.5 1630.63 1537.23 Q1627.74 1537.97 1625.06 1539.43 L1625.06 1534.02 Q1628.28 1532.78 1631.3 1532.17 Q1634.32 1531.54 1637.19 1531.54 Q1644.92 1531.54 1648.74 1535.55 Q1652.56 1539.56 1652.56 1547.71 Z\" fill=\"#000000\" fill-rule=\"nonzero\" fill-opacity=\"1\" /><path clip-path=\"url(#clip690)\" d=\"M1685.28 1537.87 Q1684.3 1537.3 1683.12 1537.04 Q1681.97 1536.76 1680.57 1536.76 Q1675.61 1536.76 1672.93 1540 Q1670.29 1543.22 1670.29 1549.27 L1670.29 1568.04 L1664.4 1568.04 L1664.4 1532.4 L1670.29 1532.4 L1670.29 1537.93 Q1672.14 1534.69 1675.1 1533.13 Q1678.06 1531.54 1682.29 1531.54 Q1682.89 1531.54 1683.63 1531.63 Q1684.36 1531.7 1685.25 1531.85 L1685.28 1537.87 Z\" fill=\"#000000\" fill-rule=\"nonzero\" fill-opacity=\"1\" /><path clip-path=\"url(#clip690)\" d=\"M1714.15 1533.45 L1714.15 1538.98 Q1711.67 1537.71 1708.99 1537.07 Q1706.32 1536.44 1703.46 1536.44 Q1699.1 1536.44 1696.9 1537.77 Q1694.73 1539.11 1694.73 1541.79 Q1694.73 1543.82 1696.29 1545 Q1697.85 1546.15 1702.56 1547.2 L1704.57 1547.64 Q1710.81 1548.98 1713.42 1551.43 Q1716.06 1553.85 1716.06 1558.21 Q1716.06 1563.17 1712.11 1566.07 Q1708.2 1568.97 1701.32 1568.97 Q1698.46 1568.97 1695.34 1568.39 Q1692.25 1567.85 1688.81 1566.74 L1688.81 1560.69 Q1692.06 1562.38 1695.21 1563.24 Q1698.36 1564.07 1701.45 1564.07 Q1705.59 1564.07 1707.82 1562.66 Q1710.04 1561.23 1710.04 1558.65 Q1710.04 1556.27 1708.42 1554.99 Q1706.83 1553.72 1701.39 1552.54 L1699.35 1552.07 Q1693.91 1550.92 1691.49 1548.56 Q1689.07 1546.18 1689.07 1542.04 Q1689.07 1537.01 1692.63 1534.27 Q1696.2 1531.54 1702.76 1531.54 Q1706 1531.54 1708.87 1532.01 Q1711.73 1532.49 1714.15 1533.45 Z\" fill=\"#000000\" fill-rule=\"nonzero\" fill-opacity=\"1\" /><path clip-path=\"url(#clip690)\" d=\"M1724.46 1518.58 L1729.56 1518.58 Q1734.33 1526.09 1736.68 1533.29 Q1739.07 1540.48 1739.07 1547.58 Q1739.07 1554.71 1736.68 1561.93 Q1734.33 1569.16 1729.56 1576.64 L1724.46 1576.64 Q1728.7 1569.35 1730.76 1562.16 Q1732.87 1554.93 1732.87 1547.58 Q1732.87 1540.23 1730.76 1533.06 Q1728.7 1525.9 1724.46 1518.58 Z\" fill=\"#000000\" fill-rule=\"nonzero\" fill-opacity=\"1\" /><polyline clip-path=\"url(#clip690)\" style=\"stroke:#000000; stroke-linecap:round; stroke-linejoin:round; stroke-width:4; stroke-opacity:1; fill:none\" points=\"279.704,1423.18 279.704,47.2441 \"/>\n",
       "<polyline clip-path=\"url(#clip690)\" style=\"stroke:#000000; stroke-linecap:round; stroke-linejoin:round; stroke-width:4; stroke-opacity:1; fill:none\" points=\"2352.76,1423.18 2352.76,47.2441 \"/>\n",
       "<polyline clip-path=\"url(#clip690)\" style=\"stroke:#000000; stroke-linecap:round; stroke-linejoin:round; stroke-width:4; stroke-opacity:1; fill:none\" points=\"279.704,1384.24 298.602,1384.24 \"/>\n",
       "<polyline clip-path=\"url(#clip690)\" style=\"stroke:#000000; stroke-linecap:round; stroke-linejoin:round; stroke-width:4; stroke-opacity:1; fill:none\" points=\"279.704,1060.44 298.602,1060.44 \"/>\n",
       "<polyline clip-path=\"url(#clip690)\" style=\"stroke:#000000; stroke-linecap:round; stroke-linejoin:round; stroke-width:4; stroke-opacity:1; fill:none\" points=\"279.704,736.644 298.602,736.644 \"/>\n",
       "<polyline clip-path=\"url(#clip690)\" style=\"stroke:#000000; stroke-linecap:round; stroke-linejoin:round; stroke-width:4; stroke-opacity:1; fill:none\" points=\"279.704,412.847 298.602,412.847 \"/>\n",
       "<polyline clip-path=\"url(#clip690)\" style=\"stroke:#000000; stroke-linecap:round; stroke-linejoin:round; stroke-width:4; stroke-opacity:1; fill:none\" points=\"279.704,89.0498 298.602,89.0498 \"/>\n",
       "<polyline clip-path=\"url(#clip690)\" style=\"stroke:#000000; stroke-linecap:round; stroke-linejoin:round; stroke-width:4; stroke-opacity:1; fill:none\" points=\"2352.76,1384.24 2333.86,1384.24 \"/>\n",
       "<polyline clip-path=\"url(#clip690)\" style=\"stroke:#000000; stroke-linecap:round; stroke-linejoin:round; stroke-width:4; stroke-opacity:1; fill:none\" points=\"2352.76,1060.44 2333.86,1060.44 \"/>\n",
       "<polyline clip-path=\"url(#clip690)\" style=\"stroke:#000000; stroke-linecap:round; stroke-linejoin:round; stroke-width:4; stroke-opacity:1; fill:none\" points=\"2352.76,736.644 2333.86,736.644 \"/>\n",
       "<polyline clip-path=\"url(#clip690)\" style=\"stroke:#000000; stroke-linecap:round; stroke-linejoin:round; stroke-width:4; stroke-opacity:1; fill:none\" points=\"2352.76,412.847 2333.86,412.847 \"/>\n",
       "<polyline clip-path=\"url(#clip690)\" style=\"stroke:#000000; stroke-linecap:round; stroke-linejoin:round; stroke-width:4; stroke-opacity:1; fill:none\" points=\"2352.76,89.0498 2333.86,89.0498 \"/>\n",
       "<path clip-path=\"url(#clip690)\" d=\"M126.205 1370.04 Q122.593 1370.04 120.765 1373.6 Q118.959 1377.14 118.959 1384.27 Q118.959 1391.38 120.765 1394.94 Q122.593 1398.49 126.205 1398.49 Q129.839 1398.49 131.644 1394.94 Q133.473 1391.38 133.473 1384.27 Q133.473 1377.14 131.644 1373.6 Q129.839 1370.04 126.205 1370.04 M126.205 1366.33 Q132.015 1366.33 135.07 1370.94 Q138.149 1375.52 138.149 1384.27 Q138.149 1393 135.07 1397.61 Q132.015 1402.19 126.205 1402.19 Q120.394 1402.19 117.316 1397.61 Q114.26 1393 114.26 1384.27 Q114.26 1375.52 117.316 1370.94 Q120.394 1366.33 126.205 1366.33 Z\" fill=\"#000000\" fill-rule=\"nonzero\" fill-opacity=\"1\" /><path clip-path=\"url(#clip690)\" d=\"M146.366 1395.64 L151.251 1395.64 L151.251 1401.52 L146.366 1401.52 L146.366 1395.64 Z\" fill=\"#000000\" fill-rule=\"nonzero\" fill-opacity=\"1\" /><path clip-path=\"url(#clip690)\" d=\"M171.436 1370.04 Q167.825 1370.04 165.996 1373.6 Q164.19 1377.14 164.19 1384.27 Q164.19 1391.38 165.996 1394.94 Q167.825 1398.49 171.436 1398.49 Q175.07 1398.49 176.876 1394.94 Q178.704 1391.38 178.704 1384.27 Q178.704 1377.14 176.876 1373.6 Q175.07 1370.04 171.436 1370.04 M171.436 1366.33 Q177.246 1366.33 180.301 1370.94 Q183.38 1375.52 183.38 1384.27 Q183.38 1393 180.301 1397.61 Q177.246 1402.19 171.436 1402.19 Q165.626 1402.19 162.547 1397.61 Q159.491 1393 159.491 1384.27 Q159.491 1375.52 162.547 1370.94 Q165.626 1366.33 171.436 1366.33 Z\" fill=\"#000000\" fill-rule=\"nonzero\" fill-opacity=\"1\" /><path clip-path=\"url(#clip690)\" d=\"M201.598 1370.04 Q197.987 1370.04 196.158 1373.6 Q194.352 1377.14 194.352 1384.27 Q194.352 1391.38 196.158 1394.94 Q197.987 1398.49 201.598 1398.49 Q205.232 1398.49 207.037 1394.94 Q208.866 1391.38 208.866 1384.27 Q208.866 1377.14 207.037 1373.6 Q205.232 1370.04 201.598 1370.04 M201.598 1366.33 Q207.408 1366.33 210.463 1370.94 Q213.542 1375.52 213.542 1384.27 Q213.542 1393 210.463 1397.61 Q207.408 1402.19 201.598 1402.19 Q195.787 1402.19 192.709 1397.61 Q189.653 1393 189.653 1384.27 Q189.653 1375.52 192.709 1370.94 Q195.787 1366.33 201.598 1366.33 Z\" fill=\"#000000\" fill-rule=\"nonzero\" fill-opacity=\"1\" /><path clip-path=\"url(#clip690)\" d=\"M231.76 1370.04 Q228.148 1370.04 226.32 1373.6 Q224.514 1377.14 224.514 1384.27 Q224.514 1391.38 226.32 1394.94 Q228.148 1398.49 231.76 1398.49 Q235.394 1398.49 237.199 1394.94 Q239.028 1391.38 239.028 1384.27 Q239.028 1377.14 237.199 1373.6 Q235.394 1370.04 231.76 1370.04 M231.76 1366.33 Q237.57 1366.33 240.625 1370.94 Q243.704 1375.52 243.704 1384.27 Q243.704 1393 240.625 1397.61 Q237.57 1402.19 231.76 1402.19 Q225.949 1402.19 222.871 1397.61 Q219.815 1393 219.815 1384.27 Q219.815 1375.52 222.871 1370.94 Q225.949 1366.33 231.76 1366.33 Z\" fill=\"#000000\" fill-rule=\"nonzero\" fill-opacity=\"1\" /><path clip-path=\"url(#clip690)\" d=\"M127.2 1046.24 Q123.589 1046.24 121.76 1049.8 Q119.955 1053.35 119.955 1060.48 Q119.955 1067.58 121.76 1071.15 Q123.589 1074.69 127.2 1074.69 Q130.834 1074.69 132.64 1071.15 Q134.468 1067.58 134.468 1060.48 Q134.468 1053.35 132.64 1049.8 Q130.834 1046.24 127.2 1046.24 M127.2 1042.54 Q133.01 1042.54 136.066 1047.14 Q139.144 1051.73 139.144 1060.48 Q139.144 1069.2 136.066 1073.81 Q133.01 1078.39 127.2 1078.39 Q121.39 1078.39 118.311 1073.81 Q115.256 1069.2 115.256 1060.48 Q115.256 1051.73 118.311 1047.14 Q121.39 1042.54 127.2 1042.54 Z\" fill=\"#000000\" fill-rule=\"nonzero\" fill-opacity=\"1\" /><path clip-path=\"url(#clip690)\" d=\"M147.362 1071.84 L152.246 1071.84 L152.246 1077.72 L147.362 1077.72 L147.362 1071.84 Z\" fill=\"#000000\" fill-rule=\"nonzero\" fill-opacity=\"1\" /><path clip-path=\"url(#clip690)\" d=\"M172.431 1046.24 Q168.82 1046.24 166.991 1049.8 Q165.186 1053.35 165.186 1060.48 Q165.186 1067.58 166.991 1071.15 Q168.82 1074.69 172.431 1074.69 Q176.065 1074.69 177.871 1071.15 Q179.7 1067.58 179.7 1060.48 Q179.7 1053.35 177.871 1049.8 Q176.065 1046.24 172.431 1046.24 M172.431 1042.54 Q178.241 1042.54 181.297 1047.14 Q184.376 1051.73 184.376 1060.48 Q184.376 1069.2 181.297 1073.81 Q178.241 1078.39 172.431 1078.39 Q166.621 1078.39 163.542 1073.81 Q160.487 1069.2 160.487 1060.48 Q160.487 1051.73 163.542 1047.14 Q166.621 1042.54 172.431 1042.54 Z\" fill=\"#000000\" fill-rule=\"nonzero\" fill-opacity=\"1\" /><path clip-path=\"url(#clip690)\" d=\"M196.621 1073.79 L212.94 1073.79 L212.94 1077.72 L190.996 1077.72 L190.996 1073.79 Q193.658 1071.03 198.241 1066.4 Q202.848 1061.75 204.028 1060.41 Q206.274 1057.88 207.153 1056.15 Q208.056 1054.39 208.056 1052.7 Q208.056 1049.94 206.112 1048.21 Q204.19 1046.47 201.088 1046.47 Q198.889 1046.47 196.436 1047.24 Q194.005 1048 191.227 1049.55 L191.227 1044.83 Q194.051 1043.69 196.505 1043.11 Q198.959 1042.54 200.996 1042.54 Q206.366 1042.54 209.561 1045.22 Q212.755 1047.91 212.755 1052.4 Q212.755 1054.53 211.945 1056.45 Q211.158 1058.35 209.051 1060.94 Q208.473 1061.61 205.371 1064.83 Q202.269 1068.02 196.621 1073.79 Z\" fill=\"#000000\" fill-rule=\"nonzero\" fill-opacity=\"1\" /><path clip-path=\"url(#clip690)\" d=\"M222.801 1043.16 L241.158 1043.16 L241.158 1047.1 L227.084 1047.1 L227.084 1055.57 Q228.102 1055.22 229.121 1055.06 Q230.139 1054.87 231.158 1054.87 Q236.945 1054.87 240.324 1058.05 Q243.704 1061.22 243.704 1066.63 Q243.704 1072.21 240.232 1075.31 Q236.76 1078.39 230.44 1078.39 Q228.264 1078.39 225.996 1078.02 Q223.75 1077.65 221.343 1076.91 L221.343 1072.21 Q223.426 1073.35 225.648 1073.9 Q227.871 1074.46 230.347 1074.46 Q234.352 1074.46 236.69 1072.35 Q239.028 1070.24 239.028 1066.63 Q239.028 1063.02 236.69 1060.92 Q234.352 1058.81 230.347 1058.81 Q228.473 1058.81 226.598 1059.23 Q224.746 1059.64 222.801 1060.52 L222.801 1043.16 Z\" fill=\"#000000\" fill-rule=\"nonzero\" fill-opacity=\"1\" /><path clip-path=\"url(#clip690)\" d=\"M126.205 722.443 Q122.593 722.443 120.765 726.008 Q118.959 729.549 118.959 736.679 Q118.959 743.785 120.765 747.35 Q122.593 750.892 126.205 750.892 Q129.839 750.892 131.644 747.35 Q133.473 743.785 133.473 736.679 Q133.473 729.549 131.644 726.008 Q129.839 722.443 126.205 722.443 M126.205 718.739 Q132.015 718.739 135.07 723.346 Q138.149 727.929 138.149 736.679 Q138.149 745.406 135.07 750.012 Q132.015 754.595 126.205 754.595 Q120.394 754.595 117.316 750.012 Q114.26 745.406 114.26 736.679 Q114.26 727.929 117.316 723.346 Q120.394 718.739 126.205 718.739 Z\" fill=\"#000000\" fill-rule=\"nonzero\" fill-opacity=\"1\" /><path clip-path=\"url(#clip690)\" d=\"M146.366 748.044 L151.251 748.044 L151.251 753.924 L146.366 753.924 L146.366 748.044 Z\" fill=\"#000000\" fill-rule=\"nonzero\" fill-opacity=\"1\" /><path clip-path=\"url(#clip690)\" d=\"M171.436 722.443 Q167.825 722.443 165.996 726.008 Q164.19 729.549 164.19 736.679 Q164.19 743.785 165.996 747.35 Q167.825 750.892 171.436 750.892 Q175.07 750.892 176.876 747.35 Q178.704 743.785 178.704 736.679 Q178.704 729.549 176.876 726.008 Q175.07 722.443 171.436 722.443 M171.436 718.739 Q177.246 718.739 180.301 723.346 Q183.38 727.929 183.38 736.679 Q183.38 745.406 180.301 750.012 Q177.246 754.595 171.436 754.595 Q165.626 754.595 162.547 750.012 Q159.491 745.406 159.491 736.679 Q159.491 727.929 162.547 723.346 Q165.626 718.739 171.436 718.739 Z\" fill=\"#000000\" fill-rule=\"nonzero\" fill-opacity=\"1\" /><path clip-path=\"url(#clip690)\" d=\"M191.644 719.364 L210 719.364 L210 723.299 L195.926 723.299 L195.926 731.771 Q196.945 731.424 197.963 731.262 Q198.982 731.077 200 731.077 Q205.787 731.077 209.167 734.248 Q212.547 737.42 212.547 742.836 Q212.547 748.415 209.074 751.517 Q205.602 754.595 199.283 754.595 Q197.107 754.595 194.838 754.225 Q192.593 753.855 190.186 753.114 L190.186 748.415 Q192.269 749.549 194.491 750.105 Q196.713 750.66 199.19 750.66 Q203.195 750.66 205.533 748.554 Q207.871 746.447 207.871 742.836 Q207.871 739.225 205.533 737.119 Q203.195 735.012 199.19 735.012 Q197.315 735.012 195.44 735.429 Q193.588 735.845 191.644 736.725 L191.644 719.364 Z\" fill=\"#000000\" fill-rule=\"nonzero\" fill-opacity=\"1\" /><path clip-path=\"url(#clip690)\" d=\"M231.76 722.443 Q228.148 722.443 226.32 726.008 Q224.514 729.549 224.514 736.679 Q224.514 743.785 226.32 747.35 Q228.148 750.892 231.76 750.892 Q235.394 750.892 237.199 747.35 Q239.028 743.785 239.028 736.679 Q239.028 729.549 237.199 726.008 Q235.394 722.443 231.76 722.443 M231.76 718.739 Q237.57 718.739 240.625 723.346 Q243.704 727.929 243.704 736.679 Q243.704 745.406 240.625 750.012 Q237.57 754.595 231.76 754.595 Q225.949 754.595 222.871 750.012 Q219.815 745.406 219.815 736.679 Q219.815 727.929 222.871 723.346 Q225.949 718.739 231.76 718.739 Z\" fill=\"#000000\" fill-rule=\"nonzero\" fill-opacity=\"1\" /><path clip-path=\"url(#clip690)\" d=\"M127.2 398.646 Q123.589 398.646 121.76 402.21 Q119.955 405.752 119.955 412.882 Q119.955 419.988 121.76 423.553 Q123.589 427.095 127.2 427.095 Q130.834 427.095 132.64 423.553 Q134.468 419.988 134.468 412.882 Q134.468 405.752 132.64 402.21 Q130.834 398.646 127.2 398.646 M127.2 394.942 Q133.01 394.942 136.066 399.548 Q139.144 404.132 139.144 412.882 Q139.144 421.608 136.066 426.215 Q133.01 430.798 127.2 430.798 Q121.39 430.798 118.311 426.215 Q115.256 421.608 115.256 412.882 Q115.256 404.132 118.311 399.548 Q121.39 394.942 127.2 394.942 Z\" fill=\"#000000\" fill-rule=\"nonzero\" fill-opacity=\"1\" /><path clip-path=\"url(#clip690)\" d=\"M147.362 424.247 L152.246 424.247 L152.246 430.127 L147.362 430.127 L147.362 424.247 Z\" fill=\"#000000\" fill-rule=\"nonzero\" fill-opacity=\"1\" /><path clip-path=\"url(#clip690)\" d=\"M172.431 398.646 Q168.82 398.646 166.991 402.21 Q165.186 405.752 165.186 412.882 Q165.186 419.988 166.991 423.553 Q168.82 427.095 172.431 427.095 Q176.065 427.095 177.871 423.553 Q179.7 419.988 179.7 412.882 Q179.7 405.752 177.871 402.21 Q176.065 398.646 172.431 398.646 M172.431 394.942 Q178.241 394.942 181.297 399.548 Q184.376 404.132 184.376 412.882 Q184.376 421.608 181.297 426.215 Q178.241 430.798 172.431 430.798 Q166.621 430.798 163.542 426.215 Q160.487 421.608 160.487 412.882 Q160.487 404.132 163.542 399.548 Q166.621 394.942 172.431 394.942 Z\" fill=\"#000000\" fill-rule=\"nonzero\" fill-opacity=\"1\" /><path clip-path=\"url(#clip690)\" d=\"M191.413 395.567 L213.635 395.567 L213.635 397.558 L201.088 430.127 L196.204 430.127 L208.01 399.502 L191.413 399.502 L191.413 395.567 Z\" fill=\"#000000\" fill-rule=\"nonzero\" fill-opacity=\"1\" /><path clip-path=\"url(#clip690)\" d=\"M222.801 395.567 L241.158 395.567 L241.158 399.502 L227.084 399.502 L227.084 407.974 Q228.102 407.627 229.121 407.465 Q230.139 407.28 231.158 407.28 Q236.945 407.28 240.324 410.451 Q243.704 413.622 243.704 419.039 Q243.704 424.618 240.232 427.72 Q236.76 430.798 230.44 430.798 Q228.264 430.798 225.996 430.428 Q223.75 430.058 221.343 429.317 L221.343 424.618 Q223.426 425.752 225.648 426.308 Q227.871 426.863 230.347 426.863 Q234.352 426.863 236.69 424.757 Q239.028 422.65 239.028 419.039 Q239.028 415.428 236.69 413.321 Q234.352 411.215 230.347 411.215 Q228.473 411.215 226.598 411.632 Q224.746 412.048 222.801 412.928 L222.801 395.567 Z\" fill=\"#000000\" fill-rule=\"nonzero\" fill-opacity=\"1\" /><path clip-path=\"url(#clip690)\" d=\"M126.205 74.8485 Q122.593 74.8485 120.765 78.4133 Q118.959 81.955 118.959 89.0846 Q118.959 96.191 120.765 99.7558 Q122.593 103.297 126.205 103.297 Q129.839 103.297 131.644 99.7558 Q133.473 96.191 133.473 89.0846 Q133.473 81.955 131.644 78.4133 Q129.839 74.8485 126.205 74.8485 M126.205 71.1449 Q132.015 71.1449 135.07 75.7513 Q138.149 80.3346 138.149 89.0846 Q138.149 97.8114 135.07 102.418 Q132.015 107.001 126.205 107.001 Q120.394 107.001 117.316 102.418 Q114.26 97.8114 114.26 89.0846 Q114.26 80.3346 117.316 75.7513 Q120.394 71.1449 126.205 71.1449 Z\" fill=\"#000000\" fill-rule=\"nonzero\" fill-opacity=\"1\" /><path clip-path=\"url(#clip690)\" d=\"M146.366 100.45 L151.251 100.45 L151.251 106.33 L146.366 106.33 L146.366 100.45 Z\" fill=\"#000000\" fill-rule=\"nonzero\" fill-opacity=\"1\" /><path clip-path=\"url(#clip690)\" d=\"M162.246 102.395 L169.885 102.395 L169.885 76.0291 L161.575 77.6957 L161.575 73.4365 L169.839 71.7698 L174.514 71.7698 L174.514 102.395 L182.153 102.395 L182.153 106.33 L162.246 106.33 L162.246 102.395 Z\" fill=\"#000000\" fill-rule=\"nonzero\" fill-opacity=\"1\" /><path clip-path=\"url(#clip690)\" d=\"M201.598 74.8485 Q197.987 74.8485 196.158 78.4133 Q194.352 81.955 194.352 89.0846 Q194.352 96.191 196.158 99.7558 Q197.987 103.297 201.598 103.297 Q205.232 103.297 207.037 99.7558 Q208.866 96.191 208.866 89.0846 Q208.866 81.955 207.037 78.4133 Q205.232 74.8485 201.598 74.8485 M201.598 71.1449 Q207.408 71.1449 210.463 75.7513 Q213.542 80.3346 213.542 89.0846 Q213.542 97.8114 210.463 102.418 Q207.408 107.001 201.598 107.001 Q195.787 107.001 192.709 102.418 Q189.653 97.8114 189.653 89.0846 Q189.653 80.3346 192.709 75.7513 Q195.787 71.1449 201.598 71.1449 Z\" fill=\"#000000\" fill-rule=\"nonzero\" fill-opacity=\"1\" /><path clip-path=\"url(#clip690)\" d=\"M231.76 74.8485 Q228.148 74.8485 226.32 78.4133 Q224.514 81.955 224.514 89.0846 Q224.514 96.191 226.32 99.7558 Q228.148 103.297 231.76 103.297 Q235.394 103.297 237.199 99.7558 Q239.028 96.191 239.028 89.0846 Q239.028 81.955 237.199 78.4133 Q235.394 74.8485 231.76 74.8485 M231.76 71.1449 Q237.57 71.1449 240.625 75.7513 Q243.704 80.3346 243.704 89.0846 Q243.704 97.8114 240.625 102.418 Q237.57 107.001 231.76 107.001 Q225.949 107.001 222.871 102.418 Q219.815 97.8114 219.815 89.0846 Q219.815 80.3346 222.871 75.7513 Q225.949 71.1449 231.76 71.1449 Z\" fill=\"#000000\" fill-rule=\"nonzero\" fill-opacity=\"1\" /><path clip-path=\"url(#clip690)\" d=\"M21.7677 848.522 L58.7206 848.522 L58.7206 840.755 Q58.7206 830.92 54.2646 826.369 Q49.8086 821.786 40.1964 821.786 Q30.6479 821.786 26.2237 826.369 Q21.7677 830.92 21.7677 840.755 L21.7677 848.522 M16.4842 854.951 L16.4842 841.742 Q16.4842 827.928 22.2451 821.467 Q27.9743 815.006 40.1964 815.006 Q52.4822 815.006 58.2432 821.499 Q64.0042 827.992 64.0042 841.742 L64.0042 854.951 L16.4842 854.951 Z\" fill=\"#000000\" fill-rule=\"nonzero\" fill-opacity=\"1\" /><path clip-path=\"url(#clip690)\" d=\"M44.7161 774.52 L47.5806 774.52 L47.5806 801.447 Q53.6281 801.065 56.8109 797.819 Q59.9619 794.54 59.9619 788.716 Q59.9619 785.342 59.1344 782.191 Q58.3069 779.008 56.6518 775.889 L62.1899 775.889 Q63.5267 779.04 64.227 782.35 Q64.9272 785.66 64.9272 789.066 Q64.9272 797.596 59.9619 802.593 Q54.9967 807.558 46.5303 807.558 Q37.7774 807.558 32.6531 802.848 Q27.4968 798.105 27.4968 790.084 Q27.4968 782.891 32.1438 778.722 Q36.7589 774.52 44.7161 774.52 M42.9973 780.377 Q38.1912 780.44 35.3266 783.082 Q32.4621 785.692 32.4621 790.021 Q32.4621 794.922 35.2312 797.882 Q38.0002 800.811 43.0292 801.256 L42.9973 780.377 Z\" fill=\"#000000\" fill-rule=\"nonzero\" fill-opacity=\"1\" /><path clip-path=\"url(#clip690)\" d=\"M42.4881 735.276 L64.0042 735.276 L64.0042 741.132 L42.679 741.132 Q37.6183 741.132 35.1038 743.105 Q32.5894 745.079 32.5894 749.026 Q32.5894 753.768 35.6131 756.505 Q38.6368 759.243 43.8567 759.243 L64.0042 759.243 L64.0042 765.131 L28.3562 765.131 L28.3562 759.243 L33.8944 759.243 Q30.6797 757.142 29.0883 754.309 Q27.4968 751.445 27.4968 747.721 Q27.4968 741.578 31.3163 738.427 Q35.1038 735.276 42.4881 735.276 Z\" fill=\"#000000\" fill-rule=\"nonzero\" fill-opacity=\"1\" /><path clip-path=\"url(#clip690)\" d=\"M29.4065 700.869 L34.9447 700.869 Q33.6716 703.352 33.035 706.025 Q32.3984 708.699 32.3984 711.563 Q32.3984 715.924 33.7352 718.12 Q35.072 720.284 37.7456 720.284 Q39.7826 720.284 40.9603 718.725 Q42.1061 717.165 43.1565 712.455 L43.6021 710.449 Q44.9389 704.211 47.3897 701.601 Q49.8086 698.959 54.1691 698.959 Q59.1344 698.959 62.0308 702.906 Q64.9272 706.821 64.9272 713.696 Q64.9272 716.56 64.3543 719.68 Q63.8132 722.767 62.6992 726.204 L56.6518 726.204 Q58.3387 722.958 59.198 719.807 Q60.0256 716.656 60.0256 713.569 Q60.0256 709.431 58.6251 707.203 Q57.1929 704.975 54.6147 704.975 Q52.2276 704.975 50.9545 706.598 Q49.6813 708.19 48.5037 713.632 L48.0262 715.669 Q46.8804 721.112 44.5251 723.531 Q42.138 725.95 38.0002 725.95 Q32.9713 725.95 30.2341 722.385 Q27.4968 718.82 27.4968 712.264 Q27.4968 709.017 27.9743 706.153 Q28.4517 703.288 29.4065 700.869 Z\" fill=\"#000000\" fill-rule=\"nonzero\" fill-opacity=\"1\" /><path clip-path=\"url(#clip690)\" d=\"M28.3562 689.634 L28.3562 683.777 L64.0042 683.777 L64.0042 689.634 L28.3562 689.634 M14.479 689.634 L14.479 683.777 L21.895 683.777 L21.895 689.634 L14.479 689.634 Z\" fill=\"#000000\" fill-rule=\"nonzero\" fill-opacity=\"1\" /><path clip-path=\"url(#clip690)\" d=\"M18.2347 665.73 L28.3562 665.73 L28.3562 653.667 L32.9077 653.667 L32.9077 665.73 L52.2594 665.73 Q56.6199 665.73 57.8613 664.553 Q59.1026 663.343 59.1026 659.683 L59.1026 653.667 L64.0042 653.667 L64.0042 659.683 Q64.0042 666.462 61.4897 669.04 Q58.9434 671.619 52.2594 671.619 L32.9077 671.619 L32.9077 675.915 L28.3562 675.915 L28.3562 671.619 L18.2347 671.619 L18.2347 665.73 Z\" fill=\"#000000\" fill-rule=\"nonzero\" fill-opacity=\"1\" /><path clip-path=\"url(#clip690)\" d=\"M67.3143 631.133 Q73.68 633.615 75.6216 635.971 Q77.5631 638.326 77.5631 642.273 L77.5631 646.951 L72.6615 646.951 L72.6615 643.514 Q72.6615 641.095 71.5157 639.758 Q70.3699 638.421 66.1048 636.798 L63.4312 635.748 L28.3562 650.166 L28.3562 643.96 L56.238 632.82 L28.3562 621.68 L28.3562 615.473 L67.3143 631.133 Z\" fill=\"#000000\" fill-rule=\"nonzero\" fill-opacity=\"1\" /><polyline clip-path=\"url(#clip692)\" style=\"stroke:#ff0000; stroke-linecap:round; stroke-linejoin:round; stroke-width:12; stroke-opacity:1; fill:none\" points=\"338.375,1384.24 348.203,1384.2 358.031,1383.91 367.858,1382.94 377.686,1381.98 387.514,1382.4 397.341,1383.5 407.169,1384.09 416.997,1384.22 426.824,1384.24 436.652,1384.24 446.48,1384.24 456.307,1384.24 466.135,1384.24 475.963,1384.24 485.79,1384.24 495.618,1384.24 505.446,1384.24 515.274,1384.24 525.101,1384.24 534.929,1384.24 544.757,1384.24 554.584,1384.24 564.412,1384.24 574.24,1384.24 584.067,1384.24 593.895,1384.24 603.723,1384.24 613.55,1384.24 623.378,1384.24 633.206,1384.24 643.033,1384.24 652.861,1384.24 662.689,1384.24 672.517,1384.24 682.344,1384.24 692.172,1384.24 702,1384.24 711.827,1384.24 721.655,1384.24 731.483,1384.24 741.31,1384.24 751.138,1384.24 760.966,1384.24 770.793,1384.24 780.621,1384.24 790.449,1384.24 800.276,1384.24 810.104,1384.24 819.932,1384.24 829.759,1384.24 839.587,1384.24 849.415,1384.24 859.243,1384.24 869.07,1384.24 878.898,1384.24 888.726,1384.24 898.553,1384.24 908.381,1384.24 918.209,1384.24 928.036,1384.24 937.864,1384.24 947.692,1384.21 957.519,1383.99 967.347,1383.16 977.175,1381.95 987.002,1381.29 996.83,1381.28 1006.66,1381.9 1016.49,1383.11 1026.31,1383.97 1036.14,1384.21 1045.97,1384.24 1055.8,1384.24 1065.62,1384.24 1075.45,1384.24 1085.28,1384.24 1095.11,1384.24 1104.93,1384.24 1114.76,1384.24 1124.59,1384.24 1134.42,1384.23 1144.25,1384.09 1154.07,1383.51 1163.9,1382.4 1173.73,1381.97 1183.56,1382.8 1193.38,1382.97 1203.21,1381.08 1213.04,1379.18 1222.87,1379.09 1232.69,1378.31 1242.52,1377.6 1252.35,1379.71 1262.18,1382.01 1272.01,1381.39 1281.83,1379.06 1291.66,1377.52 1301.49,1375.35 1311.32,1371.56 1321.14,1370.13 1330.97,1372.77 1340.8,1373.79 1350.63,1369.55 1360.45,1363.15 1370.28,1357.76 1380.11,1355.19 1389.94,1351.08 1399.77,1340.49 1409.59,1327.49 1419.42,1318.82 1429.25,1308.15 1439.08,1284.04 1448.9,1251.17 1458.73,1218.19 1468.56,1181.51 1478.39,1138.97 1488.21,1091.59 1498.04,1038.72 1507.87,973.145 1517.7,886.246 1527.53,773.127 1537.35,634.51 1547.18,483.372 1557.01,329.162 1566.84,205.942 1576.66,130.278 1586.49,86.1857 1596.32,99.9347 1606.15,192.288 1615.97,345.359 1625.8,521.849 1635.63,668.559 1645.46,774.119 1655.29,864.843 1665.11,952.977 1674.94,1031.52 1684.77,1095.44 1694.6,1151.79 1704.42,1204.49 1714.25,1245.88 1724.08,1273.91 1733.91,1296.28 1743.73,1312.88 1753.56,1322.68 1763.39,1332.55 1773.22,1343.46 1783.04,1350.98 1792.87,1352.92 1802.7,1353.34 1812.53,1360.51 1822.36,1370.43 1832.18,1375.19 1842.01,1375.92 1851.84,1377.57 1861.67,1380.44 1871.49,1382.77 1881.32,1383.93 1891.15,1384.2 1900.98,1384.24 1910.8,1384.21 1920.63,1383.97 1930.46,1382.98 1940.29,1381.25 1950.12,1380.23 1959.94,1381 1969.77,1382.21 1979.6,1382.06 1989.43,1381.16 1999.25,1380.06 2009.08,1379.23 2018.91,1380.7 2028.74,1382.98 2038.56,1384.01 2048.39,1384.22 2058.22,1384.24 2068.05,1384.24 2077.88,1384.22 2087.7,1384.08 2097.53,1383.39 2107.36,1381.84 2117.19,1380.31 2127.01,1380.56 2136.84,1382.43 2146.67,1383.81 2156.5,1384.19 2166.32,1384.24 2176.15,1384.24 2185.98,1384.24 2195.81,1384.24 2205.64,1384.24 2215.46,1384.22 2225.29,1384.09 2235.12,1383.5 2244.95,1382.4 2254.77,1381.98 2264.6,1382.94 2274.43,1383.91 2284.26,1384.2 2294.08,1384.24 \"/>\n",
       "<path clip-path=\"url(#clip690)\" d=\"M1741.61 196.789 L2283.65 196.789 L2283.65 93.1086 L1741.61 93.1086  Z\" fill=\"#f2f2f2\" fill-rule=\"evenodd\" fill-opacity=\"1\"/>\n",
       "<polyline clip-path=\"url(#clip690)\" style=\"stroke:#000000; stroke-linecap:round; stroke-linejoin:round; stroke-width:4; stroke-opacity:0; fill:none\" points=\"1741.61,196.789 2283.65,196.789 2283.65,93.1086 1741.61,93.1086 1741.61,196.789 \"/>\n",
       "<polyline clip-path=\"url(#clip690)\" style=\"stroke:#ff0000; stroke-linecap:round; stroke-linejoin:round; stroke-width:12; stroke-opacity:1; fill:none\" points=\"1764.64,144.949 1902.84,144.949 \"/>\n",
       "<path clip-path=\"url(#clip690)\" d=\"M1941.9 130.84 Q1936.8 130.84 1933.79 134.636 Q1930.81 138.432 1930.81 144.983 Q1930.81 151.511 1933.79 155.307 Q1936.8 159.104 1941.9 159.104 Q1946.99 159.104 1949.95 155.307 Q1952.94 151.511 1952.94 144.983 Q1952.94 138.432 1949.95 134.636 Q1946.99 130.84 1941.9 130.84 M1941.9 127.044 Q1949.16 127.044 1953.52 131.928 Q1957.87 136.789 1957.87 144.983 Q1957.87 153.155 1953.52 158.039 Q1949.16 162.9 1941.9 162.9 Q1934.6 162.9 1930.23 158.039 Q1925.88 153.178 1925.88 144.983 Q1925.88 136.789 1930.23 131.928 Q1934.6 127.044 1941.9 127.044 Z\" fill=\"#000000\" fill-rule=\"nonzero\" fill-opacity=\"1\" /><path clip-path=\"url(#clip690)\" d=\"M1983.61 149.289 Q1983.61 144.59 1981.66 141.928 Q1979.74 139.243 1976.36 139.243 Q1972.98 139.243 1971.04 141.928 Q1969.12 144.59 1969.12 149.289 Q1969.12 153.988 1971.04 156.673 Q1972.98 159.335 1976.36 159.335 Q1979.74 159.335 1981.66 156.673 Q1983.61 153.988 1983.61 149.289 M1969.12 140.238 Q1970.46 137.923 1972.5 136.812 Q1974.56 135.678 1977.4 135.678 Q1982.13 135.678 1985.07 139.428 Q1988.03 143.178 1988.03 149.289 Q1988.03 155.4 1985.07 159.15 Q1982.13 162.9 1977.4 162.9 Q1974.56 162.9 1972.5 161.789 Q1970.46 160.655 1969.12 158.34 L1969.12 162.229 L1964.83 162.229 L1964.83 126.21 L1969.12 126.21 L1969.12 140.238 Z\" fill=\"#000000\" fill-rule=\"nonzero\" fill-opacity=\"1\" /><path clip-path=\"url(#clip690)\" d=\"M2011.62 137.067 L2011.62 141.094 Q2009.81 140.169 2007.87 139.706 Q2005.92 139.243 2003.84 139.243 Q2000.67 139.243 1999.07 140.215 Q1997.5 141.187 1997.5 143.131 Q1997.5 144.613 1998.63 145.469 Q1999.77 146.303 2003.19 147.067 L2004.65 147.391 Q2009.19 148.363 2011.08 150.145 Q2013.01 151.905 2013.01 155.076 Q2013.01 158.687 2010.14 160.793 Q2007.29 162.9 2002.29 162.9 Q2000.2 162.9 1997.94 162.483 Q1995.69 162.09 1993.19 161.28 L1993.19 156.881 Q1995.55 158.108 1997.84 158.733 Q2000.14 159.335 2002.38 159.335 Q2005.39 159.335 2007.01 158.317 Q2008.63 157.275 2008.63 155.4 Q2008.63 153.664 2007.45 152.738 Q2006.29 151.812 2002.33 150.956 L2000.85 150.608 Q1996.89 149.775 1995.14 148.062 Q1993.38 146.326 1993.38 143.317 Q1993.38 139.659 1995.97 137.669 Q1998.56 135.678 2003.33 135.678 Q2005.69 135.678 2007.77 136.025 Q2009.86 136.372 2011.62 137.067 Z\" fill=\"#000000\" fill-rule=\"nonzero\" fill-opacity=\"1\" /><path clip-path=\"url(#clip690)\" d=\"M2041.96 148.201 L2041.96 150.284 L2022.38 150.284 Q2022.66 154.682 2025.02 156.997 Q2027.4 159.289 2031.64 159.289 Q2034.09 159.289 2036.39 158.687 Q2038.7 158.085 2040.97 156.881 L2040.97 160.909 Q2038.68 161.881 2036.27 162.391 Q2033.86 162.9 2031.39 162.9 Q2025.18 162.9 2021.55 159.289 Q2017.94 155.678 2017.94 149.52 Q2017.94 143.155 2021.36 139.428 Q2024.81 135.678 2030.64 135.678 Q2035.88 135.678 2038.91 139.057 Q2041.96 142.414 2041.96 148.201 M2037.7 146.951 Q2037.66 143.456 2035.74 141.372 Q2033.84 139.289 2030.69 139.289 Q2027.13 139.289 2024.97 141.303 Q2022.84 143.317 2022.52 146.974 L2037.7 146.951 Z\" fill=\"#000000\" fill-rule=\"nonzero\" fill-opacity=\"1\" /><path clip-path=\"url(#clip690)\" d=\"M2063.98 140.284 Q2063.26 139.868 2062.4 139.682 Q2061.57 139.474 2060.55 139.474 Q2056.94 139.474 2055 141.835 Q2053.08 144.173 2053.08 148.571 L2053.08 162.229 L2048.79 162.229 L2048.79 136.303 L2053.08 136.303 L2053.08 140.331 Q2054.42 137.969 2056.57 136.835 Q2058.72 135.678 2061.8 135.678 Q2062.24 135.678 2062.77 135.747 Q2063.31 135.794 2063.95 135.909 L2063.98 140.284 Z\" fill=\"#000000\" fill-rule=\"nonzero\" fill-opacity=\"1\" /><path clip-path=\"url(#clip690)\" d=\"M2065.39 136.303 L2069.9 136.303 L2078.01 158.062 L2086.11 136.303 L2090.62 136.303 L2080.9 162.229 L2075.11 162.229 L2065.39 136.303 Z\" fill=\"#000000\" fill-rule=\"nonzero\" fill-opacity=\"1\" /><path clip-path=\"url(#clip690)\" d=\"M2118.68 148.201 L2118.68 150.284 L2099.09 150.284 Q2099.37 154.682 2101.73 156.997 Q2104.12 159.289 2108.35 159.289 Q2110.81 159.289 2113.1 158.687 Q2115.41 158.085 2117.68 156.881 L2117.68 160.909 Q2115.39 161.881 2112.98 162.391 Q2110.57 162.9 2108.1 162.9 Q2101.89 162.9 2098.26 159.289 Q2094.65 155.678 2094.65 149.52 Q2094.65 143.155 2098.07 139.428 Q2101.52 135.678 2107.36 135.678 Q2112.59 135.678 2115.62 139.057 Q2118.68 142.414 2118.68 148.201 M2114.42 146.951 Q2114.37 143.456 2112.45 141.372 Q2110.55 139.289 2107.4 139.289 Q2103.84 139.289 2101.69 141.303 Q2099.56 143.317 2099.23 146.974 L2114.42 146.951 Z\" fill=\"#000000\" fill-rule=\"nonzero\" fill-opacity=\"1\" /><path clip-path=\"url(#clip690)\" d=\"M2142.73 140.238 L2142.73 126.21 L2146.99 126.21 L2146.99 162.229 L2142.73 162.229 L2142.73 158.34 Q2141.38 160.655 2139.32 161.789 Q2137.29 162.9 2134.42 162.9 Q2129.72 162.9 2126.76 159.15 Q2123.82 155.4 2123.82 149.289 Q2123.82 143.178 2126.76 139.428 Q2129.72 135.678 2134.42 135.678 Q2137.29 135.678 2139.32 136.812 Q2141.38 137.923 2142.73 140.238 M2128.21 149.289 Q2128.21 153.988 2130.13 156.673 Q2132.08 159.335 2135.46 159.335 Q2138.84 159.335 2140.78 156.673 Q2142.73 153.988 2142.73 149.289 Q2142.73 144.59 2140.78 141.928 Q2138.84 139.243 2135.46 139.243 Q2132.08 139.243 2130.13 141.928 Q2128.21 144.59 2128.21 149.289 Z\" fill=\"#000000\" fill-rule=\"nonzero\" fill-opacity=\"1\" /><path clip-path=\"url(#clip690)\" d=\"M2175.69 131.511 L2175.69 158.386 L2181.34 158.386 Q2188.49 158.386 2191.8 155.145 Q2195.13 151.905 2195.13 144.914 Q2195.13 137.969 2191.8 134.752 Q2188.49 131.511 2181.34 131.511 L2175.69 131.511 M2171.01 127.669 L2180.62 127.669 Q2190.67 127.669 2195.37 131.858 Q2200.07 136.025 2200.07 144.914 Q2200.07 153.849 2195.34 158.039 Q2190.62 162.229 2180.62 162.229 L2171.01 162.229 L2171.01 127.669 Z\" fill=\"#000000\" fill-rule=\"nonzero\" fill-opacity=\"1\" /><path clip-path=\"url(#clip690)\" d=\"M2218.24 132.275 L2211.89 149.474 L2224.6 149.474 L2218.24 132.275 M2215.6 127.669 L2220.9 127.669 L2234.07 162.229 L2229.21 162.229 L2226.06 153.363 L2210.48 153.363 L2207.33 162.229 L2202.4 162.229 L2215.6 127.669 Z\" fill=\"#000000\" fill-rule=\"nonzero\" fill-opacity=\"1\" /><path clip-path=\"url(#clip690)\" d=\"M2239.12 127.669 L2243.79 127.669 L2243.79 158.293 L2260.62 158.293 L2260.62 162.229 L2239.12 162.229 L2239.12 127.669 Z\" fill=\"#000000\" fill-rule=\"nonzero\" fill-opacity=\"1\" /></svg>\n"
      ],
      "text/html": [
       "<img src=\"data:image/png;base64,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\" />"
      ]
     },
     "metadata": {},
     "output_type": "display_data"
    }
   ],
   "source": [
    "let\n",
    "    density(log_growth_array, label=\"Observed $(random_firm_ticker)\", lw=3, c=:red)\n",
    "    xlabel!(\"Log Growth Rate (1/years)\", fontsize=18)\n",
    "    ylabel!(\"Density\", fontsize=18)\n",
    "    plot!(bg=\"gray95\", background_color_outside=\"white\", framestyle = :box, fg_legend = :transparent);\n",
    "end"
   ]
  },
  {
   "cell_type": "markdown",
   "id": "f819175b",
   "metadata": {},
   "source": [
    "### Is the observed distribution approximately normal? \n",
    "Let's use the Anderson-Darling test to quantify how well the log growth rate distribution fits a normal distribution.\n",
    "\n",
    "> __Anderson–Darling test:__ The Anderson–Darling (AD) test is a statistical test of whether a given sample of data is drawn from a specified probability distribution. It is a type of goodness-of-fit test that compares the empirical cumulative distribution function of the sample data to the cumulative distribution function of the specified distribution. The AD test is particularly sensitive to differences in the tails of the distributions, making it useful for detecting deviations from the assumed distribution in those regions.\n",
    "\n",
    "> __Null hypothesis:__ The Anderson–Darling test examines the null hypothesis that the data in vector $x$ come from the distribution $d$ against the alternative hypothesis that the sample is not drawn from $d$. This test reports a p-value, the probability that, assuming the null hypothesis is true (your data really are i.i.d. from $d$), the AD test statistic would be at least as extreme as the one computed from your data. \n",
    "\n",
    "So, let's run the test on the log growth rate data for our randomly selected firm."
   ]
  },
  {
   "cell_type": "code",
   "execution_count": 386,
   "id": "78e448c8",
   "metadata": {},
   "outputs": [
    {
     "data": {
      "text/plain": [
       "Normal{Float64}(μ=0.06720608697468217, σ=5.801213964333342)"
      ]
     },
     "metadata": {},
     "output_type": "display_data"
    }
   ],
   "source": [
    "let\n",
    "\n",
    "    # initialize -\n",
    "    μ = log_growth_array; # get the log growth array for the randomly selected firm\n",
    "    d = fit_mle(Normal, μ); # fit the distribution using maximum likelihood estimation\n",
    "\n",
    "    # TODO: Uncomment the line below to perform the Anderson-Darling test\n",
    "    # TODO: reject the null hypothesis => NOT from a normal distribution\n",
    "    # TODO: A^2 big => data CDF does not fit theoretical CDF well\n",
    "    # ad_test_normal = HypothesisTests.OneSampleADTest(μ, d);\n",
    "end"
   ]
  },
  {
   "cell_type": "markdown",
   "id": "da604142",
   "metadata": {},
   "source": [
    "Is the Anderson-Darling result consistent with our expectations: Is the observed growth rate normally distributed?"
   ]
  },
  {
   "cell_type": "code",
   "execution_count": 387,
   "id": "03e070b8",
   "metadata": {},
   "outputs": [],
   "source": [
    "is_observed_growth_rate_distribution_normal = nothing; # set to true if normal, false otherwise"
   ]
  },
  {
   "cell_type": "markdown",
   "id": "c022f13d-3129-4d7a-8534-594d1101cc83",
   "metadata": {
    "tags": []
   },
   "source": [
    "### Compute binomial model parameters\n",
    "Using the `log_growth_array::Array{Float64,1}`, we compute the expected magnitude of an up move $\\bar{u}$, the expected magnitude of a down move $\\bar{d}$, and the estimated probability $\\bar{p}$ of an up move by passing the return data to [a `RealWorldBinomialProbabilityMeasure` instance](https://varnerlab.github.io/VLQuantitativeFinancePackage.jl/dev/equity/#VLQuantitativeFinancePackage.RealWorldBinomialProbabilityMeasure), which returns the $(u,d,p)$ tuple.\n",
    "\n",
    "> __Syntax sugar__: Behind the scenes, this call points to a private function that computes $\\bar{u}$, $\\bar{d}$, and $\\bar{p}$ by analyzing the growth rate time series data in the `log_growth_array::Array{Float64,1}` variable. Although it appears we are using a type as a function name, we are actually invoking a callable constructor—this is a useful Julia feature!\n",
    "\n",
    "What values did we obtain for our randomly selected firm?"
   ]
  },
  {
   "cell_type": "code",
   "execution_count": 388,
   "id": "af81411e-eea6-4b89-b327-7b4bdc681dc1",
   "metadata": {
    "tags": []
   },
   "outputs": [],
   "source": [
    "(ū,d̄,p̄) = let\n",
    "\n",
    "    # initialize -\n",
    "    u = nothing; \n",
    "    d = nothing; \n",
    "    p = nothing; \n",
    "\n",
    "    # TODO: Uncomment the line below to compute the RWPM parameters for the randomly selected firm\n",
    "    # (u,d,p) = (RealWorldBinomialProbabilityMeasure())(log_growth_array; Δt = Δt)\n",
    "    \n",
    "    (u,d,p); # return\n",
    "end;"
   ]
  },
  {
   "cell_type": "markdown",
   "id": "bc35e176",
   "metadata": {},
   "source": [
    "Make a table for the binomial lattice parameters:"
   ]
  },
  {
   "cell_type": "code",
   "execution_count": 389,
   "id": "82ca3cf5",
   "metadata": {},
   "outputs": [
    {
     "name": "stdout",
     "output_type": "stream",
     "text": [
      " -------- ---------- ------------ -------------\n",
      " \u001b[1m ticker \u001b[0m \u001b[1m upfactor \u001b[0m \u001b[1m downfactor \u001b[0m \u001b[1m probability \u001b[0m\n",
      " \u001b[90m String \u001b[0m \u001b[90m  Nothing \u001b[0m \u001b[90m    Nothing \u001b[0m \u001b[90m     Nothing \u001b[0m\n",
      " -------- ---------- ------------ -------------\n",
      "     DAL    nothing      nothing       nothing\n",
      " -------- ---------- ------------ -------------\n"
     ]
    }
   ],
   "source": [
    "let\n",
    "\n",
    "    # initialize -\n",
    "    df = DataFrame();\n",
    "\n",
    "    row_df = (\n",
    "        ticker = random_firm_ticker,\n",
    "        upfactor = ū,\n",
    "        downfactor = d̄,\n",
    "        probability = p̄,\n",
    "    );\n",
    "    push!(df, row_df);\n",
    "\n",
    "      # display the table -\n",
    "    pretty_table(df, backend = :text,\n",
    "         table_format = TextTableFormat(borders = text_table_borders__compact));    \n",
    "    \n",
    "end"
   ]
  },
  {
   "cell_type": "markdown",
   "id": "c9893e7e-fa9d-4b83-ba60-49ffab890d7a",
   "metadata": {
    "tags": []
   },
   "source": [
    "### Build binomial lattice model using historical parameters\n",
    "Let's construct an instance of [the `MyBinomialEquityPriceTree` type](https://varnerlab.github.io/VLQuantitativeFinancePackage.jl/dev/equity/#VLQuantitativeFinancePackage.MyBinomialEquityPriceTree) using the estimated values for the parameters ($\\bar{u}$, $\\bar{d}$, $\\bar{p}$) from above. \n",
    "\n",
    "This enables us to calculate the prices and probabilities in the tree. We store the populated model in the variable `random_test_model` for future use.\n",
    "\n",
    "First, specify the `start_index::Int64` as the trading day index in the dataset, which will serve as the tree's starting point or `L = 0`. For reproducibility, let's hard-code this value as `start_index = 1187`, which corresponds to the trading day `2018-09-19` for our dataset."
   ]
  },
  {
   "cell_type": "code",
   "execution_count": 390,
   "id": "ebe52580-48da-4513-a5fb-98ed15e7b70c",
   "metadata": {
    "tags": []
   },
   "outputs": [
    {
     "name": "stdout",
     "output_type": "stream",
     "text": [
      "Visualize Firm-107 between trading days (1187 -> 1229)\n"
     ]
    }
   ],
   "source": [
    "start_index = 1187; # DO NOT CHANGE hardcoded start-time for reproducibility\n",
    "stop_index = start_index + TSIM # TSIM defines the number of trading days to simulate\n",
    "println(\"Visualize Firm-$(random_firm_index) between trading days ($(start_index) -> $(stop_index))\")"
   ]
  },
  {
   "cell_type": "markdown",
   "id": "51539c27",
   "metadata": {},
   "source": [
    "Next, let's build and populate the binomial lattice model using the estimated parameters and the initial share price $S_{0}$, which we set as the volume-weighted average price (VWAP) on the `start_index` trading day.\n",
    "\n",
    "We save the populated model in the `random_test_model::MyBinomialEquityPriceTree` variable:"
   ]
  },
  {
   "cell_type": "code",
   "execution_count": 391,
   "id": "d62e2a59-37db-4e59-9988-f5ec2e8c504a",
   "metadata": {
    "tags": []
   },
   "outputs": [],
   "source": [
    "random_test_model = let\n",
    "\n",
    "    # initialize -\n",
    "    model = nothing;\n",
    "    Sₒ = random_firm_data[start_index, :volume_weighted_average_price]; # set the initial share price\n",
    "    \n",
    "    \n",
    "    # TODO: Uncomment the line below and re-run this cell to build and populate the binomial equity price tree model\n",
    "    # TODO: using the (ū, d̄, p̄) values computed above (real-world parameters)\n",
    "    # model = build(MyBinomialEquityPriceTree, (\n",
    "    #    u = ū, d = d̄, p = p̄)) |> (model -> populate(model, Sₒ = Sₒ, h = TSIM));\n",
    "    \n",
    "    \n",
    "    model; # return\n",
    "end;"
   ]
  },
  {
   "cell_type": "markdown",
   "id": "0ad77528",
   "metadata": {},
   "source": [
    "What's in the `random_test_model::MyBinomialEquityPriceTree` instance?"
   ]
  },
  {
   "cell_type": "code",
   "execution_count": 392,
   "id": "502f8cae",
   "metadata": {},
   "outputs": [
    {
     "data": {
      "text/plain": [
       "()"
      ]
     },
     "metadata": {},
     "output_type": "display_data"
    }
   ],
   "source": [
    "typeof(random_test_model) |> T-> fieldnames(T)"
   ]
  },
  {
   "cell_type": "markdown",
   "id": "e44c9a7c",
   "metadata": {},
   "source": [
    "You can check out the fields using the dot syntax, for example: let's look at the data:"
   ]
  },
  {
   "cell_type": "code",
   "execution_count": 393,
   "id": "afeb9d19",
   "metadata": {},
   "outputs": [
    {
     "ename": "ErrorException",
     "evalue": "type Nothing has no field data",
     "output_type": "error",
     "traceback": [
      "type Nothing has no field data\n",
      "\n",
      "Stacktrace:\n",
      " [1] getproperty(x::Nothing, f::Symbol)\n",
      "   @ Base ./Base.jl:49\n",
      " [2] top-level scope\n",
      "   @ ~/Desktop/25 fall cornell/5660/ps2-5660-f25-Bolin925411/PS2-CHEME-5660-Student-LatticeStylizedFacts-RWPM-Fall-2025.ipynb:1"
     ]
    }
   ],
   "source": [
    "random_test_model.data"
   ]
  },
  {
   "cell_type": "markdown",
   "id": "c32d5a74-ab92-4c4a-ae22-7b9179d76f3e",
   "metadata": {},
   "source": [
    "### Visualize binomial lattice price simulation\n",
    "An obvious question is: How well does the binomial lattice model simulate the actual share price? Let's visualize the results for our randomly selected firm, over the time interval defined by `start_index` and `stop_index`.\n",
    "\n",
    "> __What are we plotting?__  We'll compute the expected value and the variance of the simulated price as a function of time, i.e., at each level in the tree using the local [`𝔼(...)`](src/Compute.jl) and [`Var(...)` functions](src/Compute.jl) functions. We'll compare these values with the price observed in the market.\n",
    "\n",
    "__Unhide__ the code block below to see how we plotted the model simulated expected value and variance and the observed prices for your randomly selected firm using a binomial lattice model.\n",
    "\n",
    "> __What do we see?__ The dashed line represents the expected share price predicted by the lattice model, while the shaded regions denote levels of uncertainty $\\mu\\pm{z}\\cdot\\sigma$ for $z=$ `1.0, 1.96, 2.576`. The solid red line with circles represents the [observed VWAP price](https://en.wikipedia.org/wiki/Volume-weighted_average_price) for the selected firm and date range.\n",
    "\n",
    "Depending upon the ticker we've selected, the observed price (red line with points) may or may not lie within the $\\pm\\,{z}\\cdot\\sigma$ confidence ranges, where `z = {1, 1.96, 2.576}` are shown in progressively lighter shades of blue. The dashed dark blue line shows the expected value."
   ]
  },
  {
   "cell_type": "code",
   "execution_count": 394,
   "id": "4ee34b98-2524-4b74-820e-da12fb92983e",
   "metadata": {
    "jupyter": {
     "source_hidden": true
    },
    "tags": []
   },
   "outputs": [
    {
     "ename": "MethodError",
     "evalue": "MethodError: no method matching 𝔼(::Nothing, ::Vector{Int64})\nThe function `𝔼` exists, but no method is defined for this combination of argument types.\n\nClosest candidates are:\n  𝔼(!Matched::MyBinomialEquityPriceTree, ::Vector{Int64}; startindex)\n   @ Main ~/Desktop/25 fall cornell/5660/ps2-5660-f25-Bolin925411/src/Compute.jl:45\n  𝔼(!Matched::MyBinomialEquityPriceTree; level)\n   @ Main ~/Desktop/25 fall cornell/5660/ps2-5660-f25-Bolin925411/src/Compute.jl:6\n",
     "output_type": "error",
     "traceback": [
      "MethodError: no method matching 𝔼(::Nothing, ::Vector{Int64})\n",
      "The function `𝔼` exists, but no method is defined for this combination of argument types.\n",
      "\n",
      "Closest candidates are:\n",
      "  𝔼(!Matched::MyBinomialEquityPriceTree, ::Vector{Int64}; startindex)\n",
      "   @ Main ~/Desktop/25 fall cornell/5660/ps2-5660-f25-Bolin925411/src/Compute.jl:45\n",
      "  𝔼(!Matched::MyBinomialEquityPriceTree; level)\n",
      "   @ Main ~/Desktop/25 fall cornell/5660/ps2-5660-f25-Bolin925411/src/Compute.jl:6\n",
      "\n",
      "\n",
      "Stacktrace:\n",
      " [1] top-level scope\n",
      "   @ ~/Desktop/25 fall cornell/5660/ps2-5660-f25-Bolin925411/PS2-CHEME-5660-Student-LatticeStylizedFacts-RWPM-Fall-2025.ipynb:4"
     ]
    }
   ],
   "source": [
    "let \n",
    "\n",
    "    levels = [k for k ∈ 0:(TSIM-1)]\n",
    "    expectation = 𝔼(random_test_model, levels); # compute the expected value\n",
    "    variance = Var(random_test_model, levels); # compute the variance\n",
    "\n",
    "\n",
    "    # initialize -\n",
    "    L68 = expectation[:,2] .- sqrt.(variance[:,2])\n",
    "    U68 = expectation[:,2] .+ sqrt.(variance[:,2])\n",
    "    L95 = expectation[:,2] .- 1.96*sqrt.(variance[:,2])\n",
    "    U95 = expectation[:,2] .+ 1.96*sqrt.(variance[:,2])\n",
    "    L99 = expectation[:,2] .- 2.576*sqrt.(variance[:,2])\n",
    "    U99 = expectation[:,2] .+ 2.576*sqrt.(variance[:,2])\n",
    "\n",
    "    T_range = range(start_index,stop=stop_index-1,step=1) |> collect \n",
    "    T_sim = T_range*Δt .- Δt\n",
    "\n",
    "    plot(T_range, expectation[:,2], fillrange=L68, c=:deepskyblue1, alpha=0.4, label=\"\")\n",
    "    plot!(T_range, expectation[:,2], fillrange=U68, c=:deepskyblue1, alpha=0.4, label=\"\")\n",
    "    plot!(T_range, expectation[:,2], fillrange=L95, c=:deepskyblue1, alpha=0.3, label=\"\")\n",
    "    plot!(T_range, expectation[:,2], fillrange=U95, c=:deepskyblue1, alpha=0.3, label=\"\")\n",
    "    plot!(T_range, expectation[:,2], fillrange=L99, c=:deepskyblue1, alpha=0.2, label=\"\")\n",
    "    plot!(T_range, expectation[:,2], fillrange=U99, c=:deepskyblue1, alpha=0.2, label=\"\")\n",
    "    plot!(T_range, expectation[:,2],c=:blue, lw=3,ls=:dash, label=\"expectation\")\n",
    "    plot!(T_range, random_firm_data[levels .+ start_index, :volume_weighted_average_price],  \n",
    "        lw=4, c=:red, label=\"Firm-$(random_firm_ticker)\", legend = :topleft)\n",
    "    scatter!(T_range, random_firm_data[levels .+ start_index, :volume_weighted_average_price], label=\"\", \n",
    "        msc=:red, mc=:white)\n",
    "\n",
    "    plot!(bg=\"gray95\", background_color_outside=\"white\", framestyle = :box, fg_legend = :transparent);\n",
    "\n",
    "    xlabel!(\"Trading Day Index (AU)\", fontsize=18)\n",
    "    ylabel!(\"Firm-$(random_firm_ticker) VWAP (USD/share)\", fontsize=18)\n",
    "end"
   ]
  },
  {
   "cell_type": "code",
   "execution_count": 395,
   "id": "6ef3cd61",
   "metadata": {},
   "outputs": [],
   "source": [
    "do_I_see_price_simulation_figure = nothing; # set to true if you see the price simulation figure above, otherwise set to false"
   ]
  },
  {
   "cell_type": "markdown",
   "id": "5f334dc0-c5f9-402c-99c9-973609a7fc94",
   "metadata": {},
   "source": [
    "### Was this a successful simulation?\n",
    "Determining whether a model accurately represents data can be done in various ways, but we will utilize a simple, straightforward functional test. \n",
    "\n",
    "> __Functional test__\n",
    "> \n",
    "> * __Success__: If the simulated price falls within a specified lower bound ($L_{j}$) and upper bound ($U_{j}$) for all times $t_j$ within a given interval ($t_{j}\\in\\mathcal{I}_{k}$), then the model is deemed a `success.`\n",
    "> * __Failure__: However, if the actual price exceeds the given bounds __at any point__, the simulation is considered a `failure.`\n",
    ">\n",
    "> So, did we succeed or fail?\n",
    "\n",
    "We save the result of this functional test in the `was_simulation_successful::Bool` variable. "
   ]
  },
  {
   "cell_type": "code",
   "execution_count": 396,
   "id": "049a1ffc-2955-401b-993d-55714df603c8",
   "metadata": {
    "jupyter": {
     "source_hidden": true
    },
    "tags": []
   },
   "outputs": [
    {
     "ename": "MethodError",
     "evalue": "MethodError: no method matching 𝔼(::Nothing, ::Vector{Int64})\nThe function `𝔼` exists, but no method is defined for this combination of argument types.\n\nClosest candidates are:\n  𝔼(!Matched::MyBinomialEquityPriceTree, ::Vector{Int64}; startindex)\n   @ Main ~/Desktop/25 fall cornell/5660/ps2-5660-f25-Bolin925411/src/Compute.jl:45\n  𝔼(!Matched::MyBinomialEquityPriceTree; level)\n   @ Main ~/Desktop/25 fall cornell/5660/ps2-5660-f25-Bolin925411/src/Compute.jl:6\n",
     "output_type": "error",
     "traceback": [
      "MethodError: no method matching 𝔼(::Nothing, ::Vector{Int64})\n",
      "The function `𝔼` exists, but no method is defined for this combination of argument types.\n",
      "\n",
      "Closest candidates are:\n",
      "  𝔼(!Matched::MyBinomialEquityPriceTree, ::Vector{Int64}; startindex)\n",
      "   @ Main ~/Desktop/25 fall cornell/5660/ps2-5660-f25-Bolin925411/src/Compute.jl:45\n",
      "  𝔼(!Matched::MyBinomialEquityPriceTree; level)\n",
      "   @ Main ~/Desktop/25 fall cornell/5660/ps2-5660-f25-Bolin925411/src/Compute.jl:6\n",
      "\n",
      "\n",
      "Stacktrace:\n",
      " [1] top-level scope\n",
      "   @ ~/Desktop/25 fall cornell/5660/ps2-5660-f25-Bolin925411/PS2-CHEME-5660-Student-LatticeStylizedFacts-RWPM-Fall-2025.ipynb:6"
     ]
    }
   ],
   "source": [
    "was_simulation_successful = let\n",
    "\n",
    "    # initialize -\n",
    "    was_simulation_successful = nothing;\n",
    "    levels = [k for k ∈ 0:(TSIM-1)]\n",
    "    expectation = 𝔼(random_test_model, levels); # compute the expected value\n",
    "    variance = Var(random_test_model, levels); # compute the variance\n",
    "\n",
    "    z = 2.576 # If you wanted a tighter confidence interval, you could change this value\n",
    "    L = expectation[:,2] .- z*sqrt.(variance[:,2])\n",
    "    U = expectation[:,2] .+ z*sqrt.(variance[:,2])\n",
    "    \n",
    "    # check the bounds: if below L, or above U then simulation failed\n",
    "    was_simulation_successful = true;\n",
    "    for k ∈ 1:TSIM\n",
    "\n",
    "        price_value = random_firm_data[start_index+k-1,:volume_weighted_average_price];\n",
    "        if (price_value < L[k]) || (price_value > U[k])\n",
    "            was_simulation_successful = false;\n",
    "            break;\n",
    "        end\n",
    "    end\n",
    "\n",
    "    was_simulation_successful; # return\n",
    "end;"
   ]
  },
  {
   "cell_type": "code",
   "execution_count": 397,
   "id": "8565dbe9",
   "metadata": {},
   "outputs": [
    {
     "ename": "UndefVarError",
     "evalue": "UndefVarError: `was_simulation_successful` not defined in `Main`\nSuggestion: check for spelling errors or missing imports.",
     "output_type": "error",
     "traceback": [
      "UndefVarError: `was_simulation_successful` not defined in `Main`\n",
      "Suggestion: check for spelling errors or missing imports.\n",
      "\n",
      "Stacktrace:\n",
      " [1] top-level scope\n",
      "   @ ~/Desktop/25 fall cornell/5660/ps2-5660-f25-Bolin925411/PS2-CHEME-5660-Student-LatticeStylizedFacts-RWPM-Fall-2025.ipynb:1"
     ]
    }
   ],
   "source": [
    "println(\"Was the $(random_firm_ticker) simulation between days ($(start_index) -> $(stop_index)) successful? $(was_simulation_successful)\")"
   ]
  },
  {
   "cell_type": "markdown",
   "id": "2aa6f7f1",
   "metadata": {},
   "source": [
    "___"
   ]
  },
  {
   "cell_type": "markdown",
   "id": "8fde8a0d",
   "metadata": {},
   "source": [
    "## Task 3: Check the Stylized Facts for the Binomial Lattice Model\n",
    "In this task, we will evaluate whether our binomial lattice model can replicate the well-known stylized facts of equity returns: heavy tails, vanishing autocorrelation, and volatility clustering. \n",
    "\n",
    "> __Stylized Facts of Binomial Returns:__ We already know from lecture that the binomial lattice model can replicate the vanishing autocorrelation stylized fact, but __not__ the heavy tails or volatility clustering stylized facts. Let's verify the autocorrelation function for our simulated growth rates to demonstrate this.\n",
    "\n",
    "### Single step growth rates\n",
    "We know (from our analysis of the data) that the one-step growth rates $\\{\\mu_{2},\\mu_{3},\\dots,\\mu_{T}\\}$ are __approximately__ independent and identically distributed (i.i.d.) random variables. Thus, the autocorrelation function for the growth rates should be __approximately__ zero for all lags $\\tau > 1$. The growth rate $\\mu_{j,j-1}$ between two consecutive time periods $j-1$ and $j$ is given by:\n",
    "$$\n",
    "\\boxed{\n",
    "    \\begin{align*}\n",
    "    \\mu_{j,j-1}\n",
    "    & = \\frac{1}{\\Delta t}\\Big[X_j\\ln u + (1-X_j)\\ln d\\Big] \\\\\n",
    "    & = \\frac{1}{\\Delta t}\\Big[\\ln d + X_j\\ln\\!\\Big({u}/{d}\\Big)\\Big]\\quad\\blacksquare\n",
    "    \\end{align*}\n",
    "}\n",
    "$$\n",
    "where $X_j\\sim\\texttt{Bernoulli}(p)$. We'll use this expression to generate a $T-1$ length sequence of single step growth rates $\\{\\mu_{2},\\mu_{3},\\dots,\\mu_{T}\\}$ by simulating $T-1$ independent Bernoulli trials. We'll save the growth rate sequence in the `single_step_simulated_growth_array::Array{Float64,1}` variable."
   ]
  },
  {
   "cell_type": "code",
   "execution_count": 398,
   "id": "eb80e9b4",
   "metadata": {},
   "outputs": [
    {
     "ename": "MethodError",
     "evalue": "MethodError: no method matching Bernoulli(::Nothing)\nThe type `Bernoulli` exists, but no method is defined for this combination of argument types when trying to construct it.\n\nClosest candidates are:\n  Bernoulli()\n   @ Distributions ~/.julia/packages/Distributions/YQSrn/src/univariate/discrete/bernoulli.jl:39\n  Bernoulli(!Matched::Integer; check_args)\n   @ Distributions ~/.julia/packages/Distributions/YQSrn/src/univariate/discrete/bernoulli.jl:38\n  Bernoulli(!Matched::Real; check_args)\n   @ Distributions ~/.julia/packages/Distributions/YQSrn/src/univariate/discrete/bernoulli.jl:33\n",
     "output_type": "error",
     "traceback": [
      "MethodError: no method matching Bernoulli(::Nothing)\n",
      "The type `Bernoulli` exists, but no method is defined for this combination of argument types when trying to construct it.\n",
      "\n",
      "Closest candidates are:\n",
      "  Bernoulli()\n",
      "   @ Distributions ~/.julia/packages/Distributions/YQSrn/src/univariate/discrete/bernoulli.jl:39\n",
      "  Bernoulli(!Matched::Integer; check_args)\n",
      "   @ Distributions ~/.julia/packages/Distributions/YQSrn/src/univariate/discrete/bernoulli.jl:38\n",
      "  Bernoulli(!Matched::Real; check_args)\n",
      "   @ Distributions ~/.julia/packages/Distributions/YQSrn/src/univariate/discrete/bernoulli.jl:33\n",
      "\n",
      "\n",
      "Stacktrace:\n",
      " [1] top-level scope\n",
      "   @ ~/Desktop/25 fall cornell/5660/ps2-5660-f25-Bolin925411/PS2-CHEME-5660-Student-LatticeStylizedFacts-RWPM-Fall-2025.ipynb:8"
     ]
    }
   ],
   "source": [
    "single_step_simulated_growth_array = let\n",
    "\n",
    "    # initialize -\n",
    "    u = ū # up factor\n",
    "    d = d̄ # down factor\n",
    "    p = p̄ # probability of up movement\n",
    "    T = maximum_number_trading_days; # total number of trading days in the dataset\n",
    "    day = Bernoulli(p); # initialize a Bernoulli random variable\n",
    "    simulated_growth_array = Array{Float64}(undef, T - 1);\n",
    "\n",
    "    # simulate the growth rates\n",
    "    for j ∈ 1:(T - 1)\n",
    "\n",
    "        # everyday is a random Bernoulli trial\n",
    "        Xⱼ = rand(day) == true ? 1 : 0 # did day j go up (1) or down (0)?\n",
    "        simulated_growth_array[j] = (1/Δt)*(log(d) + Xⱼ*log(u/d)) # compute the growth rate\n",
    "    end\n",
    "\n",
    "    simulated_growth_array; # return -\n",
    "end;"
   ]
  },
  {
   "cell_type": "markdown",
   "id": "2e4ff158",
   "metadata": {},
   "source": [
    "So what have we done here? \n",
    "\n",
    "> __Simulation:__ We simulated $T-1$ independent Bernoulli trials, where each trial results in an `up` move with probability $p$ and a `down` move with probability $1-p$. For each trial, we computed the corresponding growth rate $\\mu_{j,j-1}$ using the expression above. The result is a sequence of $T-1$ growth rates stored in the `single_step_simulated_growth_array::Array{Float64,1}` variable.\n",
    "\n",
    "Before we analyze the autocorrelation function for the simulated growth rates, let's compute the expected value and variance of the single-step growth rates using the expressions we derived in class. The expected value and the variance expressions that we derived for the one-step growth rate are given by:\n",
    "$$\n",
    "\\begin{align*}\n",
    "\\mathbb{E}[\\mu_{j,j-1}] & = \\frac{1}{\\Delta t}\\Big[p\\ln u + (1-p)\\ln d\\Big]\\\\\n",
    "\\mathrm{Var}(\\mu_{j,j-1}) & = \\frac{p(1-p)}{\\Delta t^{\\,2}}\\Big[\\ln\\!\\Big(\\frac{u}{d}\\Big)\\Big]^2\n",
    "\\end{align*}\n",
    "$$\n",
    "Let's compare the theoretical and simulated values for the expected value and variance of the single-step growth rate."
   ]
  },
  {
   "cell_type": "code",
   "execution_count": 399,
   "id": "75d58fea",
   "metadata": {},
   "outputs": [
    {
     "ename": "UndefVarError",
     "evalue": "UndefVarError: `single_step_simulated_growth_array` not defined in `Main`\nSuggestion: check for spelling errors or missing imports.",
     "output_type": "error",
     "traceback": [
      "UndefVarError: `single_step_simulated_growth_array` not defined in `Main`\n",
      "Suggestion: check for spelling errors or missing imports.\n",
      "\n",
      "Stacktrace:\n",
      " [1] top-level scope\n",
      "   @ ~/Desktop/25 fall cornell/5660/ps2-5660-f25-Bolin925411/PS2-CHEME-5660-Student-LatticeStylizedFacts-RWPM-Fall-2025.ipynb:11"
     ]
    }
   ],
   "source": [
    "let\n",
    "\n",
    "    # initialize -\n",
    "    df = DataFrame(); # will hold the results for the table.\n",
    "    expected_value_simulated = nothing;\n",
    "    expected_value_theoretical = nothing;\n",
    "    variance_simulated = nothing;\n",
    "    variance_theoretical = nothing;\n",
    "\n",
    "    # TODO: Uncomment the lines below and re-run this cell to compute the expected value and variance for the simulated growth rates\n",
    "    expected_value_simulated = mean(single_step_simulated_growth_array);\n",
    "    expected_value_theoretical = (1/Δt)*(p̄*log(ū) + (1-p̄)*log(d̄))\n",
    "    variance_simulated = var(single_step_simulated_growth_array);\n",
    "    variance_theoretical = (p̄*(1-p̄)/(Δt^2))*(log(ū/d̄))^2\n",
    "\n",
    "    # package the results into a DataFrame, and display the results as a table -\n",
    "    row_df = (\n",
    "        Metric = \"Expected Value\", \n",
    "        Simulated = expected_value_simulated,\n",
    "        Theoretical = expected_value_theoretical,\n",
    "        rtol_percent = 100*abs((expected_value_simulated - expected_value_theoretical)/(expected_value_theoretical))\n",
    "    )\n",
    "    push!(df, row_df)\n",
    "\n",
    "    row_df = (\n",
    "        Metric = \"Variance\", \n",
    "        Simulated = variance_simulated,\n",
    "        Theoretical = variance_theoretical,\n",
    "        rtol_percent = 100*abs((variance_simulated - variance_theoretical)/(variance_theoretical))\n",
    "    )\n",
    "    push!(df, row_df)\n",
    "\n",
    "    # display the table -\n",
    "    pretty_table(df, backend = :text,\n",
    "         table_format = TextTableFormat(borders = text_table_borders__compact));\n",
    "end"
   ]
  },
  {
   "cell_type": "markdown",
   "id": "1441d495",
   "metadata": {},
   "source": [
    "__Results:__ When I ran the code above, my theoretical and simulated values for the variance of the single-step growth rate were close, but the expected values were not as close as I would have expected. Thus, I'm curious about what the single-step growth rate distribution looks like. Let's visualize it.\n",
    "\n",
    "__Unhide__ the code block below to see how we visualized the single-step growth rate sequence from our binomial lattice model. __Note:__ this is a Kernel Density Estimate (KDE) plot, which is a smoothed version of a histogram."
   ]
  },
  {
   "cell_type": "code",
   "execution_count": 400,
   "id": "f33148c0",
   "metadata": {},
   "outputs": [
    {
     "ename": "UndefVarError",
     "evalue": "UndefVarError: `single_step_simulated_growth_array` not defined in `Main`\nSuggestion: check for spelling errors or missing imports.",
     "output_type": "error",
     "traceback": [
      "UndefVarError: `single_step_simulated_growth_array` not defined in `Main`\n",
      "Suggestion: check for spelling errors or missing imports.\n",
      "\n",
      "Stacktrace:\n",
      " [1] top-level scope\n",
      "   @ ~/Desktop/25 fall cornell/5660/ps2-5660-f25-Bolin925411/PS2-CHEME-5660-Student-LatticeStylizedFacts-RWPM-Fall-2025.ipynb:2"
     ]
    }
   ],
   "source": [
    "let\n",
    "    f₋ = findall(x-> x < 0.0, single_step_simulated_growth_array) |> length |> l-> l/(maximum_number_trading_days - 1)\n",
    "    f₊ = findall(x-> x > 0.0, single_step_simulated_growth_array) |> length |> l-> l/(maximum_number_trading_days - 1)\n",
    "    @show f₋, f₊ # fraction: down, up\n",
    "\n",
    "    # initialize - \n",
    "    density(single_step_simulated_growth_array, label=\"\", lw=3, c=:navy)\n",
    "    xlabel!(\"Single-Step Growth Rate (1/years)\", fontsize=18)\n",
    "    ylabel!(\"Density\", fontsize=18)\n",
    "    plot!(bg=\"gray95\", background_color_outside=\"white\", framestyle = :box, fg_legend = :transparent);\n",
    "end"
   ]
  },
  {
   "cell_type": "code",
   "execution_count": 401,
   "id": "dee663e6",
   "metadata": {},
   "outputs": [],
   "source": [
    "do_I_see_single_step_growth_rate_distribution_figure = nothing; # set to true if you see a distribution of single-step growth rates"
   ]
  },
  {
   "cell_type": "markdown",
   "id": "253c608d",
   "metadata": {},
   "source": [
    "### Discussion Questions\n",
    "1. Wow, this plot initially seems strange! Why do two peaks make sense given the binomial lattice model?\n",
    "2. Why is the variance of the single-step growth rate distribution closer to the theoretical value than the expected value?\n",
    "3. Suppose we wanted to make this more realistic. What changes would you make to a lattice model to make the single-step growth rate distribution more realistic?"
   ]
  },
  {
   "cell_type": "code",
   "execution_count": 402,
   "id": "5e51b272",
   "metadata": {},
   "outputs": [],
   "source": [
    "# Fill in your answers here."
   ]
  },
  {
   "cell_type": "code",
   "execution_count": 403,
   "id": "fc1dce3a",
   "metadata": {},
   "outputs": [],
   "source": [
    "did_I_answer_discussion_questions_1 = nothing; # set to true if you answered question 1"
   ]
  },
  {
   "cell_type": "markdown",
   "id": "d7679a8a",
   "metadata": {},
   "source": [
    "### Autocorrelation Function\n",
    "Ok, so we have a sequence of single-step growth rates generated by our binomial lattice model. Let's check if this single-step growth rate sequence has a vanishing autocorrelation function.\n",
    "\n",
    "> __Why do we care about the autocorrelation function?__ If there is correlation between growth rates at different times, we could predict future growth rates based on past growth rates. This would imply that the market is not a random walk, which contradicts the efficient market hypothesis. However, if the autocorrelation function is approximately zero for all lags $\\tau > 1$, then the growth rates are independent, and the market behaves like a random walk.\n",
    "\n",
    "__Unhide__ the code block below to see how we computed and visualized the autocorrelation function for the single-step growth rate sequence generated by our binomial lattice model.\n",
    "\n",
    "If the autocorrelation (red line) is approximately zero (between the 99.9\\% confidence interval) for all lags $\\tau > 1$, then the single-step growth rates are independent, and the binomial lattice model replicates the (approximately) vanishing autocorrelation stylized fact of equity returns."
   ]
  },
  {
   "cell_type": "code",
   "execution_count": 404,
   "id": "0d0a4d16",
   "metadata": {},
   "outputs": [
    {
     "ename": "UndefVarError",
     "evalue": "UndefVarError: `single_step_simulated_growth_array` not defined in `Main`\nSuggestion: check for spelling errors or missing imports.",
     "output_type": "error",
     "traceback": [
      "UndefVarError: `single_step_simulated_growth_array` not defined in `Main`\n",
      "Suggestion: check for spelling errors or missing imports.\n",
      "\n",
      "Stacktrace:\n",
      " [1] top-level scope\n",
      "   @ ~/Desktop/25 fall cornell/5660/ps2-5660-f25-Bolin925411/PS2-CHEME-5660-Student-LatticeStylizedFacts-RWPM-Fall-2025.ipynb:6"
     ]
    }
   ],
   "source": [
    "let\n",
    "\n",
    "    # generate a random index -\n",
    "    number_of_steps = maximum_number_trading_days - 1;\n",
    "    max_number_of_steps_x = 50 # how many lags to visualize\n",
    "    X = single_step_simulated_growth_array;\n",
    "    \n",
    "    plot(autocor(X, (0:(number_of_steps - 1) |> collect)), label=\"Observed $(random_firm_ticker)\", lw=2, c=:red, \n",
    "        bg=\"gray95\", background_color_outside=\"white\", framestyle = :box, fg_legend = :transparent, \n",
    "        linetype=:steppost, xlims=(0,max_number_of_steps_x))\n",
    "\n",
    "    LINE = (3.09/sqrt(number_of_steps))*ones(number_of_steps-1);\n",
    "    plot!(LINE, label=\"99.9% confidence\", lw=2, c=:black, ls=:dash)\n",
    "    plot!(-LINE, label=\"\", lw=2, c=:black, ls=:dash)\n",
    "    xlabel!(\"Lag (trading day)\", fontsize=18)\n",
    "    ylabel!(\"Autocorrelation Growth Rate\", fontsize=18)\n",
    "end"
   ]
  },
  {
   "cell_type": "markdown",
   "id": "6d23cd47",
   "metadata": {},
   "source": [
    "__Reminder__: Ignore the first lag, i.e., $\\tau = 0$, since the autocorrelation at lag zero is always one (by definition)."
   ]
  },
  {
   "cell_type": "code",
   "execution_count": 405,
   "id": "d7e63513",
   "metadata": {},
   "outputs": [],
   "source": [
    "does_my_autocorrelation_function_vanish = nothing; # set to true if the autocorrelation function vanishes for all lags > 1"
   ]
  },
  {
   "cell_type": "markdown",
   "id": "be8725fd",
   "metadata": {},
   "source": [
    "### Multi-step Binomial Growth Rate Distribution\n",
    "The single-step growth rate distribution is a discrete random variable that can take on only two values, corresponding to an `up` move or a `down` move. However, we made a claim in the lecture notes that the multiple step growth rate distribution approaches a normal distribution as the number of steps increases. Let's investigate this claim.\n",
    "\n",
    "> __Claim:__ The multi-step growth rate distribution $\\mu_{T}$ is a linear transformation of a binomially distributed variable $k$. As $T \\to \\infty$, the distribution of $\\mu_{T}$ converges to a normal distribution by the Central Limit Theorem, which has lighter tails than the empirical return distributions observed in financial markets. Let's check this claim.\n",
    "\n",
    "Suppose we consider multiple step growth rates, i.e., intervals that span $t=0\\rightarrow{T}$ in timesteps of length $\\Delta{t}$, where $T=i\\Delta{t}$ for $i=1,2,\\dots$. Then, the multi-step growth rate $\\mu_{T}$ expression for a binomial process is given by (taken from lecture notes): \n",
    "$$\n",
    "\\boxed{\n",
    "\\mu_{T} = \\left(\\frac{1}{\\Delta{t}}\\right)\\;\\Bigl[k\\ln\\left(\\frac{u}{d}\\right)+i\\ln(d)\\Bigr] \\quad\\text{where}\\;k\\sim \\texttt{Binomial}(i,p)\n",
    "}\n",
    "$$\n",
    "\n",
    "Let's simulate the multi-step growth rate distribution for our randomly selected firm. \n",
    "\n",
    "__Unhide__ the code block below to see how we simulated the multi-step growth rate distribution. We simulate $i$ steps, `number_of_trials` times. In other words, we are looking at `number_of_trials` multi-step growth rates, each computed over `i` steps.\n",
    "\n",
    "We'll save the data in the `multiple_step_simulated_growth_array::Array{Float64,1}` variable."
   ]
  },
  {
   "cell_type": "code",
   "execution_count": 406,
   "id": "ee397ffb",
   "metadata": {},
   "outputs": [
    {
     "ename": "MethodError",
     "evalue": "MethodError: no method matching Binomial(::Int64, ::Nothing)\nThe type `Binomial` exists, but no method is defined for this combination of argument types when trying to construct it.\n\nClosest candidates are:\n  Binomial(::Integer, !Matched::Integer; check_args)\n   @ Distributions ~/.julia/packages/Distributions/YQSrn/src/univariate/discrete/binomial.jl:37\n  Binomial(::Integer, !Matched::Real; check_args)\n   @ Distributions ~/.julia/packages/Distributions/YQSrn/src/univariate/discrete/binomial.jl:32\n  Binomial(::Integer; check_args)\n   @ Distributions ~/.julia/packages/Distributions/YQSrn/src/univariate/discrete/binomial.jl:38\n  ...\n",
     "output_type": "error",
     "traceback": [
      "MethodError: no method matching Binomial(::Int64, ::Nothing)\n",
      "The type `Binomial` exists, but no method is defined for this combination of argument types when trying to construct it.\n",
      "\n",
      "Closest candidates are:\n",
      "  Binomial(::Integer, !Matched::Integer; check_args)\n",
      "   @ Distributions ~/.julia/packages/Distributions/YQSrn/src/univariate/discrete/binomial.jl:37\n",
      "  Binomial(::Integer, !Matched::Real; check_args)\n",
      "   @ Distributions ~/.julia/packages/Distributions/YQSrn/src/univariate/discrete/binomial.jl:32\n",
      "  Binomial(::Integer; check_args)\n",
      "   @ Distributions ~/.julia/packages/Distributions/YQSrn/src/univariate/discrete/binomial.jl:38\n",
      "  ...\n",
      "\n",
      "\n",
      "Stacktrace:\n",
      " [1] top-level scope\n",
      "   @ ~/Desktop/25 fall cornell/5660/ps2-5660-f25-Bolin925411/PS2-CHEME-5660-Student-LatticeStylizedFacts-RWPM-Fall-2025.ipynb:9"
     ]
    }
   ],
   "source": [
    "multiple_step_simulated_growth_array = let\n",
    "\n",
    "    # initialize -\n",
    "    u = ū\n",
    "    d = d̄\n",
    "    p = p̄\n",
    "    i = 252; # number of days we are simulating\n",
    "    number_of_trials = 1000; # number of trials to simulate (number of i length sequences)\n",
    "    day = Binomial(i, p); # initialize a Binomial random variable\n",
    "    simulated_growth_array = Array{Float64}(undef, number_of_trials);\n",
    "    \n",
    "    # main loop: simulate the growth rates\n",
    "    for j ∈ 1:number_of_trials\n",
    "        \n",
    "        # everyday is a random Bernoulli trial\n",
    "        Xⱼ = rand(day)\n",
    "        simulated_growth_array[j] = (1/(Δt))*(rand(day)*log(u/d)+i*log(d))\n",
    "    end\n",
    "\n",
    "    simulated_growth_array; # return -\n",
    "end;"
   ]
  },
  {
   "cell_type": "markdown",
   "id": "60ffc2ac",
   "metadata": {},
   "source": [
    "__Unhide__ the code block below to see how we visualized the multi-step growth rate sequence from our binomial lattice model.\n",
    "\n",
    "So what do we see? The blue line is a kernel density estimate (KDE) of the multi-step growth rate distribution generated by our binomial lattice model. The red line is a maximum likelihood estimate (MLE) fit of a normal distribution to the multi-step growth rate distribution.\n",
    "\n",
    "Is the blue line close to the red line? If so, this supports our claim that the multi-step growth rate distribution approaches a normal distribution as the number of steps increases."
   ]
  },
  {
   "cell_type": "code",
   "execution_count": 407,
   "id": "c3d51563",
   "metadata": {},
   "outputs": [
    {
     "ename": "UndefVarError",
     "evalue": "UndefVarError: `multiple_step_simulated_growth_array` not defined in `Main`\nSuggestion: check for spelling errors or missing imports.",
     "output_type": "error",
     "traceback": [
      "UndefVarError: `multiple_step_simulated_growth_array` not defined in `Main`\n",
      "Suggestion: check for spelling errors or missing imports.\n",
      "\n",
      "Stacktrace:\n",
      " [1] top-level scope\n",
      "   @ ~/Desktop/25 fall cornell/5660/ps2-5660-f25-Bolin925411/PS2-CHEME-5660-Student-LatticeStylizedFacts-RWPM-Fall-2025.ipynb:2"
     ]
    }
   ],
   "source": [
    "let\n",
    "    d = fit_mle(Normal, multiple_step_simulated_growth_array);\n",
    "    plot(d, c=:red, label=\"MLE Normal Fit\", lw=3);\n",
    "    density!(multiple_step_simulated_growth_array, c=:blue, label=\"KDE Fit\", lw=3)\n",
    "    plot!(bg=\"gray95\", background_color_outside=\"white\", framestyle = :box, fg_legend = :transparent);\n",
    "    xlabel!(\"Multiple-Step Growth Rate (1/years)\", fontsize=18)\n",
    "    ylabel!(\"Density (AU)\", fontsize=18)\n",
    "end"
   ]
  },
  {
   "cell_type": "markdown",
   "id": "c77cd135",
   "metadata": {},
   "source": [
    "### Discussion Questions\n",
    "1. As you change the number of steps (the `i` variable in the code block above), what do you observe? Do we approach a normal distribution (visually) as the number of steps increases?"
   ]
  },
  {
   "cell_type": "code",
   "execution_count": 408,
   "id": "c10608e7",
   "metadata": {},
   "outputs": [],
   "source": [
    "# Fill in your answer here."
   ]
  },
  {
   "cell_type": "code",
   "execution_count": 409,
   "id": "4ee36c4b",
   "metadata": {},
   "outputs": [],
   "source": [
    "did_I_answer_discussion_question_2 = nothing; # true if you answered question 2"
   ]
  },
  {
   "cell_type": "markdown",
   "id": "be6f1020",
   "metadata": {},
   "source": [
    "### Anderson Darling Test\n",
    "The eye test is one thing, but let's get a little more rigorous. Let's use the Anderson-Darling test to quantify how well the multi-step growth rate distribution fits a normal distribution.\n",
    "\n",
    "> __Null hypothesis:__ The Anderson–Darling test examines the null hypothesis that the data in vector $x$ come from the distribution $d$ against the alternative hypothesis that the sample is not drawn from $d$. This test reports a p-value, the probability that, assuming the null hypothesis is true (your data really are i.i.d. from $d$), the AD test statistic would be at least as extreme as the one computed from your data. \n",
    "\n",
    "Let's run the test."
   ]
  },
  {
   "cell_type": "code",
   "execution_count": 410,
   "id": "e7164a3a",
   "metadata": {},
   "outputs": [
    {
     "ename": "UndefVarError",
     "evalue": "UndefVarError: `multiple_step_simulated_growth_array` not defined in `Main`\nSuggestion: check for spelling errors or missing imports.",
     "output_type": "error",
     "traceback": [
      "UndefVarError: `multiple_step_simulated_growth_array` not defined in `Main`\n",
      "Suggestion: check for spelling errors or missing imports.\n",
      "\n",
      "Stacktrace:\n",
      " [1] top-level scope\n",
      "   @ ~/Desktop/25 fall cornell/5660/ps2-5660-f25-Bolin925411/PS2-CHEME-5660-Student-LatticeStylizedFacts-RWPM-Fall-2025.ipynb:4"
     ]
    }
   ],
   "source": [
    "let\n",
    "\n",
    "    # initialize -\n",
    "    μ = multiple_step_simulated_growth_array; # grab the multi-step growth rate array\n",
    "    d = fit_mle(Normal, μ);   # fit the distribution using maximum likelihood estimation\n",
    "\n",
    "    # TODO: Uncomment the line below to perform the Anderson-Darling test\n",
    "    # TODO: reject the null hypothesis => NOT from a normal distribution\n",
    "    # TODO: A^2 big => data CDF does not fit theoretical CDF well\n",
    "    # ad_test_normal = HypothesisTests.OneSampleADTest(μ, d);\n",
    "end"
   ]
  },
  {
   "cell_type": "markdown",
   "id": "a5b05622",
   "metadata": {},
   "source": [
    "So what do we see?"
   ]
  },
  {
   "cell_type": "code",
   "execution_count": 411,
   "id": "337bede7",
   "metadata": {},
   "outputs": [],
   "source": [
    "does_anderson_darling_test_suggest_normality = nothing; # set to true if we fail to reject the null hypothesis, false otherwise"
   ]
  },
  {
   "cell_type": "markdown",
   "id": "7d3f1e23",
   "metadata": {},
   "source": [
    "## Tests\n",
    "In the code block below, we run a few tests to check if your notebook is set up and running correctly. If you see any errors, please check your code and fix the issues."
   ]
  },
  {
   "cell_type": "code",
   "execution_count": 412,
   "id": "bc4aeed6",
   "metadata": {},
   "outputs": [
    {
     "name": "stdout",
     "output_type": "stream",
     "text": [
      "Growth Rate Calculation: \u001b[91m\u001b[1mTest Failed\u001b[22m\u001b[39m at \u001b[39m\u001b[1m/Users/bolinyu/Desktop/25 fall cornell/5660/ps2-5660-f25-Bolin925411/PS2-CHEME-5660-Student-LatticeStylizedFacts-RWPM-Fall-2025.ipynb:10\u001b[22m\n",
      "  Expression: is_observed_growth_rate_distribution_normal == false\n",
      "   Evaluated: nothing == false\n",
      "\n",
      "Stacktrace:\n",
      " [1] \u001b[0m\u001b[1mmacro expansion\u001b[22m\n",
      "\u001b[90m   @\u001b[39m \u001b[90m~/.julia/juliaup/julia-1.11.6+0.aarch64.apple.darwin14/share/julia/stdlib/v1.11/Test/src/\u001b[39m\u001b[90m\u001b[4mTest.jl:680\u001b[24m\u001b[39m\u001b[90m [inlined]\u001b[39m\n",
      " [2] \u001b[0m\u001b[1mmacro expansion\u001b[22m\n",
      "\u001b[90m   @\u001b[39m \u001b[90m~/Desktop/25 fall cornell/5660/ps2-5660-f25-Bolin925411/\u001b[39m\u001b[90m\u001b[4mPS2-CHEME-5660-Student-LatticeStylizedFacts-RWPM-Fall-2025.ipynb:10\u001b[24m\u001b[39m\u001b[90m [inlined]\u001b[39m\n",
      " [3] \u001b[0m\u001b[1mmacro expansion\u001b[22m\n",
      "\u001b[90m   @\u001b[39m \u001b[90m~/.julia/juliaup/julia-1.11.6+0.aarch64.apple.darwin14/share/julia/stdlib/v1.11/Test/src/\u001b[39m\u001b[90m\u001b[4mTest.jl:1709\u001b[24m\u001b[39m\u001b[90m [inlined]\u001b[39m\n",
      " [4] \u001b[0m\u001b[1mmacro expansion\u001b[22m\n",
      "\u001b[90m   @\u001b[39m \u001b[90m~/Desktop/25 fall cornell/5660/ps2-5660-f25-Bolin925411/\u001b[39m\u001b[90m\u001b[4mPS2-CHEME-5660-Student-LatticeStylizedFacts-RWPM-Fall-2025.ipynb:7\u001b[24m\u001b[39m\u001b[90m [inlined]\u001b[39m\n",
      " [5] \u001b[0m\u001b[1mmacro expansion\u001b[22m\n",
      "\u001b[90m   @\u001b[39m \u001b[90m~/.julia/juliaup/julia-1.11.6+0.aarch64.apple.darwin14/share/julia/stdlib/v1.11/Test/src/\u001b[39m\u001b[90m\u001b[4mTest.jl:1709\u001b[24m\u001b[39m\u001b[90m [inlined]\u001b[39m\n",
      " [6] top-level scope\n",
      "\u001b[90m   @\u001b[39m \u001b[90m~/Desktop/25 fall cornell/5660/ps2-5660-f25-Bolin925411/\u001b[39m\u001b[90m\u001b[4mPS2-CHEME-5660-Student-LatticeStylizedFacts-RWPM-Fall-2025.ipynb:6\u001b[24m\u001b[39m\n",
      "Random Test Model: \u001b[91m\u001b[1mTest Failed\u001b[22m\u001b[39m at \u001b[39m\u001b[1m/Users/bolinyu/Desktop/25 fall cornell/5660/ps2-5660-f25-Bolin925411/PS2-CHEME-5660-Student-LatticeStylizedFacts-RWPM-Fall-2025.ipynb:15\u001b[22m\n",
      "  Expression: isnothing(random_test_model) == false\n",
      "   Evaluated: true == false\n",
      "\n",
      "Stacktrace:\n",
      " [1] \u001b[0m\u001b[1mmacro expansion\u001b[22m\n",
      "\u001b[90m   @\u001b[39m \u001b[90m~/.julia/juliaup/julia-1.11.6+0.aarch64.apple.darwin14/share/julia/stdlib/v1.11/Test/src/\u001b[39m\u001b[90m\u001b[4mTest.jl:680\u001b[24m\u001b[39m\u001b[90m [inlined]\u001b[39m\n",
      " [2] \u001b[0m\u001b[1mmacro expansion\u001b[22m\n",
      "\u001b[90m   @\u001b[39m \u001b[90m~/Desktop/25 fall cornell/5660/ps2-5660-f25-Bolin925411/\u001b[39m\u001b[90m\u001b[4mPS2-CHEME-5660-Student-LatticeStylizedFacts-RWPM-Fall-2025.ipynb:15\u001b[24m\u001b[39m\u001b[90m [inlined]\u001b[39m\n",
      " [3] \u001b[0m\u001b[1mmacro expansion\u001b[22m\n",
      "\u001b[90m   @\u001b[39m \u001b[90m~/.julia/juliaup/julia-1.11.6+0.aarch64.apple.darwin14/share/julia/stdlib/v1.11/Test/src/\u001b[39m\u001b[90m\u001b[4mTest.jl:1709\u001b[24m\u001b[39m\u001b[90m [inlined]\u001b[39m\n",
      " [4] \u001b[0m\u001b[1mmacro expansion\u001b[22m\n",
      "\u001b[90m   @\u001b[39m \u001b[90m~/Desktop/25 fall cornell/5660/ps2-5660-f25-Bolin925411/\u001b[39m\u001b[90m\u001b[4mPS2-CHEME-5660-Student-LatticeStylizedFacts-RWPM-Fall-2025.ipynb:15\u001b[24m\u001b[39m\u001b[90m [inlined]\u001b[39m\n",
      " [5] \u001b[0m\u001b[1mmacro expansion\u001b[22m\n",
      "\u001b[90m   @\u001b[39m \u001b[90m~/.julia/juliaup/julia-1.11.6+0.aarch64.apple.darwin14/share/julia/stdlib/v1.11/Test/src/\u001b[39m\u001b[90m\u001b[4mTest.jl:1709\u001b[24m\u001b[39m\u001b[90m [inlined]\u001b[39m\n",
      " [6] top-level scope\n",
      "\u001b[90m   @\u001b[39m \u001b[90m~/Desktop/25 fall cornell/5660/ps2-5660-f25-Bolin925411/\u001b[39m\u001b[90m\u001b[4mPS2-CHEME-5660-Student-LatticeStylizedFacts-RWPM-Fall-2025.ipynb:6\u001b[24m\u001b[39m\n",
      "Random Test Model: \u001b[91m\u001b[1mError During Test\u001b[22m\u001b[39m at \u001b[39m\u001b[1m/Users/bolinyu/Desktop/25 fall cornell/5660/ps2-5660-f25-Bolin925411/PS2-CHEME-5660-Student-LatticeStylizedFacts-RWPM-Fall-2025.ipynb:16\u001b[22m\n",
      "  Test threw exception\n",
      "  Expression: isempty(random_test_model.data) == false\n",
      "  type Nothing has no field data\n",
      "  Stacktrace:\n",
      "   [1] \u001b[0m\u001b[1mgetproperty\u001b[22m\u001b[0m\u001b[1m(\u001b[22m\u001b[90mx\u001b[39m::\u001b[0mNothing, \u001b[90mf\u001b[39m::\u001b[0mSymbol\u001b[0m\u001b[1m)\u001b[22m\n",
      "  \u001b[90m   @\u001b[39m \u001b[90mBase\u001b[39m \u001b[90m./\u001b[39m\u001b[90m\u001b[4mBase.jl:49\u001b[24m\u001b[39m\n",
      "   [2] \u001b[0m\u001b[1mmacro expansion\u001b[22m\n",
      "  \u001b[90m   @\u001b[39m \u001b[90m~/.julia/juliaup/julia-1.11.6+0.aarch64.apple.darwin14/share/julia/stdlib/v1.11/Test/src/\u001b[39m\u001b[90m\u001b[4mTest.jl:677\u001b[24m\u001b[39m\u001b[90m [inlined]\u001b[39m\n",
      "   [3] \u001b[0m\u001b[1mmacro expansion\u001b[22m\n",
      "  \u001b[90m   @\u001b[39m \u001b[90m~/Desktop/25 fall cornell/5660/ps2-5660-f25-Bolin925411/\u001b[39m\u001b[90m\u001b[4mPS2-CHEME-5660-Student-LatticeStylizedFacts-RWPM-Fall-2025.ipynb:16\u001b[24m\u001b[39m\u001b[90m [inlined]\u001b[39m\n",
      "   [4] \u001b[0m\u001b[1mmacro expansion\u001b[22m\n",
      "  \u001b[90m   @\u001b[39m \u001b[90m~/.julia/juliaup/julia-1.11.6+0.aarch64.apple.darwin14/share/julia/stdlib/v1.11/Test/src/\u001b[39m\u001b[90m\u001b[4mTest.jl:1709\u001b[24m\u001b[39m\u001b[90m [inlined]\u001b[39m\n",
      "   [5] \u001b[0m\u001b[1mmacro expansion\u001b[22m\n",
      "  \u001b[90m   @\u001b[39m \u001b[90m~/Desktop/25 fall cornell/5660/ps2-5660-f25-Bolin925411/\u001b[39m\u001b[90m\u001b[4mPS2-CHEME-5660-Student-LatticeStylizedFacts-RWPM-Fall-2025.ipynb:15\u001b[24m\u001b[39m\u001b[90m [inlined]\u001b[39m\n",
      "   [6] \u001b[0m\u001b[1mmacro expansion\u001b[22m\n",
      "  \u001b[90m   @\u001b[39m \u001b[90m~/.julia/juliaup/julia-1.11.6+0.aarch64.apple.darwin14/share/julia/stdlib/v1.11/Test/src/\u001b[39m\u001b[90m\u001b[4mTest.jl:1709\u001b[24m\u001b[39m\u001b[90m [inlined]\u001b[39m\n",
      "   [7] top-level scope\n",
      "  \u001b[90m   @\u001b[39m \u001b[90m~/Desktop/25 fall cornell/5660/ps2-5660-f25-Bolin925411/\u001b[39m\u001b[90m\u001b[4mPS2-CHEME-5660-Student-LatticeStylizedFacts-RWPM-Fall-2025.ipynb:6\u001b[24m\u001b[39m\n",
      "Random Test Model: \u001b[91m\u001b[1mError During Test\u001b[22m\u001b[39m at \u001b[39m\u001b[1m/Users/bolinyu/Desktop/25 fall cornell/5660/ps2-5660-f25-Bolin925411/PS2-CHEME-5660-Student-LatticeStylizedFacts-RWPM-Fall-2025.ipynb:17\u001b[22m\n",
      "  Test threw exception\n",
      "  Expression: isempty(random_test_model.connectivity) == false\n",
      "  type Nothing has no field connectivity\n",
      "  Stacktrace:\n",
      "   [1] \u001b[0m\u001b[1mgetproperty\u001b[22m\u001b[0m\u001b[1m(\u001b[22m\u001b[90mx\u001b[39m::\u001b[0mNothing, \u001b[90mf\u001b[39m::\u001b[0mSymbol\u001b[0m\u001b[1m)\u001b[22m\n",
      "  \u001b[90m   @\u001b[39m \u001b[90mBase\u001b[39m \u001b[90m./\u001b[39m\u001b[90m\u001b[4mBase.jl:49\u001b[24m\u001b[39m\n",
      "   [2] \u001b[0m\u001b[1mmacro expansion\u001b[22m\n",
      "  \u001b[90m   @\u001b[39m \u001b[90m~/.julia/juliaup/julia-1.11.6+0.aarch64.apple.darwin14/share/julia/stdlib/v1.11/Test/src/\u001b[39m\u001b[90m\u001b[4mTest.jl:677\u001b[24m\u001b[39m\u001b[90m [inlined]\u001b[39m\n",
      "   [3] \u001b[0m\u001b[1mmacro expansion\u001b[22m\n",
      "  \u001b[90m   @\u001b[39m \u001b[90m~/Desktop/25 fall cornell/5660/ps2-5660-f25-Bolin925411/\u001b[39m\u001b[90m\u001b[4mPS2-CHEME-5660-Student-LatticeStylizedFacts-RWPM-Fall-2025.ipynb:17\u001b[24m\u001b[39m\u001b[90m [inlined]\u001b[39m\n",
      "   [4] \u001b[0m\u001b[1mmacro expansion\u001b[22m\n",
      "  \u001b[90m   @\u001b[39m \u001b[90m~/.julia/juliaup/julia-1.11.6+0.aarch64.apple.darwin14/share/julia/stdlib/v1.11/Test/src/\u001b[39m\u001b[90m\u001b[4mTest.jl:1709\u001b[24m\u001b[39m\u001b[90m [inlined]\u001b[39m\n",
      "   [5] \u001b[0m\u001b[1mmacro expansion\u001b[22m\n",
      "  \u001b[90m   @\u001b[39m \u001b[90m~/Desktop/25 fall cornell/5660/ps2-5660-f25-Bolin925411/\u001b[39m\u001b[90m\u001b[4mPS2-CHEME-5660-Student-LatticeStylizedFacts-RWPM-Fall-2025.ipynb:15\u001b[24m\u001b[39m\u001b[90m [inlined]\u001b[39m\n",
      "   [6] \u001b[0m\u001b[1mmacro expansion\u001b[22m\n",
      "  \u001b[90m   @\u001b[39m \u001b[90m~/.julia/juliaup/julia-1.11.6+0.aarch64.apple.darwin14/share/julia/stdlib/v1.11/Test/src/\u001b[39m\u001b[90m\u001b[4mTest.jl:1709\u001b[24m\u001b[39m\u001b[90m [inlined]\u001b[39m\n",
      "   [7] top-level scope\n",
      "  \u001b[90m   @\u001b[39m \u001b[90m~/Desktop/25 fall cornell/5660/ps2-5660-f25-Bolin925411/\u001b[39m\u001b[90m\u001b[4mPS2-CHEME-5660-Student-LatticeStylizedFacts-RWPM-Fall-2025.ipynb:6\u001b[24m\u001b[39m\n",
      "Random Test Model: \u001b[91m\u001b[1mError During Test\u001b[22m\u001b[39m at \u001b[39m\u001b[1m/Users/bolinyu/Desktop/25 fall cornell/5660/ps2-5660-f25-Bolin925411/PS2-CHEME-5660-Student-LatticeStylizedFacts-RWPM-Fall-2025.ipynb:18\u001b[22m\n",
      "  Test threw exception\n",
      "  Expression: isempty(random_test_model.levels) == false\n",
      "  type Nothing has no field levels\n",
      "  Stacktrace:\n",
      "   [1] \u001b[0m\u001b[1mgetproperty\u001b[22m\u001b[0m\u001b[1m(\u001b[22m\u001b[90mx\u001b[39m::\u001b[0mNothing, \u001b[90mf\u001b[39m::\u001b[0mSymbol\u001b[0m\u001b[1m)\u001b[22m\n",
      "  \u001b[90m   @\u001b[39m \u001b[90mBase\u001b[39m \u001b[90m./\u001b[39m\u001b[90m\u001b[4mBase.jl:49\u001b[24m\u001b[39m\n",
      "   [2] \u001b[0m\u001b[1mmacro expansion\u001b[22m\n",
      "  \u001b[90m   @\u001b[39m \u001b[90m~/.julia/juliaup/julia-1.11.6+0.aarch64.apple.darwin14/share/julia/stdlib/v1.11/Test/src/\u001b[39m\u001b[90m\u001b[4mTest.jl:677\u001b[24m\u001b[39m\u001b[90m [inlined]\u001b[39m\n",
      "   [3] \u001b[0m\u001b[1mmacro expansion\u001b[22m\n",
      "  \u001b[90m   @\u001b[39m \u001b[90m~/Desktop/25 fall cornell/5660/ps2-5660-f25-Bolin925411/\u001b[39m\u001b[90m\u001b[4mPS2-CHEME-5660-Student-LatticeStylizedFacts-RWPM-Fall-2025.ipynb:18\u001b[24m\u001b[39m\u001b[90m [inlined]\u001b[39m\n",
      "   [4] \u001b[0m\u001b[1mmacro expansion\u001b[22m\n",
      "  \u001b[90m   @\u001b[39m \u001b[90m~/.julia/juliaup/julia-1.11.6+0.aarch64.apple.darwin14/share/julia/stdlib/v1.11/Test/src/\u001b[39m\u001b[90m\u001b[4mTest.jl:1709\u001b[24m\u001b[39m\u001b[90m [inlined]\u001b[39m\n",
      "   [5] \u001b[0m\u001b[1mmacro expansion\u001b[22m\n",
      "  \u001b[90m   @\u001b[39m \u001b[90m~/Desktop/25 fall cornell/5660/ps2-5660-f25-Bolin925411/\u001b[39m\u001b[90m\u001b[4mPS2-CHEME-5660-Student-LatticeStylizedFacts-RWPM-Fall-2025.ipynb:15\u001b[24m\u001b[39m\u001b[90m [inlined]\u001b[39m\n",
      "   [6] \u001b[0m\u001b[1mmacro expansion\u001b[22m\n",
      "  \u001b[90m   @\u001b[39m \u001b[90m~/.julia/juliaup/julia-1.11.6+0.aarch64.apple.darwin14/share/julia/stdlib/v1.11/Test/src/\u001b[39m\u001b[90m\u001b[4mTest.jl:1709\u001b[24m\u001b[39m\u001b[90m [inlined]\u001b[39m\n",
      "   [7] top-level scope\n",
      "  \u001b[90m   @\u001b[39m \u001b[90m~/Desktop/25 fall cornell/5660/ps2-5660-f25-Bolin925411/\u001b[39m\u001b[90m\u001b[4mPS2-CHEME-5660-Student-LatticeStylizedFacts-RWPM-Fall-2025.ipynb:6\u001b[24m\u001b[39m\n",
      "Figures, Tables and DQs: \u001b[91m\u001b[1mTest Failed\u001b[22m\u001b[39m at \u001b[39m\u001b[1m/Users/bolinyu/Desktop/25 fall cornell/5660/ps2-5660-f25-Bolin925411/PS2-CHEME-5660-Student-LatticeStylizedFacts-RWPM-Fall-2025.ipynb:23\u001b[22m\n",
      "  Expression: do_I_see_price_simulation_figure == true\n",
      "   Evaluated: nothing == true\n",
      "\n",
      "Stacktrace:\n",
      " [1] \u001b[0m\u001b[1mmacro expansion\u001b[22m\n",
      "\u001b[90m   @\u001b[39m \u001b[90m~/.julia/juliaup/julia-1.11.6+0.aarch64.apple.darwin14/share/julia/stdlib/v1.11/Test/src/\u001b[39m\u001b[90m\u001b[4mTest.jl:680\u001b[24m\u001b[39m\u001b[90m [inlined]\u001b[39m\n",
      " [2] \u001b[0m\u001b[1mmacro expansion\u001b[22m\n",
      "\u001b[90m   @\u001b[39m \u001b[90m~/Desktop/25 fall cornell/5660/ps2-5660-f25-Bolin925411/\u001b[39m\u001b[90m\u001b[4mPS2-CHEME-5660-Student-LatticeStylizedFacts-RWPM-Fall-2025.ipynb:23\u001b[24m\u001b[39m\u001b[90m [inlined]\u001b[39m\n",
      " [3] \u001b[0m\u001b[1mmacro expansion\u001b[22m\n",
      "\u001b[90m   @\u001b[39m \u001b[90m~/.julia/juliaup/julia-1.11.6+0.aarch64.apple.darwin14/share/julia/stdlib/v1.11/Test/src/\u001b[39m\u001b[90m\u001b[4mTest.jl:1709\u001b[24m\u001b[39m\u001b[90m [inlined]\u001b[39m\n",
      " [4] \u001b[0m\u001b[1mmacro expansion\u001b[22m\n",
      "\u001b[90m   @\u001b[39m \u001b[90m~/Desktop/25 fall cornell/5660/ps2-5660-f25-Bolin925411/\u001b[39m\u001b[90m\u001b[4mPS2-CHEME-5660-Student-LatticeStylizedFacts-RWPM-Fall-2025.ipynb:23\u001b[24m\u001b[39m\u001b[90m [inlined]\u001b[39m\n",
      " [5] \u001b[0m\u001b[1mmacro expansion\u001b[22m\n",
      "\u001b[90m   @\u001b[39m \u001b[90m~/.julia/juliaup/julia-1.11.6+0.aarch64.apple.darwin14/share/julia/stdlib/v1.11/Test/src/\u001b[39m\u001b[90m\u001b[4mTest.jl:1709\u001b[24m\u001b[39m\u001b[90m [inlined]\u001b[39m\n",
      " [6] top-level scope\n",
      "\u001b[90m   @\u001b[39m \u001b[90m~/Desktop/25 fall cornell/5660/ps2-5660-f25-Bolin925411/\u001b[39m\u001b[90m\u001b[4mPS2-CHEME-5660-Student-LatticeStylizedFacts-RWPM-Fall-2025.ipynb:6\u001b[24m\u001b[39m\n",
      "Figures, Tables and DQs: \u001b[91m\u001b[1mTest Failed\u001b[22m\u001b[39m at \u001b[39m\u001b[1m/Users/bolinyu/Desktop/25 fall cornell/5660/ps2-5660-f25-Bolin925411/PS2-CHEME-5660-Student-LatticeStylizedFacts-RWPM-Fall-2025.ipynb:24\u001b[22m\n",
      "  Expression: do_I_see_single_step_growth_rate_distribution_figure == true\n",
      "   Evaluated: nothing == true\n",
      "\n",
      "Stacktrace:\n",
      " [1] \u001b[0m\u001b[1mmacro expansion\u001b[22m\n",
      "\u001b[90m   @\u001b[39m \u001b[90m~/.julia/juliaup/julia-1.11.6+0.aarch64.apple.darwin14/share/julia/stdlib/v1.11/Test/src/\u001b[39m\u001b[90m\u001b[4mTest.jl:680\u001b[24m\u001b[39m\u001b[90m [inlined]\u001b[39m\n",
      " [2] \u001b[0m\u001b[1mmacro expansion\u001b[22m\n",
      "\u001b[90m   @\u001b[39m \u001b[90m~/Desktop/25 fall cornell/5660/ps2-5660-f25-Bolin925411/\u001b[39m\u001b[90m\u001b[4mPS2-CHEME-5660-Student-LatticeStylizedFacts-RWPM-Fall-2025.ipynb:24\u001b[24m\u001b[39m\u001b[90m [inlined]\u001b[39m\n",
      " [3] \u001b[0m\u001b[1mmacro expansion\u001b[22m\n",
      "\u001b[90m   @\u001b[39m \u001b[90m~/.julia/juliaup/julia-1.11.6+0.aarch64.apple.darwin14/share/julia/stdlib/v1.11/Test/src/\u001b[39m\u001b[90m\u001b[4mTest.jl:1709\u001b[24m\u001b[39m\u001b[90m [inlined]\u001b[39m\n",
      " [4] \u001b[0m\u001b[1mmacro expansion\u001b[22m\n",
      "\u001b[90m   @\u001b[39m \u001b[90m~/Desktop/25 fall cornell/5660/ps2-5660-f25-Bolin925411/\u001b[39m\u001b[90m\u001b[4mPS2-CHEME-5660-Student-LatticeStylizedFacts-RWPM-Fall-2025.ipynb:23\u001b[24m\u001b[39m\u001b[90m [inlined]\u001b[39m\n",
      " [5] \u001b[0m\u001b[1mmacro expansion\u001b[22m\n",
      "\u001b[90m   @\u001b[39m \u001b[90m~/.julia/juliaup/julia-1.11.6+0.aarch64.apple.darwin14/share/julia/stdlib/v1.11/Test/src/\u001b[39m\u001b[90m\u001b[4mTest.jl:1709\u001b[24m\u001b[39m\u001b[90m [inlined]\u001b[39m\n",
      " [6] top-level scope\n",
      "\u001b[90m   @\u001b[39m \u001b[90m~/Desktop/25 fall cornell/5660/ps2-5660-f25-Bolin925411/\u001b[39m\u001b[90m\u001b[4mPS2-CHEME-5660-Student-LatticeStylizedFacts-RWPM-Fall-2025.ipynb:6\u001b[24m\u001b[39m\n",
      "Figures, Tables and DQs: \u001b[91m\u001b[1mTest Failed\u001b[22m\u001b[39m at \u001b[39m\u001b[1m/Users/bolinyu/Desktop/25 fall cornell/5660/ps2-5660-f25-Bolin925411/PS2-CHEME-5660-Student-LatticeStylizedFacts-RWPM-Fall-2025.ipynb:25\u001b[22m\n",
      "  Expression: did_I_answer_discussion_questions_1 == true\n",
      "   Evaluated: nothing == true\n",
      "\n",
      "Stacktrace:\n",
      " [1] \u001b[0m\u001b[1mmacro expansion\u001b[22m\n",
      "\u001b[90m   @\u001b[39m \u001b[90m~/.julia/juliaup/julia-1.11.6+0.aarch64.apple.darwin14/share/julia/stdlib/v1.11/Test/src/\u001b[39m\u001b[90m\u001b[4mTest.jl:680\u001b[24m\u001b[39m\u001b[90m [inlined]\u001b[39m\n",
      " [2] \u001b[0m\u001b[1mmacro expansion\u001b[22m\n",
      "\u001b[90m   @\u001b[39m \u001b[90m~/Desktop/25 fall cornell/5660/ps2-5660-f25-Bolin925411/\u001b[39m\u001b[90m\u001b[4mPS2-CHEME-5660-Student-LatticeStylizedFacts-RWPM-Fall-2025.ipynb:25\u001b[24m\u001b[39m\u001b[90m [inlined]\u001b[39m\n",
      " [3] \u001b[0m\u001b[1mmacro expansion\u001b[22m\n",
      "\u001b[90m   @\u001b[39m \u001b[90m~/.julia/juliaup/julia-1.11.6+0.aarch64.apple.darwin14/share/julia/stdlib/v1.11/Test/src/\u001b[39m\u001b[90m\u001b[4mTest.jl:1709\u001b[24m\u001b[39m\u001b[90m [inlined]\u001b[39m\n",
      " [4] \u001b[0m\u001b[1mmacro expansion\u001b[22m\n",
      "\u001b[90m   @\u001b[39m \u001b[90m~/Desktop/25 fall cornell/5660/ps2-5660-f25-Bolin925411/\u001b[39m\u001b[90m\u001b[4mPS2-CHEME-5660-Student-LatticeStylizedFacts-RWPM-Fall-2025.ipynb:23\u001b[24m\u001b[39m\u001b[90m [inlined]\u001b[39m\n",
      " [5] \u001b[0m\u001b[1mmacro expansion\u001b[22m\n",
      "\u001b[90m   @\u001b[39m \u001b[90m~/.julia/juliaup/julia-1.11.6+0.aarch64.apple.darwin14/share/julia/stdlib/v1.11/Test/src/\u001b[39m\u001b[90m\u001b[4mTest.jl:1709\u001b[24m\u001b[39m\u001b[90m [inlined]\u001b[39m\n",
      " [6] top-level scope\n",
      "\u001b[90m   @\u001b[39m \u001b[90m~/Desktop/25 fall cornell/5660/ps2-5660-f25-Bolin925411/\u001b[39m\u001b[90m\u001b[4mPS2-CHEME-5660-Student-LatticeStylizedFacts-RWPM-Fall-2025.ipynb:6\u001b[24m\u001b[39m\n",
      "Figures, Tables and DQs: \u001b[91m\u001b[1mTest Failed\u001b[22m\u001b[39m at \u001b[39m\u001b[1m/Users/bolinyu/Desktop/25 fall cornell/5660/ps2-5660-f25-Bolin925411/PS2-CHEME-5660-Student-LatticeStylizedFacts-RWPM-Fall-2025.ipynb:26\u001b[22m\n",
      "  Expression: did_I_answer_discussion_question_2 == true\n",
      "   Evaluated: nothing == true\n",
      "\n",
      "Stacktrace:\n",
      " [1] \u001b[0m\u001b[1mmacro expansion\u001b[22m\n",
      "\u001b[90m   @\u001b[39m \u001b[90m~/.julia/juliaup/julia-1.11.6+0.aarch64.apple.darwin14/share/julia/stdlib/v1.11/Test/src/\u001b[39m\u001b[90m\u001b[4mTest.jl:680\u001b[24m\u001b[39m\u001b[90m [inlined]\u001b[39m\n",
      " [2] \u001b[0m\u001b[1mmacro expansion\u001b[22m\n",
      "\u001b[90m   @\u001b[39m \u001b[90m~/Desktop/25 fall cornell/5660/ps2-5660-f25-Bolin925411/\u001b[39m\u001b[90m\u001b[4mPS2-CHEME-5660-Student-LatticeStylizedFacts-RWPM-Fall-2025.ipynb:26\u001b[24m\u001b[39m\u001b[90m [inlined]\u001b[39m\n",
      " [3] \u001b[0m\u001b[1mmacro expansion\u001b[22m\n",
      "\u001b[90m   @\u001b[39m \u001b[90m~/.julia/juliaup/julia-1.11.6+0.aarch64.apple.darwin14/share/julia/stdlib/v1.11/Test/src/\u001b[39m\u001b[90m\u001b[4mTest.jl:1709\u001b[24m\u001b[39m\u001b[90m [inlined]\u001b[39m\n",
      " [4] \u001b[0m\u001b[1mmacro expansion\u001b[22m\n",
      "\u001b[90m   @\u001b[39m \u001b[90m~/Desktop/25 fall cornell/5660/ps2-5660-f25-Bolin925411/\u001b[39m\u001b[90m\u001b[4mPS2-CHEME-5660-Student-LatticeStylizedFacts-RWPM-Fall-2025.ipynb:23\u001b[24m\u001b[39m\u001b[90m [inlined]\u001b[39m\n",
      " [5] \u001b[0m\u001b[1mmacro expansion\u001b[22m\n",
      "\u001b[90m   @\u001b[39m \u001b[90m~/.julia/juliaup/julia-1.11.6+0.aarch64.apple.darwin14/share/julia/stdlib/v1.11/Test/src/\u001b[39m\u001b[90m\u001b[4mTest.jl:1709\u001b[24m\u001b[39m\u001b[90m [inlined]\u001b[39m\n",
      " [6] top-level scope\n",
      "\u001b[90m   @\u001b[39m \u001b[90m~/Desktop/25 fall cornell/5660/ps2-5660-f25-Bolin925411/\u001b[39m\u001b[90m\u001b[4mPS2-CHEME-5660-Student-LatticeStylizedFacts-RWPM-Fall-2025.ipynb:6\u001b[24m\u001b[39m\n",
      "Figures, Tables and DQs: \u001b[91m\u001b[1mError During Test\u001b[22m\u001b[39m at \u001b[39m\u001b[1m/Users/bolinyu/Desktop/25 fall cornell/5660/ps2-5660-f25-Bolin925411/PS2-CHEME-5660-Student-LatticeStylizedFacts-RWPM-Fall-2025.ipynb:27\u001b[22m\n",
      "  Test threw exception\n",
      "  Expression: isnothing(was_simulation_successful) == false\n",
      "  UndefVarError: `was_simulation_successful` not defined in `Main`\n",
      "  Suggestion: check for spelling errors or missing imports.\n",
      "  Stacktrace:\n",
      "   [1] \u001b[0m\u001b[1mmacro expansion\u001b[22m\n",
      "  \u001b[90m   @\u001b[39m \u001b[90m~/.julia/juliaup/julia-1.11.6+0.aarch64.apple.darwin14/share/julia/stdlib/v1.11/Test/src/\u001b[39m\u001b[90m\u001b[4mTest.jl:677\u001b[24m\u001b[39m\u001b[90m [inlined]\u001b[39m\n",
      "   [2] \u001b[0m\u001b[1mmacro expansion\u001b[22m\n",
      "  \u001b[90m   @\u001b[39m \u001b[90m~/Desktop/25 fall cornell/5660/ps2-5660-f25-Bolin925411/\u001b[39m\u001b[90m\u001b[4mPS2-CHEME-5660-Student-LatticeStylizedFacts-RWPM-Fall-2025.ipynb:27\u001b[24m\u001b[39m\u001b[90m [inlined]\u001b[39m\n",
      "   [3] \u001b[0m\u001b[1mmacro expansion\u001b[22m\n",
      "  \u001b[90m   @\u001b[39m \u001b[90m~/.julia/juliaup/julia-1.11.6+0.aarch64.apple.darwin14/share/julia/stdlib/v1.11/Test/src/\u001b[39m\u001b[90m\u001b[4mTest.jl:1709\u001b[24m\u001b[39m\u001b[90m [inlined]\u001b[39m\n",
      "   [4] \u001b[0m\u001b[1mmacro expansion\u001b[22m\n",
      "  \u001b[90m   @\u001b[39m \u001b[90m~/Desktop/25 fall cornell/5660/ps2-5660-f25-Bolin925411/\u001b[39m\u001b[90m\u001b[4mPS2-CHEME-5660-Student-LatticeStylizedFacts-RWPM-Fall-2025.ipynb:23\u001b[24m\u001b[39m\u001b[90m [inlined]\u001b[39m\n",
      "   [5] \u001b[0m\u001b[1mmacro expansion\u001b[22m\n",
      "  \u001b[90m   @\u001b[39m \u001b[90m~/.julia/juliaup/julia-1.11.6+0.aarch64.apple.darwin14/share/julia/stdlib/v1.11/Test/src/\u001b[39m\u001b[90m\u001b[4mTest.jl:1709\u001b[24m\u001b[39m\u001b[90m [inlined]\u001b[39m\n",
      "   [6] top-level scope\n",
      "  \u001b[90m   @\u001b[39m \u001b[90m~/Desktop/25 fall cornell/5660/ps2-5660-f25-Bolin925411/\u001b[39m\u001b[90m\u001b[4mPS2-CHEME-5660-Student-LatticeStylizedFacts-RWPM-Fall-2025.ipynb:6\u001b[24m\u001b[39m\n",
      "Figures, Tables and DQs: \u001b[91m\u001b[1mError During Test\u001b[22m\u001b[39m at \u001b[39m\u001b[1m/Users/bolinyu/Desktop/25 fall cornell/5660/ps2-5660-f25-Bolin925411/PS2-CHEME-5660-Student-LatticeStylizedFacts-RWPM-Fall-2025.ipynb:28\u001b[22m\n",
      "  Test threw exception\n",
      "  Expression: was_simulation_successful == true || was_simulation_successful == false\n",
      "  UndefVarError: `was_simulation_successful` not defined in `Main`\n",
      "  Suggestion: check for spelling errors or missing imports.\n",
      "  Stacktrace:\n",
      "   [1] \u001b[0m\u001b[1mmacro expansion\u001b[22m\n",
      "  \u001b[90m   @\u001b[39m \u001b[90m~/Desktop/25 fall cornell/5660/ps2-5660-f25-Bolin925411/\u001b[39m\u001b[90m\u001b[4mPS2-CHEME-5660-Student-LatticeStylizedFacts-RWPM-Fall-2025.ipynb:28\u001b[24m\u001b[39m\u001b[90m [inlined]\u001b[39m\n",
      "   [2] \u001b[0m\u001b[1mmacro expansion\u001b[22m\n",
      "  \u001b[90m   @\u001b[39m \u001b[90m~/.julia/juliaup/julia-1.11.6+0.aarch64.apple.darwin14/share/julia/stdlib/v1.11/Test/src/\u001b[39m\u001b[90m\u001b[4mTest.jl:677\u001b[24m\u001b[39m\u001b[90m [inlined]\u001b[39m\n",
      "   [3] \u001b[0m\u001b[1mmacro expansion\u001b[22m\n",
      "  \u001b[90m   @\u001b[39m \u001b[90m~/Desktop/25 fall cornell/5660/ps2-5660-f25-Bolin925411/\u001b[39m\u001b[90m\u001b[4mPS2-CHEME-5660-Student-LatticeStylizedFacts-RWPM-Fall-2025.ipynb:28\u001b[24m\u001b[39m\u001b[90m [inlined]\u001b[39m\n",
      "   [4] \u001b[0m\u001b[1mmacro expansion\u001b[22m\n",
      "  \u001b[90m   @\u001b[39m \u001b[90m~/.julia/juliaup/julia-1.11.6+0.aarch64.apple.darwin14/share/julia/stdlib/v1.11/Test/src/\u001b[39m\u001b[90m\u001b[4mTest.jl:1709\u001b[24m\u001b[39m\u001b[90m [inlined]\u001b[39m\n",
      "   [5] \u001b[0m\u001b[1mmacro expansion\u001b[22m\n",
      "  \u001b[90m   @\u001b[39m \u001b[90m~/Desktop/25 fall cornell/5660/ps2-5660-f25-Bolin925411/\u001b[39m\u001b[90m\u001b[4mPS2-CHEME-5660-Student-LatticeStylizedFacts-RWPM-Fall-2025.ipynb:23\u001b[24m\u001b[39m\u001b[90m [inlined]\u001b[39m\n",
      "   [6] \u001b[0m\u001b[1mmacro expansion\u001b[22m\n",
      "  \u001b[90m   @\u001b[39m \u001b[90m~/.julia/juliaup/julia-1.11.6+0.aarch64.apple.darwin14/share/julia/stdlib/v1.11/Test/src/\u001b[39m\u001b[90m\u001b[4mTest.jl:1709\u001b[24m\u001b[39m\u001b[90m [inlined]\u001b[39m\n",
      "   [7] top-level scope\n",
      "  \u001b[90m   @\u001b[39m \u001b[90m~/Desktop/25 fall cornell/5660/ps2-5660-f25-Bolin925411/\u001b[39m\u001b[90m\u001b[4mPS2-CHEME-5660-Student-LatticeStylizedFacts-RWPM-Fall-2025.ipynb:6\u001b[24m\u001b[39m\n",
      "Stylized Facts: \u001b[91m\u001b[1mTest Failed\u001b[22m\u001b[39m at \u001b[39m\u001b[1m/Users/bolinyu/Desktop/25 fall cornell/5660/ps2-5660-f25-Bolin925411/PS2-CHEME-5660-Student-LatticeStylizedFacts-RWPM-Fall-2025.ipynb:33\u001b[22m\n",
      "  Expression: isnothing(does_my_autocorrelation_function_vanish) == false\n",
      "   Evaluated: true == false\n",
      "\n",
      "Stacktrace:\n",
      " [1] \u001b[0m\u001b[1mmacro expansion\u001b[22m\n",
      "\u001b[90m   @\u001b[39m \u001b[90m~/.julia/juliaup/julia-1.11.6+0.aarch64.apple.darwin14/share/julia/stdlib/v1.11/Test/src/\u001b[39m\u001b[90m\u001b[4mTest.jl:680\u001b[24m\u001b[39m\u001b[90m [inlined]\u001b[39m\n",
      " [2] \u001b[0m\u001b[1mmacro expansion\u001b[22m\n",
      "\u001b[90m   @\u001b[39m \u001b[90m~/Desktop/25 fall cornell/5660/ps2-5660-f25-Bolin925411/\u001b[39m\u001b[90m\u001b[4mPS2-CHEME-5660-Student-LatticeStylizedFacts-RWPM-Fall-2025.ipynb:33\u001b[24m\u001b[39m\u001b[90m [inlined]\u001b[39m\n",
      " [3] \u001b[0m\u001b[1mmacro expansion\u001b[22m\n",
      "\u001b[90m   @\u001b[39m \u001b[90m~/.julia/juliaup/julia-1.11.6+0.aarch64.apple.darwin14/share/julia/stdlib/v1.11/Test/src/\u001b[39m\u001b[90m\u001b[4mTest.jl:1709\u001b[24m\u001b[39m\u001b[90m [inlined]\u001b[39m\n",
      " [4] \u001b[0m\u001b[1mmacro expansion\u001b[22m\n",
      "\u001b[90m   @\u001b[39m \u001b[90m~/Desktop/25 fall cornell/5660/ps2-5660-f25-Bolin925411/\u001b[39m\u001b[90m\u001b[4mPS2-CHEME-5660-Student-LatticeStylizedFacts-RWPM-Fall-2025.ipynb:33\u001b[24m\u001b[39m\u001b[90m [inlined]\u001b[39m\n",
      " [5] \u001b[0m\u001b[1mmacro expansion\u001b[22m\n",
      "\u001b[90m   @\u001b[39m \u001b[90m~/.julia/juliaup/julia-1.11.6+0.aarch64.apple.darwin14/share/julia/stdlib/v1.11/Test/src/\u001b[39m\u001b[90m\u001b[4mTest.jl:1709\u001b[24m\u001b[39m\u001b[90m [inlined]\u001b[39m\n",
      " [6] top-level scope\n",
      "\u001b[90m   @\u001b[39m \u001b[90m~/Desktop/25 fall cornell/5660/ps2-5660-f25-Bolin925411/\u001b[39m\u001b[90m\u001b[4mPS2-CHEME-5660-Student-LatticeStylizedFacts-RWPM-Fall-2025.ipynb:6\u001b[24m\u001b[39m\n",
      "Stylized Facts: \u001b[91m\u001b[1mTest Failed\u001b[22m\u001b[39m at \u001b[39m\u001b[1m/Users/bolinyu/Desktop/25 fall cornell/5660/ps2-5660-f25-Bolin925411/PS2-CHEME-5660-Student-LatticeStylizedFacts-RWPM-Fall-2025.ipynb:34\u001b[22m\n",
      "  Expression: does_my_autocorrelation_function_vanish == true\n",
      "   Evaluated: nothing == true\n",
      "\n",
      "Stacktrace:\n",
      " [1] \u001b[0m\u001b[1mmacro expansion\u001b[22m\n",
      "\u001b[90m   @\u001b[39m \u001b[90m~/.julia/juliaup/julia-1.11.6+0.aarch64.apple.darwin14/share/julia/stdlib/v1.11/Test/src/\u001b[39m\u001b[90m\u001b[4mTest.jl:680\u001b[24m\u001b[39m\u001b[90m [inlined]\u001b[39m\n",
      " [2] \u001b[0m\u001b[1mmacro expansion\u001b[22m\n",
      "\u001b[90m   @\u001b[39m \u001b[90m~/Desktop/25 fall cornell/5660/ps2-5660-f25-Bolin925411/\u001b[39m\u001b[90m\u001b[4mPS2-CHEME-5660-Student-LatticeStylizedFacts-RWPM-Fall-2025.ipynb:34\u001b[24m\u001b[39m\u001b[90m [inlined]\u001b[39m\n",
      " [3] \u001b[0m\u001b[1mmacro expansion\u001b[22m\n",
      "\u001b[90m   @\u001b[39m \u001b[90m~/.julia/juliaup/julia-1.11.6+0.aarch64.apple.darwin14/share/julia/stdlib/v1.11/Test/src/\u001b[39m\u001b[90m\u001b[4mTest.jl:1709\u001b[24m\u001b[39m\u001b[90m [inlined]\u001b[39m\n",
      " [4] \u001b[0m\u001b[1mmacro expansion\u001b[22m\n",
      "\u001b[90m   @\u001b[39m \u001b[90m~/Desktop/25 fall cornell/5660/ps2-5660-f25-Bolin925411/\u001b[39m\u001b[90m\u001b[4mPS2-CHEME-5660-Student-LatticeStylizedFacts-RWPM-Fall-2025.ipynb:33\u001b[24m\u001b[39m\u001b[90m [inlined]\u001b[39m\n",
      " [5] \u001b[0m\u001b[1mmacro expansion\u001b[22m\n",
      "\u001b[90m   @\u001b[39m \u001b[90m~/.julia/juliaup/julia-1.11.6+0.aarch64.apple.darwin14/share/julia/stdlib/v1.11/Test/src/\u001b[39m\u001b[90m\u001b[4mTest.jl:1709\u001b[24m\u001b[39m\u001b[90m [inlined]\u001b[39m\n",
      " [6] top-level scope\n",
      "\u001b[90m   @\u001b[39m \u001b[90m~/Desktop/25 fall cornell/5660/ps2-5660-f25-Bolin925411/\u001b[39m\u001b[90m\u001b[4mPS2-CHEME-5660-Student-LatticeStylizedFacts-RWPM-Fall-2025.ipynb:6\u001b[24m\u001b[39m\n",
      "Stylized Facts: \u001b[91m\u001b[1mTest Failed\u001b[22m\u001b[39m at \u001b[39m\u001b[1m/Users/bolinyu/Desktop/25 fall cornell/5660/ps2-5660-f25-Bolin925411/PS2-CHEME-5660-Student-LatticeStylizedFacts-RWPM-Fall-2025.ipynb:35\u001b[22m\n",
      "  Expression: isnothing(does_anderson_darling_test_suggest_normality) == false\n",
      "   Evaluated: true == false\n",
      "\n",
      "Stacktrace:\n",
      " [1] \u001b[0m\u001b[1mmacro expansion\u001b[22m\n",
      "\u001b[90m   @\u001b[39m \u001b[90m~/.julia/juliaup/julia-1.11.6+0.aarch64.apple.darwin14/share/julia/stdlib/v1.11/Test/src/\u001b[39m\u001b[90m\u001b[4mTest.jl:680\u001b[24m\u001b[39m\u001b[90m [inlined]\u001b[39m\n",
      " [2] \u001b[0m\u001b[1mmacro expansion\u001b[22m\n",
      "\u001b[90m   @\u001b[39m \u001b[90m~/Desktop/25 fall cornell/5660/ps2-5660-f25-Bolin925411/\u001b[39m\u001b[90m\u001b[4mPS2-CHEME-5660-Student-LatticeStylizedFacts-RWPM-Fall-2025.ipynb:35\u001b[24m\u001b[39m\u001b[90m [inlined]\u001b[39m\n",
      " [3] \u001b[0m\u001b[1mmacro expansion\u001b[22m\n",
      "\u001b[90m   @\u001b[39m \u001b[90m~/.julia/juliaup/julia-1.11.6+0.aarch64.apple.darwin14/share/julia/stdlib/v1.11/Test/src/\u001b[39m\u001b[90m\u001b[4mTest.jl:1709\u001b[24m\u001b[39m\u001b[90m [inlined]\u001b[39m\n",
      " [4] \u001b[0m\u001b[1mmacro expansion\u001b[22m\n",
      "\u001b[90m   @\u001b[39m \u001b[90m~/Desktop/25 fall cornell/5660/ps2-5660-f25-Bolin925411/\u001b[39m\u001b[90m\u001b[4mPS2-CHEME-5660-Student-LatticeStylizedFacts-RWPM-Fall-2025.ipynb:33\u001b[24m\u001b[39m\u001b[90m [inlined]\u001b[39m\n",
      " [5] \u001b[0m\u001b[1mmacro expansion\u001b[22m\n",
      "\u001b[90m   @\u001b[39m \u001b[90m~/.julia/juliaup/julia-1.11.6+0.aarch64.apple.darwin14/share/julia/stdlib/v1.11/Test/src/\u001b[39m\u001b[90m\u001b[4mTest.jl:1709\u001b[24m\u001b[39m\u001b[90m [inlined]\u001b[39m\n",
      " [6] top-level scope\n",
      "\u001b[90m   @\u001b[39m \u001b[90m~/Desktop/25 fall cornell/5660/ps2-5660-f25-Bolin925411/\u001b[39m\u001b[90m\u001b[4mPS2-CHEME-5660-Student-LatticeStylizedFacts-RWPM-Fall-2025.ipynb:6\u001b[24m\u001b[39m\n",
      "Stylized Facts: \u001b[91m\u001b[1mTest Failed\u001b[22m\u001b[39m at \u001b[39m\u001b[1m/Users/bolinyu/Desktop/25 fall cornell/5660/ps2-5660-f25-Bolin925411/PS2-CHEME-5660-Student-LatticeStylizedFacts-RWPM-Fall-2025.ipynb:36\u001b[22m\n",
      "  Expression: does_anderson_darling_test_suggest_normality == true\n",
      "   Evaluated: nothing == true\n",
      "\n",
      "Stacktrace:\n",
      " [1] \u001b[0m\u001b[1mmacro expansion\u001b[22m\n",
      "\u001b[90m   @\u001b[39m \u001b[90m~/.julia/juliaup/julia-1.11.6+0.aarch64.apple.darwin14/share/julia/stdlib/v1.11/Test/src/\u001b[39m\u001b[90m\u001b[4mTest.jl:680\u001b[24m\u001b[39m\u001b[90m [inlined]\u001b[39m\n",
      " [2] \u001b[0m\u001b[1mmacro expansion\u001b[22m\n",
      "\u001b[90m   @\u001b[39m \u001b[90m~/Desktop/25 fall cornell/5660/ps2-5660-f25-Bolin925411/\u001b[39m\u001b[90m\u001b[4mPS2-CHEME-5660-Student-LatticeStylizedFacts-RWPM-Fall-2025.ipynb:36\u001b[24m\u001b[39m\u001b[90m [inlined]\u001b[39m\n",
      " [3] \u001b[0m\u001b[1mmacro expansion\u001b[22m\n",
      "\u001b[90m   @\u001b[39m \u001b[90m~/.julia/juliaup/julia-1.11.6+0.aarch64.apple.darwin14/share/julia/stdlib/v1.11/Test/src/\u001b[39m\u001b[90m\u001b[4mTest.jl:1709\u001b[24m\u001b[39m\u001b[90m [inlined]\u001b[39m\n",
      " [4] \u001b[0m\u001b[1mmacro expansion\u001b[22m\n",
      "\u001b[90m   @\u001b[39m \u001b[90m~/Desktop/25 fall cornell/5660/ps2-5660-f25-Bolin925411/\u001b[39m\u001b[90m\u001b[4mPS2-CHEME-5660-Student-LatticeStylizedFacts-RWPM-Fall-2025.ipynb:33\u001b[24m\u001b[39m\u001b[90m [inlined]\u001b[39m\n",
      " [5] \u001b[0m\u001b[1mmacro expansion\u001b[22m\n",
      "\u001b[90m   @\u001b[39m \u001b[90m~/.julia/juliaup/julia-1.11.6+0.aarch64.apple.darwin14/share/julia/stdlib/v1.11/Test/src/\u001b[39m\u001b[90m\u001b[4mTest.jl:1709\u001b[24m\u001b[39m\u001b[90m [inlined]\u001b[39m\n",
      " [6] top-level scope\n",
      "\u001b[90m   @\u001b[39m \u001b[90m~/Desktop/25 fall cornell/5660/ps2-5660-f25-Bolin925411/\u001b[39m\u001b[90m\u001b[4mPS2-CHEME-5660-Student-LatticeStylizedFacts-RWPM-Fall-2025.ipynb:6\u001b[24m\u001b[39m\n",
      "\u001b[0m\u001b[1mTest Summary:             | \u001b[22m\u001b[32m\u001b[1mPass  \u001b[22m\u001b[39m\u001b[91m\u001b[1mFail  \u001b[22m\u001b[39m\u001b[91m\u001b[1mError  \u001b[22m\u001b[39m\u001b[36m\u001b[1mTotal  \u001b[22m\u001b[39m\u001b[0m\u001b[1mTime\u001b[22m\n",
      "PS2 CHEME 5660 Test Suite | \u001b[32m   3  \u001b[39m\u001b[91m  10  \u001b[39m\u001b[91m    5  \u001b[39m\u001b[36m   18  \u001b[39m\u001b[0m0.1s\n",
      "  Growth Rate Calculation | \u001b[32m   3  \u001b[39m\u001b[91m   1  \u001b[39m\u001b[91m       \u001b[39m\u001b[36m    4  \u001b[39m\u001b[0m0.0s\n",
      "  Random Test Model       | \u001b[32m      \u001b[39m\u001b[91m   1  \u001b[39m\u001b[91m    3  \u001b[39m\u001b[36m    4  \u001b[39m\u001b[0m0.0s\n",
      "  Figures, Tables and DQs | \u001b[32m      \u001b[39m\u001b[91m   4  \u001b[39m\u001b[91m    2  \u001b[39m\u001b[36m    6  \u001b[39m\u001b[0m0.0s\n",
      "  Stylized Facts          | \u001b[32m      \u001b[39m\u001b[91m   4  \u001b[39m\u001b[91m       \u001b[39m\u001b[36m    4  \u001b[39m\u001b[0m0.0s\n"
     ]
    },
    {
     "ename": "TestSetException",
     "evalue": "Some tests did not pass: 3 passed, 10 failed, 5 errored, 0 broken.",
     "output_type": "error",
     "traceback": [
      "Some tests did not pass: 3 passed, 10 failed, 5 errored, 0 broken.\n",
      "\n",
      "Stacktrace:\n",
      " [1] finish(ts::Test.DefaultTestSet; print_results::Bool)\n",
      "   @ Test ~/.julia/juliaup/julia-1.11.6+0.aarch64.apple.darwin14/share/julia/stdlib/v1.11/Test/src/Test.jl:1259\n",
      " [2] finish(ts::Test.DefaultTestSet)\n",
      "   @ Test ~/.julia/juliaup/julia-1.11.6+0.aarch64.apple.darwin14/share/julia/stdlib/v1.11/Test/src/Test.jl:1234\n",
      " [3] macro expansion\n",
      "   @ ~/.julia/juliaup/julia-1.11.6+0.aarch64.apple.darwin14/share/julia/stdlib/v1.11/Test/src/Test.jl:1725 [inlined]\n",
      " [4] top-level scope\n",
      "   @ ~/Desktop/25 fall cornell/5660/ps2-5660-f25-Bolin925411/PS2-CHEME-5660-Student-LatticeStylizedFacts-RWPM-Fall-2025.ipynb:6"
     ]
    }
   ],
   "source": [
    "@testset verbose=true \"PS2 CHEME 5660 Test Suite\" begin\n",
    "\n",
    "    # simple tests to make sure you completed the assignment.\n",
    "    \n",
    "    # growth rate tests -\n",
    "    @testset verbose = true \"Growth Rate Calculation\" begin\n",
    "        @test isnothing(log_growth_array) == false;\n",
    "        @test isempty(log_growth_array) == false;\n",
    "        @test length(log_growth_array) == (maximum_number_trading_days - 1)\n",
    "        @test is_observed_growth_rate_distribution_normal  == false\n",
    "    end\n",
    "\n",
    "    # model tests -\n",
    "    @testset verbose = true \"Random Test Model\" begin\n",
    "        @test isnothing(random_test_model) == false;\n",
    "        @test isempty(random_test_model.data) == false;\n",
    "        @test isempty(random_test_model.connectivity) == false\n",
    "        @test isempty(random_test_model.levels) == false;\n",
    "    end\n",
    "    \n",
    "    # figure tests -\n",
    "    @testset verbose = true \"Figures, Tables and DQs\" begin\n",
    "        @test do_I_see_price_simulation_figure == true;\n",
    "        @test do_I_see_single_step_growth_rate_distribution_figure == true\n",
    "        @test did_I_answer_discussion_questions_1 == true\n",
    "        @test did_I_answer_discussion_question_2  == true\n",
    "        @test isnothing(was_simulation_successful) == false;\n",
    "        @test was_simulation_successful == true || was_simulation_successful == false;\n",
    "    end\n",
    "\n",
    "    # stylized facts -\n",
    "    @testset verbose = true \"Stylized Facts\" begin\n",
    "        @test isnothing(does_my_autocorrelation_function_vanish) == false\n",
    "        @test does_my_autocorrelation_function_vanish == true\n",
    "        @test isnothing(does_anderson_darling_test_suggest_normality) == false\n",
    "        @test does_anderson_darling_test_suggest_normality == true\n",
    "    end\n",
    "end"
   ]
  },
  {
   "cell_type": "markdown",
   "id": "ab93ec7c",
   "metadata": {},
   "source": [
    "___"
   ]
  },
  {
   "cell_type": "markdown",
   "id": "15cc66d3-ddff-4215-8872-a4558041bdd0",
   "metadata": {},
   "source": [
    "## Disclaimer and Risks\n",
    "__This content is offered solely for training and informational purposes__. No offer or solicitation to buy or sell securities or derivative products, or any investment or trading advice or strategy, is made, given, or endorsed by the teaching team. \n",
    "\n",
    "__Trading involves risk__. Carefully review your financial situation before investing in securities, futures contracts, options, or commodity interests. Past performance, whether actual or indicated by historical tests of strategies, is no guarantee of future performance or success. Trading is generally inappropriate for someone with limited resources, investment or trading experience, or a low-risk tolerance. Only risk capital that is not required for living expenses should be used.\n",
    "\n",
    "__You are fully responsible for any investment or trading decisions you make__. Such decisions should be based solely on evaluating your financial circumstances, investment or trading objectives, risk tolerance, and liquidity needs."
   ]
  }
 ],
 "metadata": {
  "kernelspec": {
   "display_name": "Julia 1.11.6",
   "language": "julia",
   "name": "julia-1.11"
  },
  "language_info": {
   "file_extension": ".jl",
   "mimetype": "application/julia",
   "name": "julia",
   "version": "1.11.6"
  }
 },
 "nbformat": 4,
 "nbformat_minor": 5
}
